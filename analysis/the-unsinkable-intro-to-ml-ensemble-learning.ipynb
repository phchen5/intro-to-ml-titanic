{
 "cells": [
  {
   "cell_type": "markdown",
   "id": "dd856bb5",
   "metadata": {
    "papermill": {
     "duration": 0.064376,
     "end_time": "2023-06-01T01:42:44.901422",
     "exception": false,
     "start_time": "2023-06-01T01:42:44.837046",
     "status": "completed"
    },
    "tags": []
   },
   "source": [
    "# 🚢 The Unsinkable: Intro to ML and Ensemble Learning\n",
    "\n",
    "Hello and welcome to this notebook! Here, we will explore building machine learning models to predict the survival of Titanic passengers. To improve our model's accuracy, we will take an ensemble approach by combining the results of multiple algorithms. So, let's get started!"
   ]
  },
  {
   "cell_type": "markdown",
   "id": "9fb794ea",
   "metadata": {
    "papermill": {
     "duration": 0.061056,
     "end_time": "2023-06-01T01:42:45.022410",
     "exception": false,
     "start_time": "2023-06-01T01:42:44.961354",
     "status": "completed"
    },
    "tags": []
   },
   "source": [
    "# Modules\n",
    "\n",
    "To begin, we need to install the necessary modules and dependencies for this notebook. We will be using `pandas`, `numpy`, and `matplotlib`, which are commonly used in data analysis. Additionally, we will install `seaborn` as it is a user-friendly visualization library. For building our machine learning models, we will be using scikit-learn (`sklearn`), which contains a wide range of models. Finally, we will also install `scipy` for performing hypothesis tests to examine relationships between variables."
   ]
  },
  {
   "cell_type": "code",
   "execution_count": 1,
   "id": "f75327b8",
   "metadata": {
    "_cell_guid": "b1076dfc-b9ad-4769-8c92-a6c4dae69d19",
    "_uuid": "8f2839f25d086af736a60e9eeb907d3b93b6e0e5",
    "execution": {
     "iopub.execute_input": "2023-06-01T01:42:45.148019Z",
     "iopub.status.busy": "2023-06-01T01:42:45.146206Z",
     "iopub.status.idle": "2023-06-01T01:42:46.671141Z",
     "shell.execute_reply": "2023-06-01T01:42:46.670188Z",
     "shell.execute_reply.started": "2023-06-01T01:30:17.149403Z"
    },
    "papermill": {
     "duration": 1.589271,
     "end_time": "2023-06-01T01:42:46.671319",
     "exception": false,
     "start_time": "2023-06-01T01:42:45.082048",
     "status": "completed"
    },
    "tags": []
   },
   "outputs": [],
   "source": [
    "#import modules\n",
    "import pandas as pd\n",
    "import matplotlib.pyplot as plt\n",
    "import numpy as np\n",
    "import seaborn as sns\n",
    "sns.set_style('darkgrid')\n",
    "\n",
    "#for statistical test\n",
    "import scipy.stats as ss\n",
    "\n",
    "#sklearn\n",
    "from sklearn.model_selection import StratifiedKFold, cross_val_score, GridSearchCV\n",
    "\n",
    "#sklearn models\n",
    "from sklearn.linear_model import LogisticRegression\n",
    "from sklearn.tree import DecisionTreeClassifier\n",
    "from sklearn.ensemble import RandomForestClassifier, GradientBoostingClassifier, AdaBoostClassifier, VotingClassifier\n",
    "from sklearn.naive_bayes import GaussianNB\n",
    "from sklearn.svm import SVC\n",
    "from sklearn.neighbors import KNeighborsClassifier"
   ]
  },
  {
   "cell_type": "markdown",
   "id": "78f1d34b",
   "metadata": {
    "papermill": {
     "duration": 0.059167,
     "end_time": "2023-06-01T01:42:46.793520",
     "exception": false,
     "start_time": "2023-06-01T01:42:46.734353",
     "status": "completed"
    },
    "tags": []
   },
   "source": [
    "# Dataset\n",
    "\n",
    "Great! Now that we have installed our necessary dependencies, let's take a look at the dataset. Fortunately, the dataset has already been separated into training and testing sets for us, which is very convenient."
   ]
  },
  {
   "cell_type": "code",
   "execution_count": 2,
   "id": "340b4ee3",
   "metadata": {
    "execution": {
     "iopub.execute_input": "2023-06-01T01:42:46.918421Z",
     "iopub.status.busy": "2023-06-01T01:42:46.917671Z",
     "iopub.status.idle": "2023-06-01T01:42:46.947009Z",
     "shell.execute_reply": "2023-06-01T01:42:46.947641Z",
     "shell.execute_reply.started": "2023-06-01T01:30:18.694361Z"
    },
    "papermill": {
     "duration": 0.093852,
     "end_time": "2023-06-01T01:42:46.947846",
     "exception": false,
     "start_time": "2023-06-01T01:42:46.853994",
     "status": "completed"
    },
    "tags": []
   },
   "outputs": [],
   "source": [
    "#read the training and testing dataset\n",
    "train_data = pd.read_csv(\"../data/train.csv\")\n",
    "test_data = pd.read_csv(\"../data/test.csv\")"
   ]
  },
  {
   "cell_type": "code",
   "execution_count": 3,
   "id": "6e72e49a",
   "metadata": {
    "execution": {
     "iopub.execute_input": "2023-06-01T01:42:47.074003Z",
     "iopub.status.busy": "2023-06-01T01:42:47.072957Z",
     "iopub.status.idle": "2023-06-01T01:42:47.107705Z",
     "shell.execute_reply": "2023-06-01T01:42:47.108229Z",
     "shell.execute_reply.started": "2023-06-01T01:30:18.729068Z"
    },
    "papermill": {
     "duration": 0.100223,
     "end_time": "2023-06-01T01:42:47.108408",
     "exception": false,
     "start_time": "2023-06-01T01:42:47.008185",
     "status": "completed"
    },
    "tags": []
   },
   "outputs": [
    {
     "data": {
      "text/html": [
       "<div>\n",
       "<style scoped>\n",
       "    .dataframe tbody tr th:only-of-type {\n",
       "        vertical-align: middle;\n",
       "    }\n",
       "\n",
       "    .dataframe tbody tr th {\n",
       "        vertical-align: top;\n",
       "    }\n",
       "\n",
       "    .dataframe thead th {\n",
       "        text-align: right;\n",
       "    }\n",
       "</style>\n",
       "<table border=\"1\" class=\"dataframe\">\n",
       "  <thead>\n",
       "    <tr style=\"text-align: right;\">\n",
       "      <th></th>\n",
       "      <th>PassengerId</th>\n",
       "      <th>Survived</th>\n",
       "      <th>Pclass</th>\n",
       "      <th>Name</th>\n",
       "      <th>Sex</th>\n",
       "      <th>Age</th>\n",
       "      <th>SibSp</th>\n",
       "      <th>Parch</th>\n",
       "      <th>Ticket</th>\n",
       "      <th>Fare</th>\n",
       "      <th>Cabin</th>\n",
       "      <th>Embarked</th>\n",
       "    </tr>\n",
       "  </thead>\n",
       "  <tbody>\n",
       "    <tr>\n",
       "      <th>0</th>\n",
       "      <td>1</td>\n",
       "      <td>0</td>\n",
       "      <td>3</td>\n",
       "      <td>Braund, Mr. Owen Harris</td>\n",
       "      <td>male</td>\n",
       "      <td>22.0</td>\n",
       "      <td>1</td>\n",
       "      <td>0</td>\n",
       "      <td>A/5 21171</td>\n",
       "      <td>7.2500</td>\n",
       "      <td>NaN</td>\n",
       "      <td>S</td>\n",
       "    </tr>\n",
       "    <tr>\n",
       "      <th>1</th>\n",
       "      <td>2</td>\n",
       "      <td>1</td>\n",
       "      <td>1</td>\n",
       "      <td>Cumings, Mrs. John Bradley (Florence Briggs Th...</td>\n",
       "      <td>female</td>\n",
       "      <td>38.0</td>\n",
       "      <td>1</td>\n",
       "      <td>0</td>\n",
       "      <td>PC 17599</td>\n",
       "      <td>71.2833</td>\n",
       "      <td>C85</td>\n",
       "      <td>C</td>\n",
       "    </tr>\n",
       "    <tr>\n",
       "      <th>2</th>\n",
       "      <td>3</td>\n",
       "      <td>1</td>\n",
       "      <td>3</td>\n",
       "      <td>Heikkinen, Miss. Laina</td>\n",
       "      <td>female</td>\n",
       "      <td>26.0</td>\n",
       "      <td>0</td>\n",
       "      <td>0</td>\n",
       "      <td>STON/O2. 3101282</td>\n",
       "      <td>7.9250</td>\n",
       "      <td>NaN</td>\n",
       "      <td>S</td>\n",
       "    </tr>\n",
       "    <tr>\n",
       "      <th>3</th>\n",
       "      <td>4</td>\n",
       "      <td>1</td>\n",
       "      <td>1</td>\n",
       "      <td>Futrelle, Mrs. Jacques Heath (Lily May Peel)</td>\n",
       "      <td>female</td>\n",
       "      <td>35.0</td>\n",
       "      <td>1</td>\n",
       "      <td>0</td>\n",
       "      <td>113803</td>\n",
       "      <td>53.1000</td>\n",
       "      <td>C123</td>\n",
       "      <td>S</td>\n",
       "    </tr>\n",
       "    <tr>\n",
       "      <th>4</th>\n",
       "      <td>5</td>\n",
       "      <td>0</td>\n",
       "      <td>3</td>\n",
       "      <td>Allen, Mr. William Henry</td>\n",
       "      <td>male</td>\n",
       "      <td>35.0</td>\n",
       "      <td>0</td>\n",
       "      <td>0</td>\n",
       "      <td>373450</td>\n",
       "      <td>8.0500</td>\n",
       "      <td>NaN</td>\n",
       "      <td>S</td>\n",
       "    </tr>\n",
       "    <tr>\n",
       "      <th>...</th>\n",
       "      <td>...</td>\n",
       "      <td>...</td>\n",
       "      <td>...</td>\n",
       "      <td>...</td>\n",
       "      <td>...</td>\n",
       "      <td>...</td>\n",
       "      <td>...</td>\n",
       "      <td>...</td>\n",
       "      <td>...</td>\n",
       "      <td>...</td>\n",
       "      <td>...</td>\n",
       "      <td>...</td>\n",
       "    </tr>\n",
       "    <tr>\n",
       "      <th>886</th>\n",
       "      <td>887</td>\n",
       "      <td>0</td>\n",
       "      <td>2</td>\n",
       "      <td>Montvila, Rev. Juozas</td>\n",
       "      <td>male</td>\n",
       "      <td>27.0</td>\n",
       "      <td>0</td>\n",
       "      <td>0</td>\n",
       "      <td>211536</td>\n",
       "      <td>13.0000</td>\n",
       "      <td>NaN</td>\n",
       "      <td>S</td>\n",
       "    </tr>\n",
       "    <tr>\n",
       "      <th>887</th>\n",
       "      <td>888</td>\n",
       "      <td>1</td>\n",
       "      <td>1</td>\n",
       "      <td>Graham, Miss. Margaret Edith</td>\n",
       "      <td>female</td>\n",
       "      <td>19.0</td>\n",
       "      <td>0</td>\n",
       "      <td>0</td>\n",
       "      <td>112053</td>\n",
       "      <td>30.0000</td>\n",
       "      <td>B42</td>\n",
       "      <td>S</td>\n",
       "    </tr>\n",
       "    <tr>\n",
       "      <th>888</th>\n",
       "      <td>889</td>\n",
       "      <td>0</td>\n",
       "      <td>3</td>\n",
       "      <td>Johnston, Miss. Catherine Helen \"Carrie\"</td>\n",
       "      <td>female</td>\n",
       "      <td>NaN</td>\n",
       "      <td>1</td>\n",
       "      <td>2</td>\n",
       "      <td>W./C. 6607</td>\n",
       "      <td>23.4500</td>\n",
       "      <td>NaN</td>\n",
       "      <td>S</td>\n",
       "    </tr>\n",
       "    <tr>\n",
       "      <th>889</th>\n",
       "      <td>890</td>\n",
       "      <td>1</td>\n",
       "      <td>1</td>\n",
       "      <td>Behr, Mr. Karl Howell</td>\n",
       "      <td>male</td>\n",
       "      <td>26.0</td>\n",
       "      <td>0</td>\n",
       "      <td>0</td>\n",
       "      <td>111369</td>\n",
       "      <td>30.0000</td>\n",
       "      <td>C148</td>\n",
       "      <td>C</td>\n",
       "    </tr>\n",
       "    <tr>\n",
       "      <th>890</th>\n",
       "      <td>891</td>\n",
       "      <td>0</td>\n",
       "      <td>3</td>\n",
       "      <td>Dooley, Mr. Patrick</td>\n",
       "      <td>male</td>\n",
       "      <td>32.0</td>\n",
       "      <td>0</td>\n",
       "      <td>0</td>\n",
       "      <td>370376</td>\n",
       "      <td>7.7500</td>\n",
       "      <td>NaN</td>\n",
       "      <td>Q</td>\n",
       "    </tr>\n",
       "  </tbody>\n",
       "</table>\n",
       "<p>891 rows × 12 columns</p>\n",
       "</div>"
      ],
      "text/plain": [
       "     PassengerId  Survived  Pclass  \\\n",
       "0              1         0       3   \n",
       "1              2         1       1   \n",
       "2              3         1       3   \n",
       "3              4         1       1   \n",
       "4              5         0       3   \n",
       "..           ...       ...     ...   \n",
       "886          887         0       2   \n",
       "887          888         1       1   \n",
       "888          889         0       3   \n",
       "889          890         1       1   \n",
       "890          891         0       3   \n",
       "\n",
       "                                                  Name     Sex   Age  SibSp  \\\n",
       "0                              Braund, Mr. Owen Harris    male  22.0      1   \n",
       "1    Cumings, Mrs. John Bradley (Florence Briggs Th...  female  38.0      1   \n",
       "2                               Heikkinen, Miss. Laina  female  26.0      0   \n",
       "3         Futrelle, Mrs. Jacques Heath (Lily May Peel)  female  35.0      1   \n",
       "4                             Allen, Mr. William Henry    male  35.0      0   \n",
       "..                                                 ...     ...   ...    ...   \n",
       "886                              Montvila, Rev. Juozas    male  27.0      0   \n",
       "887                       Graham, Miss. Margaret Edith  female  19.0      0   \n",
       "888           Johnston, Miss. Catherine Helen \"Carrie\"  female   NaN      1   \n",
       "889                              Behr, Mr. Karl Howell    male  26.0      0   \n",
       "890                                Dooley, Mr. Patrick    male  32.0      0   \n",
       "\n",
       "     Parch            Ticket     Fare Cabin Embarked  \n",
       "0        0         A/5 21171   7.2500   NaN        S  \n",
       "1        0          PC 17599  71.2833   C85        C  \n",
       "2        0  STON/O2. 3101282   7.9250   NaN        S  \n",
       "3        0            113803  53.1000  C123        S  \n",
       "4        0            373450   8.0500   NaN        S  \n",
       "..     ...               ...      ...   ...      ...  \n",
       "886      0            211536  13.0000   NaN        S  \n",
       "887      0            112053  30.0000   B42        S  \n",
       "888      2        W./C. 6607  23.4500   NaN        S  \n",
       "889      0            111369  30.0000  C148        C  \n",
       "890      0            370376   7.7500   NaN        Q  \n",
       "\n",
       "[891 rows x 12 columns]"
      ]
     },
     "execution_count": 3,
     "metadata": {},
     "output_type": "execute_result"
    }
   ],
   "source": [
    "train_data"
   ]
  },
  {
   "cell_type": "code",
   "execution_count": 4,
   "id": "e3fdd74a",
   "metadata": {
    "execution": {
     "iopub.execute_input": "2023-06-01T01:42:47.235975Z",
     "iopub.status.busy": "2023-06-01T01:42:47.235272Z",
     "iopub.status.idle": "2023-06-01T01:42:47.256391Z",
     "shell.execute_reply": "2023-06-01T01:42:47.256988Z",
     "shell.execute_reply.started": "2023-06-01T01:30:18.772653Z"
    },
    "papermill": {
     "duration": 0.087252,
     "end_time": "2023-06-01T01:42:47.257200",
     "exception": false,
     "start_time": "2023-06-01T01:42:47.169948",
     "status": "completed"
    },
    "tags": []
   },
   "outputs": [
    {
     "data": {
      "text/html": [
       "<div>\n",
       "<style scoped>\n",
       "    .dataframe tbody tr th:only-of-type {\n",
       "        vertical-align: middle;\n",
       "    }\n",
       "\n",
       "    .dataframe tbody tr th {\n",
       "        vertical-align: top;\n",
       "    }\n",
       "\n",
       "    .dataframe thead th {\n",
       "        text-align: right;\n",
       "    }\n",
       "</style>\n",
       "<table border=\"1\" class=\"dataframe\">\n",
       "  <thead>\n",
       "    <tr style=\"text-align: right;\">\n",
       "      <th></th>\n",
       "      <th>PassengerId</th>\n",
       "      <th>Pclass</th>\n",
       "      <th>Name</th>\n",
       "      <th>Sex</th>\n",
       "      <th>Age</th>\n",
       "      <th>SibSp</th>\n",
       "      <th>Parch</th>\n",
       "      <th>Ticket</th>\n",
       "      <th>Fare</th>\n",
       "      <th>Cabin</th>\n",
       "      <th>Embarked</th>\n",
       "    </tr>\n",
       "  </thead>\n",
       "  <tbody>\n",
       "    <tr>\n",
       "      <th>0</th>\n",
       "      <td>892</td>\n",
       "      <td>3</td>\n",
       "      <td>Kelly, Mr. James</td>\n",
       "      <td>male</td>\n",
       "      <td>34.5</td>\n",
       "      <td>0</td>\n",
       "      <td>0</td>\n",
       "      <td>330911</td>\n",
       "      <td>7.8292</td>\n",
       "      <td>NaN</td>\n",
       "      <td>Q</td>\n",
       "    </tr>\n",
       "    <tr>\n",
       "      <th>1</th>\n",
       "      <td>893</td>\n",
       "      <td>3</td>\n",
       "      <td>Wilkes, Mrs. James (Ellen Needs)</td>\n",
       "      <td>female</td>\n",
       "      <td>47.0</td>\n",
       "      <td>1</td>\n",
       "      <td>0</td>\n",
       "      <td>363272</td>\n",
       "      <td>7.0000</td>\n",
       "      <td>NaN</td>\n",
       "      <td>S</td>\n",
       "    </tr>\n",
       "    <tr>\n",
       "      <th>2</th>\n",
       "      <td>894</td>\n",
       "      <td>2</td>\n",
       "      <td>Myles, Mr. Thomas Francis</td>\n",
       "      <td>male</td>\n",
       "      <td>62.0</td>\n",
       "      <td>0</td>\n",
       "      <td>0</td>\n",
       "      <td>240276</td>\n",
       "      <td>9.6875</td>\n",
       "      <td>NaN</td>\n",
       "      <td>Q</td>\n",
       "    </tr>\n",
       "    <tr>\n",
       "      <th>3</th>\n",
       "      <td>895</td>\n",
       "      <td>3</td>\n",
       "      <td>Wirz, Mr. Albert</td>\n",
       "      <td>male</td>\n",
       "      <td>27.0</td>\n",
       "      <td>0</td>\n",
       "      <td>0</td>\n",
       "      <td>315154</td>\n",
       "      <td>8.6625</td>\n",
       "      <td>NaN</td>\n",
       "      <td>S</td>\n",
       "    </tr>\n",
       "    <tr>\n",
       "      <th>4</th>\n",
       "      <td>896</td>\n",
       "      <td>3</td>\n",
       "      <td>Hirvonen, Mrs. Alexander (Helga E Lindqvist)</td>\n",
       "      <td>female</td>\n",
       "      <td>22.0</td>\n",
       "      <td>1</td>\n",
       "      <td>1</td>\n",
       "      <td>3101298</td>\n",
       "      <td>12.2875</td>\n",
       "      <td>NaN</td>\n",
       "      <td>S</td>\n",
       "    </tr>\n",
       "    <tr>\n",
       "      <th>...</th>\n",
       "      <td>...</td>\n",
       "      <td>...</td>\n",
       "      <td>...</td>\n",
       "      <td>...</td>\n",
       "      <td>...</td>\n",
       "      <td>...</td>\n",
       "      <td>...</td>\n",
       "      <td>...</td>\n",
       "      <td>...</td>\n",
       "      <td>...</td>\n",
       "      <td>...</td>\n",
       "    </tr>\n",
       "    <tr>\n",
       "      <th>413</th>\n",
       "      <td>1305</td>\n",
       "      <td>3</td>\n",
       "      <td>Spector, Mr. Woolf</td>\n",
       "      <td>male</td>\n",
       "      <td>NaN</td>\n",
       "      <td>0</td>\n",
       "      <td>0</td>\n",
       "      <td>A.5. 3236</td>\n",
       "      <td>8.0500</td>\n",
       "      <td>NaN</td>\n",
       "      <td>S</td>\n",
       "    </tr>\n",
       "    <tr>\n",
       "      <th>414</th>\n",
       "      <td>1306</td>\n",
       "      <td>1</td>\n",
       "      <td>Oliva y Ocana, Dona. Fermina</td>\n",
       "      <td>female</td>\n",
       "      <td>39.0</td>\n",
       "      <td>0</td>\n",
       "      <td>0</td>\n",
       "      <td>PC 17758</td>\n",
       "      <td>108.9000</td>\n",
       "      <td>C105</td>\n",
       "      <td>C</td>\n",
       "    </tr>\n",
       "    <tr>\n",
       "      <th>415</th>\n",
       "      <td>1307</td>\n",
       "      <td>3</td>\n",
       "      <td>Saether, Mr. Simon Sivertsen</td>\n",
       "      <td>male</td>\n",
       "      <td>38.5</td>\n",
       "      <td>0</td>\n",
       "      <td>0</td>\n",
       "      <td>SOTON/O.Q. 3101262</td>\n",
       "      <td>7.2500</td>\n",
       "      <td>NaN</td>\n",
       "      <td>S</td>\n",
       "    </tr>\n",
       "    <tr>\n",
       "      <th>416</th>\n",
       "      <td>1308</td>\n",
       "      <td>3</td>\n",
       "      <td>Ware, Mr. Frederick</td>\n",
       "      <td>male</td>\n",
       "      <td>NaN</td>\n",
       "      <td>0</td>\n",
       "      <td>0</td>\n",
       "      <td>359309</td>\n",
       "      <td>8.0500</td>\n",
       "      <td>NaN</td>\n",
       "      <td>S</td>\n",
       "    </tr>\n",
       "    <tr>\n",
       "      <th>417</th>\n",
       "      <td>1309</td>\n",
       "      <td>3</td>\n",
       "      <td>Peter, Master. Michael J</td>\n",
       "      <td>male</td>\n",
       "      <td>NaN</td>\n",
       "      <td>1</td>\n",
       "      <td>1</td>\n",
       "      <td>2668</td>\n",
       "      <td>22.3583</td>\n",
       "      <td>NaN</td>\n",
       "      <td>C</td>\n",
       "    </tr>\n",
       "  </tbody>\n",
       "</table>\n",
       "<p>418 rows × 11 columns</p>\n",
       "</div>"
      ],
      "text/plain": [
       "     PassengerId  Pclass                                          Name  \\\n",
       "0            892       3                              Kelly, Mr. James   \n",
       "1            893       3              Wilkes, Mrs. James (Ellen Needs)   \n",
       "2            894       2                     Myles, Mr. Thomas Francis   \n",
       "3            895       3                              Wirz, Mr. Albert   \n",
       "4            896       3  Hirvonen, Mrs. Alexander (Helga E Lindqvist)   \n",
       "..           ...     ...                                           ...   \n",
       "413         1305       3                            Spector, Mr. Woolf   \n",
       "414         1306       1                  Oliva y Ocana, Dona. Fermina   \n",
       "415         1307       3                  Saether, Mr. Simon Sivertsen   \n",
       "416         1308       3                           Ware, Mr. Frederick   \n",
       "417         1309       3                      Peter, Master. Michael J   \n",
       "\n",
       "        Sex   Age  SibSp  Parch              Ticket      Fare Cabin Embarked  \n",
       "0      male  34.5      0      0              330911    7.8292   NaN        Q  \n",
       "1    female  47.0      1      0              363272    7.0000   NaN        S  \n",
       "2      male  62.0      0      0              240276    9.6875   NaN        Q  \n",
       "3      male  27.0      0      0              315154    8.6625   NaN        S  \n",
       "4    female  22.0      1      1             3101298   12.2875   NaN        S  \n",
       "..      ...   ...    ...    ...                 ...       ...   ...      ...  \n",
       "413    male   NaN      0      0           A.5. 3236    8.0500   NaN        S  \n",
       "414  female  39.0      0      0            PC 17758  108.9000  C105        C  \n",
       "415    male  38.5      0      0  SOTON/O.Q. 3101262    7.2500   NaN        S  \n",
       "416    male   NaN      0      0              359309    8.0500   NaN        S  \n",
       "417    male   NaN      1      1                2668   22.3583   NaN        C  \n",
       "\n",
       "[418 rows x 11 columns]"
      ]
     },
     "execution_count": 4,
     "metadata": {},
     "output_type": "execute_result"
    }
   ],
   "source": [
    "test_data"
   ]
  },
  {
   "cell_type": "markdown",
   "id": "24daaf64",
   "metadata": {
    "papermill": {
     "duration": 0.062632,
     "end_time": "2023-06-01T01:42:47.380932",
     "exception": false,
     "start_time": "2023-06-01T01:42:47.318300",
     "status": "completed"
    },
    "tags": []
   },
   "source": [
    "It's important to acknowledge that our dataset is relatively small, with only 891 samples in the training set and 418 samples in the testing set. Small datasets may not contain enough information for models to learn effectively, which could impact their accuracy. However, we will focus on the learning process and do our best to create accurate models.\n",
    "\n",
    "The dataset contains 12 variables, with the testing dataset missing the target variable *Survived*. The variables are fairly self-explanatory, but let's clarify them anyways.\n",
    "\n",
    "* *PassengerID*: The unique ID of each passenger (the key of the dataset)\n",
    "* *Survived*: Whether the passenger survived the Titanic tragedy or not\n",
    "* *Pclass*: The ticket class (1st, 2nd, or 3rd)\n",
    "* *Name*: The name of the passenger\n",
    "* *Sex*: The sex of the passenger\n",
    "* *Age*: The age of the passenger\n",
    "* *SibSp*: The number of siblings/spouses aboard the Titanic\n",
    "* *Parch*: The number of parents/children aboard the Titanic\n",
    "* *Ticket*: The ticket number\n",
    "* *Fare*: The passenger fare\n",
    "* *Cabin*: The cabin number\n",
    "* *Embarked*: The port of embarkation\n",
    "\n",
    "Some variables, such as *Sex* and *Age*, will likely play a significant role in predicting survival, as women and children were given priority during the evacuation. Now, let's perform some preliminary preprocessing to prepare our data for analysis."
   ]
  },
  {
   "cell_type": "markdown",
   "id": "e3acbc7c",
   "metadata": {
    "papermill": {
     "duration": 0.061235,
     "end_time": "2023-06-01T01:42:47.503357",
     "exception": false,
     "start_time": "2023-06-01T01:42:47.442122",
     "status": "completed"
    },
    "tags": []
   },
   "source": [
    "# Preliminary Preprocessing\n",
    "\n",
    "To ensure that our categorical variables are encoded consistently, let's concatenate the training and testing datasets together. This will allow us to apply the same transformations to both datasets consistently."
   ]
  },
  {
   "cell_type": "code",
   "execution_count": 5,
   "id": "8afd73b4",
   "metadata": {
    "execution": {
     "iopub.execute_input": "2023-06-01T01:42:47.637331Z",
     "iopub.status.busy": "2023-06-01T01:42:47.636572Z",
     "iopub.status.idle": "2023-06-01T01:42:47.662120Z",
     "shell.execute_reply": "2023-06-01T01:42:47.662715Z",
     "shell.execute_reply.started": "2023-06-01T01:30:18.803923Z"
    },
    "papermill": {
     "duration": 0.096488,
     "end_time": "2023-06-01T01:42:47.662905",
     "exception": false,
     "start_time": "2023-06-01T01:42:47.566417",
     "status": "completed"
    },
    "tags": []
   },
   "outputs": [
    {
     "data": {
      "text/html": [
       "<div>\n",
       "<style scoped>\n",
       "    .dataframe tbody tr th:only-of-type {\n",
       "        vertical-align: middle;\n",
       "    }\n",
       "\n",
       "    .dataframe tbody tr th {\n",
       "        vertical-align: top;\n",
       "    }\n",
       "\n",
       "    .dataframe thead th {\n",
       "        text-align: right;\n",
       "    }\n",
       "</style>\n",
       "<table border=\"1\" class=\"dataframe\">\n",
       "  <thead>\n",
       "    <tr style=\"text-align: right;\">\n",
       "      <th></th>\n",
       "      <th>PassengerId</th>\n",
       "      <th>Survived</th>\n",
       "      <th>Pclass</th>\n",
       "      <th>Name</th>\n",
       "      <th>Sex</th>\n",
       "      <th>Age</th>\n",
       "      <th>SibSp</th>\n",
       "      <th>Parch</th>\n",
       "      <th>Ticket</th>\n",
       "      <th>Fare</th>\n",
       "      <th>Cabin</th>\n",
       "      <th>Embarked</th>\n",
       "    </tr>\n",
       "  </thead>\n",
       "  <tbody>\n",
       "    <tr>\n",
       "      <th>0</th>\n",
       "      <td>1</td>\n",
       "      <td>0.0</td>\n",
       "      <td>3</td>\n",
       "      <td>Braund, Mr. Owen Harris</td>\n",
       "      <td>male</td>\n",
       "      <td>22.0</td>\n",
       "      <td>1</td>\n",
       "      <td>0</td>\n",
       "      <td>A/5 21171</td>\n",
       "      <td>7.2500</td>\n",
       "      <td>NaN</td>\n",
       "      <td>S</td>\n",
       "    </tr>\n",
       "    <tr>\n",
       "      <th>1</th>\n",
       "      <td>2</td>\n",
       "      <td>1.0</td>\n",
       "      <td>1</td>\n",
       "      <td>Cumings, Mrs. John Bradley (Florence Briggs Th...</td>\n",
       "      <td>female</td>\n",
       "      <td>38.0</td>\n",
       "      <td>1</td>\n",
       "      <td>0</td>\n",
       "      <td>PC 17599</td>\n",
       "      <td>71.2833</td>\n",
       "      <td>C85</td>\n",
       "      <td>C</td>\n",
       "    </tr>\n",
       "    <tr>\n",
       "      <th>2</th>\n",
       "      <td>3</td>\n",
       "      <td>1.0</td>\n",
       "      <td>3</td>\n",
       "      <td>Heikkinen, Miss. Laina</td>\n",
       "      <td>female</td>\n",
       "      <td>26.0</td>\n",
       "      <td>0</td>\n",
       "      <td>0</td>\n",
       "      <td>STON/O2. 3101282</td>\n",
       "      <td>7.9250</td>\n",
       "      <td>NaN</td>\n",
       "      <td>S</td>\n",
       "    </tr>\n",
       "    <tr>\n",
       "      <th>3</th>\n",
       "      <td>4</td>\n",
       "      <td>1.0</td>\n",
       "      <td>1</td>\n",
       "      <td>Futrelle, Mrs. Jacques Heath (Lily May Peel)</td>\n",
       "      <td>female</td>\n",
       "      <td>35.0</td>\n",
       "      <td>1</td>\n",
       "      <td>0</td>\n",
       "      <td>113803</td>\n",
       "      <td>53.1000</td>\n",
       "      <td>C123</td>\n",
       "      <td>S</td>\n",
       "    </tr>\n",
       "    <tr>\n",
       "      <th>4</th>\n",
       "      <td>5</td>\n",
       "      <td>0.0</td>\n",
       "      <td>3</td>\n",
       "      <td>Allen, Mr. William Henry</td>\n",
       "      <td>male</td>\n",
       "      <td>35.0</td>\n",
       "      <td>0</td>\n",
       "      <td>0</td>\n",
       "      <td>373450</td>\n",
       "      <td>8.0500</td>\n",
       "      <td>NaN</td>\n",
       "      <td>S</td>\n",
       "    </tr>\n",
       "    <tr>\n",
       "      <th>...</th>\n",
       "      <td>...</td>\n",
       "      <td>...</td>\n",
       "      <td>...</td>\n",
       "      <td>...</td>\n",
       "      <td>...</td>\n",
       "      <td>...</td>\n",
       "      <td>...</td>\n",
       "      <td>...</td>\n",
       "      <td>...</td>\n",
       "      <td>...</td>\n",
       "      <td>...</td>\n",
       "      <td>...</td>\n",
       "    </tr>\n",
       "    <tr>\n",
       "      <th>1304</th>\n",
       "      <td>1305</td>\n",
       "      <td>NaN</td>\n",
       "      <td>3</td>\n",
       "      <td>Spector, Mr. Woolf</td>\n",
       "      <td>male</td>\n",
       "      <td>NaN</td>\n",
       "      <td>0</td>\n",
       "      <td>0</td>\n",
       "      <td>A.5. 3236</td>\n",
       "      <td>8.0500</td>\n",
       "      <td>NaN</td>\n",
       "      <td>S</td>\n",
       "    </tr>\n",
       "    <tr>\n",
       "      <th>1305</th>\n",
       "      <td>1306</td>\n",
       "      <td>NaN</td>\n",
       "      <td>1</td>\n",
       "      <td>Oliva y Ocana, Dona. Fermina</td>\n",
       "      <td>female</td>\n",
       "      <td>39.0</td>\n",
       "      <td>0</td>\n",
       "      <td>0</td>\n",
       "      <td>PC 17758</td>\n",
       "      <td>108.9000</td>\n",
       "      <td>C105</td>\n",
       "      <td>C</td>\n",
       "    </tr>\n",
       "    <tr>\n",
       "      <th>1306</th>\n",
       "      <td>1307</td>\n",
       "      <td>NaN</td>\n",
       "      <td>3</td>\n",
       "      <td>Saether, Mr. Simon Sivertsen</td>\n",
       "      <td>male</td>\n",
       "      <td>38.5</td>\n",
       "      <td>0</td>\n",
       "      <td>0</td>\n",
       "      <td>SOTON/O.Q. 3101262</td>\n",
       "      <td>7.2500</td>\n",
       "      <td>NaN</td>\n",
       "      <td>S</td>\n",
       "    </tr>\n",
       "    <tr>\n",
       "      <th>1307</th>\n",
       "      <td>1308</td>\n",
       "      <td>NaN</td>\n",
       "      <td>3</td>\n",
       "      <td>Ware, Mr. Frederick</td>\n",
       "      <td>male</td>\n",
       "      <td>NaN</td>\n",
       "      <td>0</td>\n",
       "      <td>0</td>\n",
       "      <td>359309</td>\n",
       "      <td>8.0500</td>\n",
       "      <td>NaN</td>\n",
       "      <td>S</td>\n",
       "    </tr>\n",
       "    <tr>\n",
       "      <th>1308</th>\n",
       "      <td>1309</td>\n",
       "      <td>NaN</td>\n",
       "      <td>3</td>\n",
       "      <td>Peter, Master. Michael J</td>\n",
       "      <td>male</td>\n",
       "      <td>NaN</td>\n",
       "      <td>1</td>\n",
       "      <td>1</td>\n",
       "      <td>2668</td>\n",
       "      <td>22.3583</td>\n",
       "      <td>NaN</td>\n",
       "      <td>C</td>\n",
       "    </tr>\n",
       "  </tbody>\n",
       "</table>\n",
       "<p>1309 rows × 12 columns</p>\n",
       "</div>"
      ],
      "text/plain": [
       "      PassengerId  Survived  Pclass  \\\n",
       "0               1       0.0       3   \n",
       "1               2       1.0       1   \n",
       "2               3       1.0       3   \n",
       "3               4       1.0       1   \n",
       "4               5       0.0       3   \n",
       "...           ...       ...     ...   \n",
       "1304         1305       NaN       3   \n",
       "1305         1306       NaN       1   \n",
       "1306         1307       NaN       3   \n",
       "1307         1308       NaN       3   \n",
       "1308         1309       NaN       3   \n",
       "\n",
       "                                                   Name     Sex   Age  SibSp  \\\n",
       "0                               Braund, Mr. Owen Harris    male  22.0      1   \n",
       "1     Cumings, Mrs. John Bradley (Florence Briggs Th...  female  38.0      1   \n",
       "2                                Heikkinen, Miss. Laina  female  26.0      0   \n",
       "3          Futrelle, Mrs. Jacques Heath (Lily May Peel)  female  35.0      1   \n",
       "4                              Allen, Mr. William Henry    male  35.0      0   \n",
       "...                                                 ...     ...   ...    ...   \n",
       "1304                                 Spector, Mr. Woolf    male   NaN      0   \n",
       "1305                       Oliva y Ocana, Dona. Fermina  female  39.0      0   \n",
       "1306                       Saether, Mr. Simon Sivertsen    male  38.5      0   \n",
       "1307                                Ware, Mr. Frederick    male   NaN      0   \n",
       "1308                           Peter, Master. Michael J    male   NaN      1   \n",
       "\n",
       "      Parch              Ticket      Fare Cabin Embarked  \n",
       "0         0           A/5 21171    7.2500   NaN        S  \n",
       "1         0            PC 17599   71.2833   C85        C  \n",
       "2         0    STON/O2. 3101282    7.9250   NaN        S  \n",
       "3         0              113803   53.1000  C123        S  \n",
       "4         0              373450    8.0500   NaN        S  \n",
       "...     ...                 ...       ...   ...      ...  \n",
       "1304      0           A.5. 3236    8.0500   NaN        S  \n",
       "1305      0            PC 17758  108.9000  C105        C  \n",
       "1306      0  SOTON/O.Q. 3101262    7.2500   NaN        S  \n",
       "1307      0              359309    8.0500   NaN        S  \n",
       "1308      1                2668   22.3583   NaN        C  \n",
       "\n",
       "[1309 rows x 12 columns]"
      ]
     },
     "execution_count": 5,
     "metadata": {},
     "output_type": "execute_result"
    }
   ],
   "source": [
    "data =  pd.concat(objs=[train_data, test_data], axis=0).reset_index(drop=True)\n",
    "data"
   ]
  },
  {
   "cell_type": "markdown",
   "id": "0ffa4076",
   "metadata": {
    "papermill": {
     "duration": 0.061766,
     "end_time": "2023-06-01T01:42:47.788648",
     "exception": false,
     "start_time": "2023-06-01T01:42:47.726882",
     "status": "completed"
    },
    "tags": []
   },
   "source": [
    "We can use the `info()` function to obtain a concise summary of our concatenated dataset, which will show us if there are any missing values."
   ]
  },
  {
   "cell_type": "code",
   "execution_count": 6,
   "id": "0336fa26",
   "metadata": {
    "execution": {
     "iopub.execute_input": "2023-06-01T01:42:47.916726Z",
     "iopub.status.busy": "2023-06-01T01:42:47.915961Z",
     "iopub.status.idle": "2023-06-01T01:42:47.936254Z",
     "shell.execute_reply": "2023-06-01T01:42:47.936898Z",
     "shell.execute_reply.started": "2023-06-01T01:30:18.848025Z"
    },
    "papermill": {
     "duration": 0.085775,
     "end_time": "2023-06-01T01:42:47.937117",
     "exception": false,
     "start_time": "2023-06-01T01:42:47.851342",
     "status": "completed"
    },
    "tags": []
   },
   "outputs": [
    {
     "name": "stdout",
     "output_type": "stream",
     "text": [
      "<class 'pandas.core.frame.DataFrame'>\n",
      "RangeIndex: 1309 entries, 0 to 1308\n",
      "Data columns (total 12 columns):\n",
      " #   Column       Non-Null Count  Dtype  \n",
      "---  ------       --------------  -----  \n",
      " 0   PassengerId  1309 non-null   int64  \n",
      " 1   Survived     891 non-null    float64\n",
      " 2   Pclass       1309 non-null   int64  \n",
      " 3   Name         1309 non-null   object \n",
      " 4   Sex          1309 non-null   object \n",
      " 5   Age          1046 non-null   float64\n",
      " 6   SibSp        1309 non-null   int64  \n",
      " 7   Parch        1309 non-null   int64  \n",
      " 8   Ticket       1309 non-null   object \n",
      " 9   Fare         1308 non-null   float64\n",
      " 10  Cabin        295 non-null    object \n",
      " 11  Embarked     1307 non-null   object \n",
      "dtypes: float64(3), int64(4), object(5)\n",
      "memory usage: 122.8+ KB\n"
     ]
    }
   ],
   "source": [
    "data.info()"
   ]
  },
  {
   "cell_type": "markdown",
   "id": "2f503b8c",
   "metadata": {
    "papermill": {
     "duration": 0.063975,
     "end_time": "2023-06-01T01:42:48.064060",
     "exception": false,
     "start_time": "2023-06-01T01:42:48.000085",
     "status": "completed"
    },
    "tags": []
   },
   "source": [
    "We can see that our concatenated dataset has missing values in *Survived*, *Age*, *Cabin*, *Fare*, and *Embarked*. We'll need to address these missing values later, but let's establish a general plan for how to handle them:\n",
    "\n",
    "* The missing values in *Survived* belong to the testing dataset, which we want to predict with our model, so we don't need to impute these values.\n",
    "* Since *Cabin* has only 204 non-null values, we will drop the variable entirely instead of trying to impute the majority of missing values.\n",
    "* For *Age*, *Fare*, and *Embarked*, we'll need to find an appropriate method to impute the missing values.\n",
    "\n",
    "Additionally, we can drop *PassengerId* since it only contains indices and does not contribute to our final model. Let's remove *Cabin* and *PassengerId* from the dataset first."
   ]
  },
  {
   "cell_type": "code",
   "execution_count": 7,
   "id": "924e6fbf",
   "metadata": {
    "execution": {
     "iopub.execute_input": "2023-06-01T01:42:48.195983Z",
     "iopub.status.busy": "2023-06-01T01:42:48.193380Z",
     "iopub.status.idle": "2023-06-01T01:42:48.199502Z",
     "shell.execute_reply": "2023-06-01T01:42:48.198931Z",
     "shell.execute_reply.started": "2023-06-01T01:30:18.873825Z"
    },
    "papermill": {
     "duration": 0.071891,
     "end_time": "2023-06-01T01:42:48.199700",
     "exception": false,
     "start_time": "2023-06-01T01:42:48.127809",
     "status": "completed"
    },
    "tags": []
   },
   "outputs": [],
   "source": [
    "data = data.drop(['PassengerId','Cabin'], axis=1)"
   ]
  },
  {
   "cell_type": "markdown",
   "id": "40034bcd",
   "metadata": {
    "papermill": {
     "duration": 0.06218,
     "end_time": "2023-06-01T01:42:48.326207",
     "exception": false,
     "start_time": "2023-06-01T01:42:48.264027",
     "status": "completed"
    },
    "tags": []
   },
   "source": [
    "If we also look at the other variables, *Name* and *Ticket* appear to provide additional information. If we examine the *Name* values closely, we can identify each passenger's title (e.g., Mr., Mrs., Miss, Master, etc.). This information could be a useful variable in helping us predict survivability. Similarly, *Ticket* values appear to have a prefix that could reveal the passenger's location on the ship, which could also be important in predicting survivability."
   ]
  },
  {
   "cell_type": "markdown",
   "id": "d77c1afb",
   "metadata": {
    "papermill": {
     "duration": 0.062221,
     "end_time": "2023-06-01T01:42:48.450748",
     "exception": false,
     "start_time": "2023-06-01T01:42:48.388527",
     "status": "completed"
    },
    "tags": []
   },
   "source": [
    "# EDA (Exploratory Data Analysis)\n",
    "\n",
    "Ok, now that we have a general idea of our dataset, let's visualize it to gain a deeper understanding of it. Let's start with our target variable, *Survived*."
   ]
  },
  {
   "cell_type": "code",
   "execution_count": 8,
   "id": "3bf04d01",
   "metadata": {
    "execution": {
     "iopub.execute_input": "2023-06-01T01:42:48.586106Z",
     "iopub.status.busy": "2023-06-01T01:42:48.585408Z",
     "iopub.status.idle": "2023-06-01T01:42:48.812691Z",
     "shell.execute_reply": "2023-06-01T01:42:48.812086Z",
     "shell.execute_reply.started": "2023-06-01T01:30:18.881147Z"
    },
    "papermill": {
     "duration": 0.296887,
     "end_time": "2023-06-01T01:42:48.812842",
     "exception": false,
     "start_time": "2023-06-01T01:42:48.515955",
     "status": "completed"
    },
    "tags": []
   },
   "outputs": [
    {
     "data": {
      "text/plain": [
       "[Text(0.5, 1.0, 'Survived or Not')]"
      ]
     },
     "execution_count": 8,
     "metadata": {},
     "output_type": "execute_result"
    },
    {
     "data": {
      "image/png": "[encoded data removed]",
      "text/plain": [
       "<Figure size 640x480 with 1 Axes>"
      ]
     },
     "metadata": {},
     "output_type": "display_data"
    }
   ],
   "source": [
    "sns.countplot(x='Survived', data=train_data).set(title='Survived or Not')"
   ]
  },
  {
   "cell_type": "markdown",
   "id": "8206b5f2",
   "metadata": {
    "papermill": {
     "duration": 0.063072,
     "end_time": "2023-06-01T01:42:48.940281",
     "exception": false,
     "start_time": "2023-06-01T01:42:48.877209",
     "status": "completed"
    },
    "tags": []
   },
   "source": [
    "Based on the visualization, we can see that there is a slight imbalance in the target variable, with value 0 being the majority. Unfortunately, most passengers did not survive the tragedy.\n",
    "\n",
    "From a data preprocessing standpoint, the imbalance isn't extreme, so we can keep the dataset as is. If the imbalance was more severe, we may need to consider alternative evaluation metrics, machine learning models, and resampling methods to address the imbalance. I've written another notebook on dealing with imbalanced datasets, so if you're interested, click here to take a look! ([Fraud Busters](http://https://www.kaggle.com/code/phchen5/fraud-busters-ml-with-imbalanced-datasets))"
   ]
  },
  {
   "cell_type": "markdown",
   "id": "f2b7647a",
   "metadata": {
    "papermill": {
     "duration": 0.06422,
     "end_time": "2023-06-01T01:42:49.067648",
     "exception": false,
     "start_time": "2023-06-01T01:42:49.003428",
     "status": "completed"
    },
    "tags": []
   },
   "source": [
    "## Categorical Variable\n",
    "\n",
    "Next, let's graph out our categorical variables: *Pclass*, *Sex*, *SibSp*, *Parch* and *Embarked*."
   ]
  },
  {
   "cell_type": "code",
   "execution_count": 9,
   "id": "15d020b5",
   "metadata": {
    "execution": {
     "iopub.execute_input": "2023-06-01T01:42:49.199124Z",
     "iopub.status.busy": "2023-06-01T01:42:49.198364Z",
     "iopub.status.idle": "2023-06-01T01:42:50.253042Z",
     "shell.execute_reply": "2023-06-01T01:42:50.253627Z",
     "shell.execute_reply.started": "2023-06-01T01:30:19.094819Z"
    },
    "papermill": {
     "duration": 1.122491,
     "end_time": "2023-06-01T01:42:50.253818",
     "exception": false,
     "start_time": "2023-06-01T01:42:49.131327",
     "status": "completed"
    },
    "tags": []
   },
   "outputs": [
    {
     "data": {
      "text/plain": [
       "<Axes: xlabel='Embarked', ylabel='count'>"
      ]
     },
     "execution_count": 9,
     "metadata": {},
     "output_type": "execute_result"
    },
    {
     "data": {
      "image/png": "[encoded data removed]",
      "text/plain": [
       "<Figure size 2500x500 with 5 Axes>"
      ]
     },
     "metadata": {},
     "output_type": "display_data"
    }
   ],
   "source": [
    "#create subplot\n",
    "fig, ax = plt.subplots(1, 5, figsize=(25,5))\n",
    "#create super title\n",
    "fig.suptitle('Categorical Variables')\n",
    "\n",
    "#countplot for each variable\n",
    "sns.countplot(ax=ax[0], x='Pclass', data=train_data, hue='Survived')\n",
    "sns.countplot(ax=ax[1], x='Sex', data=train_data, hue='Survived')\n",
    "sns.countplot(ax=ax[2], x='SibSp', data=train_data, hue='Survived')\n",
    "sns.countplot(ax=ax[3], x='Parch', data=train_data, hue='Survived')\n",
    "sns.countplot(ax=ax[4], x='Embarked', data=train_data, hue='Survived')"
   ]
  },
  {
   "cell_type": "markdown",
   "id": "c95fce32",
   "metadata": {
    "papermill": {
     "duration": 0.064894,
     "end_time": "2023-06-01T01:42:50.384208",
     "exception": false,
     "start_time": "2023-06-01T01:42:50.319314",
     "status": "completed"
    },
    "tags": []
   },
   "source": [
    "Based on the visualizations, we can already extract some key insights from the data:\n",
    "\n",
    "* Passengers in *Pclass* 1 had a higher survival rate than those in *Pclass* 2 and 3.\n",
    "* Female passengers had a higher survival rate than male passengers.\n",
    "* Passengers with no siblings or spouses (*SibSp*) or parents and children (*Parch*) had a lower survival rate than those with 1-3 siblings/spouses or parents/children.\n",
    "* Passengers who embarked from Cherbourg had a higher survival rate than those who embarked from other ports.\n",
    "\n",
    "Furthermore, we can see that the distributions of *SibSp* and *Parch* are similar, and both variables refer to family size. Combining these two variables into a single variable called *family_size* could simplify our analysis and potentially improve the accuracy of our models. This new variable would represent the total number of family members (siblings/spouses/parents/children) traveling with each passenger."
   ]
  },
  {
   "cell_type": "markdown",
   "id": "cd77619b",
   "metadata": {
    "papermill": {
     "duration": 0.064638,
     "end_time": "2023-06-01T01:42:50.514119",
     "exception": false,
     "start_time": "2023-06-01T01:42:50.449481",
     "status": "completed"
    },
    "tags": []
   },
   "source": [
    "## Numerical Variable\n",
    "\n",
    "We are left with two continuous numeric variables: `Age` and `Fare`. Let's visualize these too."
   ]
  },
  {
   "cell_type": "code",
   "execution_count": 10,
   "id": "626d0925",
   "metadata": {
    "execution": {
     "iopub.execute_input": "2023-06-01T01:42:50.649345Z",
     "iopub.status.busy": "2023-06-01T01:42:50.648304Z",
     "iopub.status.idle": "2023-06-01T01:42:52.093162Z",
     "shell.execute_reply": "2023-06-01T01:42:52.094223Z",
     "shell.execute_reply.started": "2023-06-01T01:30:20.339759Z"
    },
    "papermill": {
     "duration": 1.515103,
     "end_time": "2023-06-01T01:42:52.094481",
     "exception": false,
     "start_time": "2023-06-01T01:42:50.579378",
     "status": "completed"
    },
    "tags": []
   },
   "outputs": [
    {
     "data": {
      "text/plain": [
       "<Axes: xlabel='Fare', ylabel='Count'>"
      ]
     },
     "execution_count": 10,
     "metadata": {},
     "output_type": "execute_result"
    },
    {
     "data": {
      "image/png": "[encoded data removed]",
      "text/plain": [
       "<Figure size 2000x500 with 2 Axes>"
      ]
     },
     "metadata": {},
     "output_type": "display_data"
    }
   ],
   "source": [
    "#create subplots\n",
    "fig, ax = plt.subplots(1, 2, figsize=(20,5))\n",
    "#create super title\n",
    "fig.suptitle('Continuous Variables')\n",
    "\n",
    "#plot histogram\n",
    "sns.histplot(ax=ax[0], x='Age', data=train_data, hue='Survived')\n",
    "sns.histplot(ax=ax[1], x='Fare', data=train_data, hue='Survived')"
   ]
  },
  {
   "cell_type": "markdown",
   "id": "77ab371b",
   "metadata": {
    "papermill": {
     "duration": 0.068757,
     "end_time": "2023-06-01T01:42:52.234218",
     "exception": false,
     "start_time": "2023-06-01T01:42:52.165461",
     "status": "completed"
    },
    "tags": []
   },
   "source": [
    "Wow! The visualization shows a clear difference in the distribution of *Age* and *Fare* between the passengers who survived and those who did not.\n",
    "\n",
    "* There is a higher survival rate for very young children, indicating that they were given priority during the evacuation.\n",
    "* Passengers who paid higher fares had a higher survival rate, which is consistent with the idea that passengers with higher socioeconomic status may have had better access to lifeboats and other resources.\n",
    "\n",
    "Additionally, the *Fare* distribution is right-skewed, so we may need to normalize it during preprocessing to ensure that it has a more normal distribution that is better suited for some machine learning models."
   ]
  },
  {
   "cell_type": "markdown",
   "id": "a7c215a6",
   "metadata": {
    "papermill": {
     "duration": 0.067968,
     "end_time": "2023-06-01T01:42:52.369790",
     "exception": false,
     "start_time": "2023-06-01T01:42:52.301822",
     "status": "completed"
    },
    "tags": []
   },
   "source": [
    "# Data Preprocessing\n",
    "\n",
    "Simply through examining the data on a shallow level has allowed us to identify some key insights and tasks that we need to accomplish in the data preprocessing stage. Let's start with extracting people's *title* from the *Name* variable.\n",
    "\n",
    "## Name\n",
    "\n",
    "If we look carefully at the names of the passenger, the titles in the *Name* column are formatted in a consistent manner, which is fortunate for us. This makes it easier to extract the titles using regular expressions."
   ]
  },
  {
   "cell_type": "code",
   "execution_count": 11,
   "id": "fa3fafb6",
   "metadata": {
    "execution": {
     "iopub.execute_input": "2023-06-01T01:42:52.509937Z",
     "iopub.status.busy": "2023-06-01T01:42:52.509189Z",
     "iopub.status.idle": "2023-06-01T01:42:52.519578Z",
     "shell.execute_reply": "2023-06-01T01:42:52.520177Z",
     "shell.execute_reply.started": "2023-06-01T01:30:22.120776Z"
    },
    "papermill": {
     "duration": 0.08251,
     "end_time": "2023-06-01T01:42:52.520382",
     "exception": false,
     "start_time": "2023-06-01T01:42:52.437872",
     "status": "completed"
    },
    "tags": []
   },
   "outputs": [
    {
     "name": "stderr",
     "output_type": "stream",
     "text": [
      "<>:2: SyntaxWarning: invalid escape sequence '\\.'\n",
      "<>:2: SyntaxWarning: invalid escape sequence '\\.'\n",
      "/var/folders/_z/fqc2y1zs5nxfts7kcfj9y20w0000gn/T/ipykernel_57390/3828110329.py:2: SyntaxWarning: invalid escape sequence '\\.'\n",
      "  data[\"title\"] = data['Name'].str.extract('([A-Za-z]+\\.)', expand = False)\n"
     ]
    }
   ],
   "source": [
    "#extract title from Name\n",
    "data[\"title\"] = data['Name'].str.extract('([A-Za-z]+\\.)', expand = False)"
   ]
  },
  {
   "cell_type": "markdown",
   "id": "ad462ae3",
   "metadata": {
    "papermill": {
     "duration": 0.070794,
     "end_time": "2023-06-01T01:42:52.658972",
     "exception": false,
     "start_time": "2023-06-01T01:42:52.588178",
     "status": "completed"
    },
    "tags": []
   },
   "source": [
    "Let's take a look at the titles we extracted."
   ]
  },
  {
   "cell_type": "code",
   "execution_count": 12,
   "id": "d352d7b1",
   "metadata": {
    "execution": {
     "iopub.execute_input": "2023-06-01T01:42:52.800240Z",
     "iopub.status.busy": "2023-06-01T01:42:52.799521Z",
     "iopub.status.idle": "2023-06-01T01:42:52.807943Z",
     "shell.execute_reply": "2023-06-01T01:42:52.808473Z",
     "shell.execute_reply.started": "2023-06-01T01:30:22.133990Z"
    },
    "papermill": {
     "duration": 0.081685,
     "end_time": "2023-06-01T01:42:52.808680",
     "exception": false,
     "start_time": "2023-06-01T01:42:52.726995",
     "status": "completed"
    },
    "tags": []
   },
   "outputs": [
    {
     "data": {
      "text/plain": [
       "title\n",
       "Mr.          757\n",
       "Miss.        260\n",
       "Mrs.         197\n",
       "Master.       61\n",
       "Rev.           8\n",
       "Dr.            8\n",
       "Col.           4\n",
       "Mlle.          2\n",
       "Major.         2\n",
       "Ms.            2\n",
       "Lady.          1\n",
       "Sir.           1\n",
       "Mme.           1\n",
       "Don.           1\n",
       "Capt.          1\n",
       "Countess.      1\n",
       "Jonkheer.      1\n",
       "Dona.          1\n",
       "Name: count, dtype: int64"
      ]
     },
     "execution_count": 12,
     "metadata": {},
     "output_type": "execute_result"
    }
   ],
   "source": [
    "data.title.value_counts()"
   ]
  },
  {
   "cell_type": "markdown",
   "id": "638d8e76",
   "metadata": {
    "papermill": {
     "duration": 0.06837,
     "end_time": "2023-06-01T01:42:52.945305",
     "exception": false,
     "start_time": "2023-06-01T01:42:52.876935",
     "status": "completed"
    },
    "tags": []
   },
   "source": [
    "We can see that there are some rare titles in the *Name* column that occur infrequently. To simplify our analysis, we can combine these rare titles into one category called *Other*. \n",
    "\n",
    "Additionally, we can combine *Miss.*, *Ms.*, and *Mlle.* into one category called *Miss.*, since they all refer to unmarried women. Similarly, we can combine *Mrs.* and *Mme.* into one category called *Mrs.*, since they both refer to married women. This will further simplify our analysis and reduce the number of categories we need to consider.\n",
    "\n",
    "Once we have completed these steps, we can drop the *Name* variable from the dataset, since it provides no additional information that cannot be captured by the *title* variable.\n",
    "\n",
    "Overall, these steps will allow us to effectively extract valuable information from the *Name* column and incorporate it into our analysis."
   ]
  },
  {
   "cell_type": "code",
   "execution_count": 13,
   "id": "2011824a",
   "metadata": {
    "execution": {
     "iopub.execute_input": "2023-06-01T01:42:53.098660Z",
     "iopub.status.busy": "2023-06-01T01:42:53.089394Z",
     "iopub.status.idle": "2023-06-01T01:42:53.103145Z",
     "shell.execute_reply": "2023-06-01T01:42:53.102524Z",
     "shell.execute_reply.started": "2023-06-01T01:30:22.150666Z"
    },
    "papermill": {
     "duration": 0.089922,
     "end_time": "2023-06-01T01:42:53.103311",
     "exception": false,
     "start_time": "2023-06-01T01:42:53.013389",
     "status": "completed"
    },
    "tags": []
   },
   "outputs": [],
   "source": [
    "#group titles into the same category\n",
    "data['title'] = data['title'].replace(['Lady.', 'Countess.','Capt.', 'Col.', 'Don.', 'Dr.', 'Major.', 'Rev.', 'Sir.', 'Jonkheer.', 'Dona.'], 'Other')\n",
    "data['title'] = data['title'].replace(['Ms.', 'Mlle.'], 'Miss.')\n",
    "data['title'] = data['title'].replace('Mme.', 'Mrs.')\n",
    "\n",
    "#drop Name\n",
    "data = data.drop(['Name'], axis=1)"
   ]
  },
  {
   "cell_type": "markdown",
   "id": "9a2679b4",
   "metadata": {
    "papermill": {
     "duration": 0.067522,
     "end_time": "2023-06-01T01:42:53.238591",
     "exception": false,
     "start_time": "2023-06-01T01:42:53.171069",
     "status": "completed"
    },
    "tags": []
   },
   "source": [
    "Since we now have a new variable, it would be insightful to visualize it, as we did with the other variables."
   ]
  },
  {
   "cell_type": "code",
   "execution_count": 14,
   "id": "0aecb5aa",
   "metadata": {
    "execution": {
     "iopub.execute_input": "2023-06-01T01:42:53.383756Z",
     "iopub.status.busy": "2023-06-01T01:42:53.382724Z",
     "iopub.status.idle": "2023-06-01T01:42:53.645766Z",
     "shell.execute_reply": "2023-06-01T01:42:53.645207Z",
     "shell.execute_reply.started": "2023-06-01T01:30:22.173798Z"
    },
    "papermill": {
     "duration": 0.339867,
     "end_time": "2023-06-01T01:42:53.645926",
     "exception": false,
     "start_time": "2023-06-01T01:42:53.306059",
     "status": "completed"
    },
    "tags": []
   },
   "outputs": [
    {
     "data": {
      "text/plain": [
       "<Axes: xlabel='title', ylabel='count'>"
      ]
     },
     "execution_count": 14,
     "metadata": {},
     "output_type": "execute_result"
    },
    {
     "data": {
      "image/png": "[encoded data removed]",
      "text/plain": [
       "<Figure size 640x480 with 1 Axes>"
      ]
     },
     "metadata": {},
     "output_type": "display_data"
    }
   ],
   "source": [
    "sns.countplot(x='title', data=data, hue='Survived')"
   ]
  },
  {
   "cell_type": "markdown",
   "id": "9483464d",
   "metadata": {
    "papermill": {
     "duration": 0.067458,
     "end_time": "2023-06-01T01:42:53.780669",
     "exception": false,
     "start_time": "2023-06-01T01:42:53.713211",
     "status": "completed"
    },
    "tags": []
   },
   "source": [
    "Passengers with the titles *Mrs.* and *Miss.* have a significantly higher chance of survival, which is consistent with the result we obtained from the gender plot. Now, let's move on to our next task, which is building the *family_size* variable."
   ]
  },
  {
   "cell_type": "markdown",
   "id": "8108b938",
   "metadata": {
    "papermill": {
     "duration": 0.074786,
     "end_time": "2023-06-01T01:42:53.939224",
     "exception": false,
     "start_time": "2023-06-01T01:42:53.864438",
     "status": "completed"
    },
    "tags": []
   },
   "source": [
    "## Family Size\n",
    "\n",
    "We mentioned that, since the distributions of *SibSp* and *Parch* are similar, it would be beneficial to combine them into a single variable called *family_size*. We can calculate the family size by adding 1 to the sum of *SibSp* and *Parch* (including the passenger itself). Additionally, visualizing the *family_size* variable could provide us with valuable insights into its distribution, which could be an important predictor of survivability."
   ]
  },
  {
   "cell_type": "code",
   "execution_count": 15,
   "id": "74b8715c",
   "metadata": {
    "execution": {
     "iopub.execute_input": "2023-06-01T01:42:54.080432Z",
     "iopub.status.busy": "2023-06-01T01:42:54.079729Z",
     "iopub.status.idle": "2023-06-01T01:42:54.425344Z",
     "shell.execute_reply": "2023-06-01T01:42:54.425881Z",
     "shell.execute_reply.started": "2023-06-01T01:30:22.498092Z"
    },
    "papermill": {
     "duration": 0.418232,
     "end_time": "2023-06-01T01:42:54.426086",
     "exception": false,
     "start_time": "2023-06-01T01:42:54.007854",
     "status": "completed"
    },
    "tags": []
   },
   "outputs": [
    {
     "data": {
      "text/plain": [
       "<Axes: xlabel='family_size', ylabel='count'>"
      ]
     },
     "execution_count": 15,
     "metadata": {},
     "output_type": "execute_result"
    },
    {
     "data": {
      "image/png": "[encoded data removed]",
      "text/plain": [
       "<Figure size 640x480 with 1 Axes>"
      ]
     },
     "metadata": {},
     "output_type": "display_data"
    }
   ],
   "source": [
    "#create family_size\n",
    "data['family_size'] = data['SibSp'] + data['Parch'] + 1\n",
    "\n",
    "#visualize family_size\n",
    "sns.countplot(x='family_size', data=data, hue='Survived')"
   ]
  },
  {
   "cell_type": "markdown",
   "id": "01560341",
   "metadata": {
    "papermill": {
     "duration": 0.070434,
     "end_time": "2023-06-01T01:42:54.567454",
     "exception": false,
     "start_time": "2023-06-01T01:42:54.497020",
     "status": "completed"
    },
    "tags": []
   },
   "source": [
    "From our visualization of the *family_size* variable, we can see that passengers traveling alone (`FamilySize=1`) had a higher death rate, which suggests that they may have been the heroes who sacrificed their lives for the sake of others. Passengers traveling with a family size of 2-4 had a higher survival rate, while those with a family size of 5-7 had a lower survival rate. Interestingly, all passengers with 8 or 11 family members survived the tragedy.\n",
    "\n",
    "Based on these patterns, we can group the *family_size* variable into categories to simplify our analysis further and potentially improve the accuracy of our models. This could involve creating a new categorical variable that represents the size of the passenger's family group, such as *is_alone*, *small*, *medium*, or *large*, which could be used as a feature in our machine learning models."
   ]
  },
  {
   "cell_type": "code",
   "execution_count": 16,
   "id": "71c71141",
   "metadata": {
    "execution": {
     "iopub.execute_input": "2023-06-01T01:42:54.716271Z",
     "iopub.status.busy": "2023-06-01T01:42:54.714775Z",
     "iopub.status.idle": "2023-06-01T01:42:54.982717Z",
     "shell.execute_reply": "2023-06-01T01:42:54.981960Z",
     "shell.execute_reply.started": "2023-06-01T01:30:22.918063Z"
    },
    "papermill": {
     "duration": 0.346241,
     "end_time": "2023-06-01T01:42:54.982878",
     "exception": false,
     "start_time": "2023-06-01T01:42:54.636637",
     "status": "completed"
    },
    "tags": []
   },
   "outputs": [
    {
     "data": {
      "text/plain": [
       "<Axes: xlabel='family_size', ylabel='count'>"
      ]
     },
     "execution_count": 16,
     "metadata": {},
     "output_type": "execute_result"
    },
    {
     "data": {
      "image/png": "[encoded data removed]",
      "text/plain": [
       "<Figure size 640x480 with 1 Axes>"
      ]
     },
     "metadata": {},
     "output_type": "display_data"
    }
   ],
   "source": [
    "#categorize family_size\n",
    "data['family_size'] = data['family_size'].replace(1, 'is_alone')\n",
    "data['family_size'] = data['family_size'].replace([2, 3, 4], 'small')\n",
    "data['family_size'] = data['family_size'].replace([5, 6, 7], 'medium')\n",
    "data['family_size'] = data['family_size'].replace([8, 11], 'large')\n",
    "\n",
    "sns.countplot(x='family_size', data=data, hue='Survived')"
   ]
  },
  {
   "cell_type": "markdown",
   "id": "220331ce",
   "metadata": {
    "papermill": {
     "duration": 0.071114,
     "end_time": "2023-06-01T01:42:55.125068",
     "exception": false,
     "start_time": "2023-06-01T01:42:55.053954",
     "status": "completed"
    },
    "tags": []
   },
   "source": [
    "## Ticket\n",
    "\n",
    "Dealing with the *Ticket* variable can be challenging as some tickets start with a prefix, and it is unclear whether this information can improve our model's predictive power. However, let's investigate this further by extracting the ticket prefixes and explore whether it can be used as a feature in our machine learning models."
   ]
  },
  {
   "cell_type": "code",
   "execution_count": 17,
   "id": "8c6fb1d8",
   "metadata": {
    "execution": {
     "iopub.execute_input": "2023-06-01T01:42:55.274258Z",
     "iopub.status.busy": "2023-06-01T01:42:55.273465Z",
     "iopub.status.idle": "2023-06-01T01:42:55.280764Z",
     "shell.execute_reply": "2023-06-01T01:42:55.281358Z",
     "shell.execute_reply.started": "2023-06-01T01:30:23.248069Z"
    },
    "papermill": {
     "duration": 0.0864,
     "end_time": "2023-06-01T01:42:55.281589",
     "exception": false,
     "start_time": "2023-06-01T01:42:55.195189",
     "status": "completed"
    },
    "tags": []
   },
   "outputs": [
    {
     "data": {
      "text/plain": [
       "Ticket_Pref\n",
       "None       957\n",
       "PC          92\n",
       "CA          68\n",
       "A5          28\n",
       "SOTONOQ     24\n",
       "WC          15\n",
       "SCPARIS     14\n",
       "STONO       14\n",
       "A4          10\n",
       "FCC          9\n",
       "C            8\n",
       "SOC          8\n",
       "SOPP         7\n",
       "STONO2       7\n",
       "SCParis      5\n",
       "SCAH         5\n",
       "PP           4\n",
       "LINE         4\n",
       "WEP          4\n",
       "FC           3\n",
       "SOTONO2      3\n",
       "SCA4         2\n",
       "SWPP         2\n",
       "PPP          2\n",
       "SC           2\n",
       "SCA3         1\n",
       "A            1\n",
       "LP           1\n",
       "AQ4          1\n",
       "STONOQ       1\n",
       "Fa           1\n",
       "CASOTON      1\n",
       "AS           1\n",
       "SCOW         1\n",
       "SOP          1\n",
       "SP           1\n",
       "AQ3          1\n",
       "Name: count, dtype: int64"
      ]
     },
     "execution_count": 17,
     "metadata": {},
     "output_type": "execute_result"
    }
   ],
   "source": [
    "#create ticket_prefix\n",
    "ticket_pref = []\n",
    "\n",
    "for ticket in list(data.Ticket):\n",
    "    if not ticket.isdigit() :\n",
    "        ticket_pref.append(ticket.replace(\".\",\"\").replace(\"/\",\"\").strip().split(' ')[0]) #Take prefix\n",
    "    else:\n",
    "        ticket_pref.append(\"None\")\n",
    "        \n",
    "data[\"Ticket_Pref\"] = ticket_pref\n",
    "\n",
    "data.Ticket_Pref.value_counts()"
   ]
  },
  {
   "cell_type": "markdown",
   "id": "15e24332",
   "metadata": {
    "papermill": {
     "duration": 0.07316,
     "end_time": "2023-06-01T01:42:55.427317",
     "exception": false,
     "start_time": "2023-06-01T01:42:55.354157",
     "status": "completed"
    },
    "tags": []
   },
   "source": [
    "It seems that most ticket values are just unique series without any prefixes, and many prefixes only have a few occurrences, which may not provide sufficient information to improve our model's predictive power. Therefore, let's take a step back and investigate whether the presence of a prefix in the ticket value has any significant effect on the passenger's survivability."
   ]
  },
  {
   "cell_type": "code",
   "execution_count": 18,
   "id": "e4fac2d9",
   "metadata": {
    "execution": {
     "iopub.execute_input": "2023-06-01T01:42:55.575416Z",
     "iopub.status.busy": "2023-06-01T01:42:55.572909Z",
     "iopub.status.idle": "2023-06-01T01:42:55.578601Z",
     "shell.execute_reply": "2023-06-01T01:42:55.579168Z",
     "shell.execute_reply.started": "2023-06-01T01:30:23.266024Z"
    },
    "papermill": {
     "duration": 0.080969,
     "end_time": "2023-06-01T01:42:55.579353",
     "exception": false,
     "start_time": "2023-06-01T01:42:55.498384",
     "status": "completed"
    },
    "tags": []
   },
   "outputs": [],
   "source": [
    "#create a variable that determines whether a ticket value contains a prefix or not\n",
    "ticket_pref_bool = []\n",
    "\n",
    "for x in data['Ticket_Pref']:\n",
    "  if x != \"None\":\n",
    "    ticket_pref_bool.append(\"Y\")\n",
    "  else:\n",
    "    ticket_pref_bool.append(\"N\")\n",
    "    \n",
    "data['Ticket_Pref_bool'] = ticket_pref_bool"
   ]
  },
  {
   "cell_type": "markdown",
   "id": "14e634a6",
   "metadata": {
    "papermill": {
     "duration": 0.070435,
     "end_time": "2023-06-01T01:42:55.722457",
     "exception": false,
     "start_time": "2023-06-01T01:42:55.652022",
     "status": "completed"
    },
    "tags": []
   },
   "source": [
    "To investigate whether the presence of a prefix in the ticket value has any effect on survivability, we can use the `crosstab` function in pandas to create a contingency table of our new variable *Ticket_Pref_bool* and our target variable *Survived*."
   ]
  },
  {
   "cell_type": "code",
   "execution_count": 19,
   "id": "349123a7",
   "metadata": {
    "execution": {
     "iopub.execute_input": "2023-06-01T01:42:55.867822Z",
     "iopub.status.busy": "2023-06-01T01:42:55.867103Z",
     "iopub.status.idle": "2023-06-01T01:42:55.892894Z",
     "shell.execute_reply": "2023-06-01T01:42:55.893386Z",
     "shell.execute_reply.started": "2023-06-01T01:30:23.281869Z"
    },
    "papermill": {
     "duration": 0.100071,
     "end_time": "2023-06-01T01:42:55.893606",
     "exception": false,
     "start_time": "2023-06-01T01:42:55.793535",
     "status": "completed"
    },
    "tags": []
   },
   "outputs": [
    {
     "data": {
      "text/html": [
       "<div>\n",
       "<style scoped>\n",
       "    .dataframe tbody tr th:only-of-type {\n",
       "        vertical-align: middle;\n",
       "    }\n",
       "\n",
       "    .dataframe tbody tr th {\n",
       "        vertical-align: top;\n",
       "    }\n",
       "\n",
       "    .dataframe thead th {\n",
       "        text-align: right;\n",
       "    }\n",
       "</style>\n",
       "<table border=\"1\" class=\"dataframe\">\n",
       "  <thead>\n",
       "    <tr style=\"text-align: right;\">\n",
       "      <th>Ticket_Pref_bool</th>\n",
       "      <th>N</th>\n",
       "      <th>Y</th>\n",
       "    </tr>\n",
       "    <tr>\n",
       "      <th>Survived</th>\n",
       "      <th></th>\n",
       "      <th></th>\n",
       "    </tr>\n",
       "  </thead>\n",
       "  <tbody>\n",
       "    <tr>\n",
       "      <th>0.0</th>\n",
       "      <td>407</td>\n",
       "      <td>142</td>\n",
       "    </tr>\n",
       "    <tr>\n",
       "      <th>1.0</th>\n",
       "      <td>254</td>\n",
       "      <td>88</td>\n",
       "    </tr>\n",
       "  </tbody>\n",
       "</table>\n",
       "</div>"
      ],
      "text/plain": [
       "Ticket_Pref_bool    N    Y\n",
       "Survived                  \n",
       "0.0               407  142\n",
       "1.0               254   88"
      ]
     },
     "execution_count": 19,
     "metadata": {},
     "output_type": "execute_result"
    }
   ],
   "source": [
    "contingency_table = pd.crosstab(data.Survived,data.Ticket_Pref_bool)\n",
    "contingency_table"
   ]
  },
  {
   "cell_type": "markdown",
   "id": "bfe83eff",
   "metadata": {
    "papermill": {
     "duration": 0.072477,
     "end_time": "2023-06-01T01:42:56.039822",
     "exception": false,
     "start_time": "2023-06-01T01:42:55.967345",
     "status": "completed"
    },
    "tags": []
   },
   "source": [
    "We can then perform a **Chi-square Test** on the contingency table to see whether there is statistical dependency between the two variables (or whether they are related or not)."
   ]
  },
  {
   "cell_type": "code",
   "execution_count": 20,
   "id": "0172f05e",
   "metadata": {
    "execution": {
     "iopub.execute_input": "2023-06-01T01:42:56.192146Z",
     "iopub.status.busy": "2023-06-01T01:42:56.191346Z",
     "iopub.status.idle": "2023-06-01T01:42:56.197948Z",
     "shell.execute_reply": "2023-06-01T01:42:56.197378Z",
     "shell.execute_reply.started": "2023-06-01T01:30:23.321963Z"
    },
    "papermill": {
     "duration": 0.084316,
     "end_time": "2023-06-01T01:42:56.198169",
     "exception": false,
     "start_time": "2023-06-01T01:42:56.113853",
     "status": "completed"
    },
    "tags": []
   },
   "outputs": [
    {
     "name": "stdout",
     "output_type": "stream",
     "text": [
      "The p-value is 0.9644882460741132\n"
     ]
    }
   ],
   "source": [
    "(chi2, p, df, arr) = ss.chi2_contingency(contingency_table, correction = False)\n",
    "\n",
    "print(\"The p-value is \"+ str(p))"
   ]
  },
  {
   "cell_type": "markdown",
   "id": "60d6df4f",
   "metadata": {
    "papermill": {
     "duration": 0.073789,
     "end_time": "2023-06-01T01:42:56.346177",
     "exception": false,
     "start_time": "2023-06-01T01:42:56.272388",
     "status": "completed"
    },
    "tags": []
   },
   "source": [
    "The resulting p-value from the Chi-square test is very high, indicating that there is no significant relationship between the presence of a ticket prefix and the passenger's ultimate fate. Therefore, it may be more appropriate to simply drop the *Ticket* variable from our analysis."
   ]
  },
  {
   "cell_type": "code",
   "execution_count": 21,
   "id": "cbfc9b01",
   "metadata": {
    "execution": {
     "iopub.execute_input": "2023-06-01T01:42:56.495875Z",
     "iopub.status.busy": "2023-06-01T01:42:56.495074Z",
     "iopub.status.idle": "2023-06-01T01:42:56.498474Z",
     "shell.execute_reply": "2023-06-01T01:42:56.499026Z",
     "shell.execute_reply.started": "2023-06-01T01:30:23.332016Z"
    },
    "papermill": {
     "duration": 0.081432,
     "end_time": "2023-06-01T01:42:56.499222",
     "exception": false,
     "start_time": "2023-06-01T01:42:56.417790",
     "status": "completed"
    },
    "tags": []
   },
   "outputs": [],
   "source": [
    "#drop Ticket\n",
    "data = data.drop(['Ticket','Ticket_Pref','Ticket_Pref_bool'], axis=1)"
   ]
  },
  {
   "cell_type": "markdown",
   "id": "bb32b31a",
   "metadata": {
    "papermill": {
     "duration": 0.070708,
     "end_time": "2023-06-01T01:42:56.641164",
     "exception": false,
     "start_time": "2023-06-01T01:42:56.570456",
     "status": "completed"
    },
    "tags": []
   },
   "source": [
    "## Pclass\n",
    "\n",
    "*Pclass* is a categorical variable encoded in integers. It has the wrong data type, so we must change it back to a \"category\"."
   ]
  },
  {
   "cell_type": "code",
   "execution_count": 22,
   "id": "582dbca3",
   "metadata": {
    "execution": {
     "iopub.execute_input": "2023-06-01T01:42:56.794034Z",
     "iopub.status.busy": "2023-06-01T01:42:56.793255Z",
     "iopub.status.idle": "2023-06-01T01:42:56.795985Z",
     "shell.execute_reply": "2023-06-01T01:42:56.796591Z",
     "shell.execute_reply.started": "2023-06-01T01:30:23.345708Z"
    },
    "papermill": {
     "duration": 0.08158,
     "end_time": "2023-06-01T01:42:56.796777",
     "exception": false,
     "start_time": "2023-06-01T01:42:56.715197",
     "status": "completed"
    },
    "tags": []
   },
   "outputs": [],
   "source": [
    "#change Pclass datatype\n",
    "data[\"Pclass\"] = data[\"Pclass\"].astype(\"category\")"
   ]
  },
  {
   "cell_type": "markdown",
   "id": "3d1833e0",
   "metadata": {
    "papermill": {
     "duration": 0.07164,
     "end_time": "2023-06-01T01:42:56.940152",
     "exception": false,
     "start_time": "2023-06-01T01:42:56.868512",
     "status": "completed"
    },
    "tags": []
   },
   "source": [
    "## Embarked\n",
    "\n",
    "*Embarked* contains just two missing values. We can simply impute them with the mode of the variable."
   ]
  },
  {
   "cell_type": "code",
   "execution_count": 23,
   "id": "1ba04ac1",
   "metadata": {
    "execution": {
     "iopub.execute_input": "2023-06-01T01:42:57.089588Z",
     "iopub.status.busy": "2023-06-01T01:42:57.088785Z",
     "iopub.status.idle": "2023-06-01T01:42:57.094101Z",
     "shell.execute_reply": "2023-06-01T01:42:57.093429Z",
     "shell.execute_reply.started": "2023-06-01T01:30:23.358999Z"
    },
    "papermill": {
     "duration": 0.082099,
     "end_time": "2023-06-01T01:42:57.094276",
     "exception": false,
     "start_time": "2023-06-01T01:42:57.012177",
     "status": "completed"
    },
    "tags": []
   },
   "outputs": [],
   "source": [
    "#impute with mode\n",
    "data['Embarked'] = data['Embarked'].fillna(data['Embarked'].mode()[0])"
   ]
  },
  {
   "cell_type": "markdown",
   "id": "b2062b02",
   "metadata": {
    "papermill": {
     "duration": 0.075498,
     "end_time": "2023-06-01T01:42:57.246289",
     "exception": false,
     "start_time": "2023-06-01T01:42:57.170791",
     "status": "completed"
    },
    "tags": []
   },
   "source": [
    "## Fare\n",
    "\n",
    "*Fare* has just one missing value and a skewed distribution. Taking the skewness into consideration, the median value might be a better imputation method than the mean value. We'll also use log transformation to normalize and scale down the distribution. Normalization is often required in many machine learning data preproecssing so that variables are on a similar scale. This is important because we don't want variables to have a disproportionate influence on the result due to their larger values."
   ]
  },
  {
   "cell_type": "code",
   "execution_count": 24,
   "id": "457a14ec",
   "metadata": {
    "execution": {
     "iopub.execute_input": "2023-06-01T01:42:57.399700Z",
     "iopub.status.busy": "2023-06-01T01:42:57.398624Z",
     "iopub.status.idle": "2023-06-01T01:42:57.404319Z",
     "shell.execute_reply": "2023-06-01T01:42:57.403628Z",
     "shell.execute_reply.started": "2023-06-01T01:30:23.371669Z"
    },
    "papermill": {
     "duration": 0.085101,
     "end_time": "2023-06-01T01:42:57.404486",
     "exception": false,
     "start_time": "2023-06-01T01:42:57.319385",
     "status": "completed"
    },
    "tags": []
   },
   "outputs": [],
   "source": [
    "#impute with median\n",
    "data['Fare'] = data['Fare'].fillna(data['Fare'].median())\n",
    "#log transformation\n",
    "data['fare_log'] = np.log(data['Fare']+1)"
   ]
  },
  {
   "cell_type": "markdown",
   "id": "893ed34e",
   "metadata": {
    "papermill": {
     "duration": 0.070895,
     "end_time": "2023-06-01T01:42:57.547538",
     "exception": false,
     "start_time": "2023-06-01T01:42:57.476643",
     "status": "completed"
    },
    "tags": []
   },
   "source": [
    "## Age\n",
    "\n",
    "Out of all variables, I found *Age* the most difficult to handle. It has 200+ missing values, leaving us with many possible methods of imputation. It's also quite an important variable, so I don't want to just drop it entirely. I initially considered using **KNN imputation** for filling the missing values in the dataset, but I wanted to have a clear justification for my choice of imputation method.. So I went around the internet looking for a good method. I came upon a suggestion that uses *title* and *Parch* to impute the age. Credits to [Allohvk](http://https://www.kaggle.com/code/allohvk/titanic-missing-age-imputation-tutorial-advanced/notebook) from Kaggle.\n",
    "\n",
    "Let's take a look at how *Age* is distributed across different *titles*."
   ]
  },
  {
   "cell_type": "code",
   "execution_count": 25,
   "id": "28d509be",
   "metadata": {
    "execution": {
     "iopub.execute_input": "2023-06-01T01:42:57.697411Z",
     "iopub.status.busy": "2023-06-01T01:42:57.696606Z",
     "iopub.status.idle": "2023-06-01T01:42:57.980033Z",
     "shell.execute_reply": "2023-06-01T01:42:57.980675Z",
     "shell.execute_reply.started": "2023-06-01T01:30:23.388199Z"
    },
    "papermill": {
     "duration": 0.362117,
     "end_time": "2023-06-01T01:42:57.980861",
     "exception": false,
     "start_time": "2023-06-01T01:42:57.618744",
     "status": "completed"
    },
    "tags": []
   },
   "outputs": [
    {
     "data": {
      "text/plain": [
       "<Axes: xlabel='title', ylabel='Age'>"
      ]
     },
     "execution_count": 25,
     "metadata": {},
     "output_type": "execute_result"
    },
    {
     "data": {
      "image/png": "[encoded data removed]",
      "text/plain": [
       "<Figure size 640x480 with 1 Axes>"
      ]
     },
     "metadata": {},
     "output_type": "display_data"
    }
   ],
   "source": [
    "sns.boxplot(y='Age', x='title', data=data)"
   ]
  },
  {
   "cell_type": "markdown",
   "id": "530929b2",
   "metadata": {
    "papermill": {
     "duration": 0.074355,
     "end_time": "2023-06-01T01:42:58.130375",
     "exception": false,
     "start_time": "2023-06-01T01:42:58.056020",
     "status": "completed"
    },
    "tags": []
   },
   "source": [
    "We can see that passengers with the title *Master* are a lot younger than the other titles. People with titles *Mr.*, *Mrs.*, and *Other* are older overall. Only *Miss.* spans across a huge range of age. This is likely because there are no proper titles for a teenage girl. We will have to look more specifically into the *Miss.* title. Let's filter all other titles out."
   ]
  },
  {
   "cell_type": "code",
   "execution_count": 26,
   "id": "284783ef",
   "metadata": {
    "execution": {
     "iopub.execute_input": "2023-06-01T01:42:58.278699Z",
     "iopub.status.busy": "2023-06-01T01:42:58.277647Z",
     "iopub.status.idle": "2023-06-01T01:42:58.283897Z",
     "shell.execute_reply": "2023-06-01T01:42:58.284512Z",
     "shell.execute_reply.started": "2023-06-01T01:30:23.739610Z"
    },
    "papermill": {
     "duration": 0.081907,
     "end_time": "2023-06-01T01:42:58.284719",
     "exception": false,
     "start_time": "2023-06-01T01:42:58.202812",
     "status": "completed"
    },
    "tags": []
   },
   "outputs": [],
   "source": [
    "data_miss = data[data['title']=='Miss.'].copy()"
   ]
  },
  {
   "cell_type": "markdown",
   "id": "aa5a77d2",
   "metadata": {
    "papermill": {
     "duration": 0.071783,
     "end_time": "2023-06-01T01:42:58.428574",
     "exception": false,
     "start_time": "2023-06-01T01:42:58.356791",
     "status": "completed"
    },
    "tags": []
   },
   "source": [
    "After restricting our dataset to only samples with title *Miss.*, we then look at how *Age* is distributed across *Parch*. Do you see where we're going with this?"
   ]
  },
  {
   "cell_type": "code",
   "execution_count": 27,
   "id": "7fe95a82",
   "metadata": {
    "execution": {
     "iopub.execute_input": "2023-06-01T01:42:58.578606Z",
     "iopub.status.busy": "2023-06-01T01:42:58.577782Z",
     "iopub.status.idle": "2023-06-01T01:42:58.811876Z",
     "shell.execute_reply": "2023-06-01T01:42:58.812386Z",
     "shell.execute_reply.started": "2023-06-01T01:30:23.749690Z"
    },
    "papermill": {
     "duration": 0.312391,
     "end_time": "2023-06-01T01:42:58.812624",
     "exception": false,
     "start_time": "2023-06-01T01:42:58.500233",
     "status": "completed"
    },
    "tags": []
   },
   "outputs": [
    {
     "data": {
      "text/plain": [
       "<Axes: xlabel='Parch', ylabel='Age'>"
      ]
     },
     "execution_count": 27,
     "metadata": {},
     "output_type": "execute_result"
    },
    {
     "data": {
      "image/png": "[encoded data removed]",
      "text/plain": [
       "<Figure size 640x480 with 1 Axes>"
      ]
     },
     "metadata": {},
     "output_type": "display_data"
    }
   ],
   "source": [
    "sns.boxplot(y='Age', x='Parch', data=data_miss)"
   ]
  },
  {
   "cell_type": "markdown",
   "id": "0d593bd4",
   "metadata": {
    "papermill": {
     "duration": 0.075432,
     "end_time": "2023-06-01T01:42:58.962629",
     "exception": false,
     "start_time": "2023-06-01T01:42:58.887197",
     "status": "completed"
    },
    "tags": []
   },
   "source": [
    "We can see that people without parents or children on board are generally older. Those with family members on board, on the other hand, are younger. This finding totally makes sense because it's unlikely that a child will be on a cruise ship by him/herself.\n",
    "\n",
    "We can use this information to help us impute the missing *Age* values. If the *title* of the passenger with the missing value is not *Miss.*, we can impute the missing value using the median age based on the passenger's *title*. However, if the *title* of the passenger with the missing value is *Miss.*, we can narrow down the search to only passengers with the title *Miss.*, and use the median age based on *Parch*. While this method is not perfect, it is a reasonable approach that I found to be super cool!"
   ]
  },
  {
   "cell_type": "code",
   "execution_count": 28,
   "id": "f8b4becb",
   "metadata": {
    "execution": {
     "iopub.execute_input": "2023-06-01T01:42:59.113953Z",
     "iopub.status.busy": "2023-06-01T01:42:59.113252Z",
     "iopub.status.idle": "2023-06-01T01:42:59.384352Z",
     "shell.execute_reply": "2023-06-01T01:42:59.383717Z",
     "shell.execute_reply.started": "2023-06-01T01:30:24.039762Z"
    },
    "papermill": {
     "duration": 0.347614,
     "end_time": "2023-06-01T01:42:59.384504",
     "exception": false,
     "start_time": "2023-06-01T01:42:59.036890",
     "status": "completed"
    },
    "tags": []
   },
   "outputs": [
    {
     "name": "stderr",
     "output_type": "stream",
     "text": [
      "/var/folders/_z/fqc2y1zs5nxfts7kcfj9y20w0000gn/T/ipykernel_57390/147307425.py:21: SettingWithCopyWarning: \n",
      "A value is trying to be set on a copy of a slice from a DataFrame\n",
      "\n",
      "See the caveats in the documentation: https://pandas.pydata.org/pandas-docs/stable/user_guide/indexing.html#returning-a-view-versus-a-copy\n",
      "  data['Age'].iloc[i] = age_pred\n",
      "/var/folders/_z/fqc2y1zs5nxfts7kcfj9y20w0000gn/T/ipykernel_57390/147307425.py:21: SettingWithCopyWarning: \n",
      "A value is trying to be set on a copy of a slice from a DataFrame\n",
      "\n",
      "See the caveats in the documentation: https://pandas.pydata.org/pandas-docs/stable/user_guide/indexing.html#returning-a-view-versus-a-copy\n",
      "  data['Age'].iloc[i] = age_pred\n",
      "/var/folders/_z/fqc2y1zs5nxfts7kcfj9y20w0000gn/T/ipykernel_57390/147307425.py:21: SettingWithCopyWarning: \n",
      "A value is trying to be set on a copy of a slice from a DataFrame\n",
      "\n",
      "See the caveats in the documentation: https://pandas.pydata.org/pandas-docs/stable/user_guide/indexing.html#returning-a-view-versus-a-copy\n",
      "  data['Age'].iloc[i] = age_pred\n",
      "/var/folders/_z/fqc2y1zs5nxfts7kcfj9y20w0000gn/T/ipykernel_57390/147307425.py:21: SettingWithCopyWarning: \n",
      "A value is trying to be set on a copy of a slice from a DataFrame\n",
      "\n",
      "See the caveats in the documentation: https://pandas.pydata.org/pandas-docs/stable/user_guide/indexing.html#returning-a-view-versus-a-copy\n",
      "  data['Age'].iloc[i] = age_pred\n",
      "/var/folders/_z/fqc2y1zs5nxfts7kcfj9y20w0000gn/T/ipykernel_57390/147307425.py:21: SettingWithCopyWarning: \n",
      "A value is trying to be set on a copy of a slice from a DataFrame\n",
      "\n",
      "See the caveats in the documentation: https://pandas.pydata.org/pandas-docs/stable/user_guide/indexing.html#returning-a-view-versus-a-copy\n",
      "  data['Age'].iloc[i] = age_pred\n",
      "/var/folders/_z/fqc2y1zs5nxfts7kcfj9y20w0000gn/T/ipykernel_57390/147307425.py:21: SettingWithCopyWarning: \n",
      "A value is trying to be set on a copy of a slice from a DataFrame\n",
      "\n",
      "See the caveats in the documentation: https://pandas.pydata.org/pandas-docs/stable/user_guide/indexing.html#returning-a-view-versus-a-copy\n",
      "  data['Age'].iloc[i] = age_pred\n",
      "/var/folders/_z/fqc2y1zs5nxfts7kcfj9y20w0000gn/T/ipykernel_57390/147307425.py:21: SettingWithCopyWarning: \n",
      "A value is trying to be set on a copy of a slice from a DataFrame\n",
      "\n",
      "See the caveats in the documentation: https://pandas.pydata.org/pandas-docs/stable/user_guide/indexing.html#returning-a-view-versus-a-copy\n",
      "  data['Age'].iloc[i] = age_pred\n",
      "/var/folders/_z/fqc2y1zs5nxfts7kcfj9y20w0000gn/T/ipykernel_57390/147307425.py:21: SettingWithCopyWarning: \n",
      "A value is trying to be set on a copy of a slice from a DataFrame\n",
      "\n",
      "See the caveats in the documentation: https://pandas.pydata.org/pandas-docs/stable/user_guide/indexing.html#returning-a-view-versus-a-copy\n",
      "  data['Age'].iloc[i] = age_pred\n",
      "/var/folders/_z/fqc2y1zs5nxfts7kcfj9y20w0000gn/T/ipykernel_57390/147307425.py:21: SettingWithCopyWarning: \n",
      "A value is trying to be set on a copy of a slice from a DataFrame\n",
      "\n",
      "See the caveats in the documentation: https://pandas.pydata.org/pandas-docs/stable/user_guide/indexing.html#returning-a-view-versus-a-copy\n",
      "  data['Age'].iloc[i] = age_pred\n",
      "/var/folders/_z/fqc2y1zs5nxfts7kcfj9y20w0000gn/T/ipykernel_57390/147307425.py:21: SettingWithCopyWarning: \n",
      "A value is trying to be set on a copy of a slice from a DataFrame\n",
      "\n",
      "See the caveats in the documentation: https://pandas.pydata.org/pandas-docs/stable/user_guide/indexing.html#returning-a-view-versus-a-copy\n",
      "  data['Age'].iloc[i] = age_pred\n",
      "/var/folders/_z/fqc2y1zs5nxfts7kcfj9y20w0000gn/T/ipykernel_57390/147307425.py:21: SettingWithCopyWarning: \n",
      "A value is trying to be set on a copy of a slice from a DataFrame\n",
      "\n",
      "See the caveats in the documentation: https://pandas.pydata.org/pandas-docs/stable/user_guide/indexing.html#returning-a-view-versus-a-copy\n",
      "  data['Age'].iloc[i] = age_pred\n",
      "/var/folders/_z/fqc2y1zs5nxfts7kcfj9y20w0000gn/T/ipykernel_57390/147307425.py:21: SettingWithCopyWarning: \n",
      "A value is trying to be set on a copy of a slice from a DataFrame\n",
      "\n",
      "See the caveats in the documentation: https://pandas.pydata.org/pandas-docs/stable/user_guide/indexing.html#returning-a-view-versus-a-copy\n",
      "  data['Age'].iloc[i] = age_pred\n",
      "/var/folders/_z/fqc2y1zs5nxfts7kcfj9y20w0000gn/T/ipykernel_57390/147307425.py:21: SettingWithCopyWarning: \n",
      "A value is trying to be set on a copy of a slice from a DataFrame\n",
      "\n",
      "See the caveats in the documentation: https://pandas.pydata.org/pandas-docs/stable/user_guide/indexing.html#returning-a-view-versus-a-copy\n",
      "  data['Age'].iloc[i] = age_pred\n",
      "/var/folders/_z/fqc2y1zs5nxfts7kcfj9y20w0000gn/T/ipykernel_57390/147307425.py:21: SettingWithCopyWarning: \n",
      "A value is trying to be set on a copy of a slice from a DataFrame\n",
      "\n",
      "See the caveats in the documentation: https://pandas.pydata.org/pandas-docs/stable/user_guide/indexing.html#returning-a-view-versus-a-copy\n",
      "  data['Age'].iloc[i] = age_pred\n",
      "/var/folders/_z/fqc2y1zs5nxfts7kcfj9y20w0000gn/T/ipykernel_57390/147307425.py:21: SettingWithCopyWarning: \n",
      "A value is trying to be set on a copy of a slice from a DataFrame\n",
      "\n",
      "See the caveats in the documentation: https://pandas.pydata.org/pandas-docs/stable/user_guide/indexing.html#returning-a-view-versus-a-copy\n",
      "  data['Age'].iloc[i] = age_pred\n",
      "/var/folders/_z/fqc2y1zs5nxfts7kcfj9y20w0000gn/T/ipykernel_57390/147307425.py:21: SettingWithCopyWarning: \n",
      "A value is trying to be set on a copy of a slice from a DataFrame\n",
      "\n",
      "See the caveats in the documentation: https://pandas.pydata.org/pandas-docs/stable/user_guide/indexing.html#returning-a-view-versus-a-copy\n",
      "  data['Age'].iloc[i] = age_pred\n",
      "/var/folders/_z/fqc2y1zs5nxfts7kcfj9y20w0000gn/T/ipykernel_57390/147307425.py:21: SettingWithCopyWarning: \n",
      "A value is trying to be set on a copy of a slice from a DataFrame\n",
      "\n",
      "See the caveats in the documentation: https://pandas.pydata.org/pandas-docs/stable/user_guide/indexing.html#returning-a-view-versus-a-copy\n",
      "  data['Age'].iloc[i] = age_pred\n",
      "/var/folders/_z/fqc2y1zs5nxfts7kcfj9y20w0000gn/T/ipykernel_57390/147307425.py:21: SettingWithCopyWarning: \n",
      "A value is trying to be set on a copy of a slice from a DataFrame\n",
      "\n",
      "See the caveats in the documentation: https://pandas.pydata.org/pandas-docs/stable/user_guide/indexing.html#returning-a-view-versus-a-copy\n",
      "  data['Age'].iloc[i] = age_pred\n",
      "/var/folders/_z/fqc2y1zs5nxfts7kcfj9y20w0000gn/T/ipykernel_57390/147307425.py:21: SettingWithCopyWarning: \n",
      "A value is trying to be set on a copy of a slice from a DataFrame\n",
      "\n",
      "See the caveats in the documentation: https://pandas.pydata.org/pandas-docs/stable/user_guide/indexing.html#returning-a-view-versus-a-copy\n",
      "  data['Age'].iloc[i] = age_pred\n",
      "/var/folders/_z/fqc2y1zs5nxfts7kcfj9y20w0000gn/T/ipykernel_57390/147307425.py:21: SettingWithCopyWarning: \n",
      "A value is trying to be set on a copy of a slice from a DataFrame\n",
      "\n",
      "See the caveats in the documentation: https://pandas.pydata.org/pandas-docs/stable/user_guide/indexing.html#returning-a-view-versus-a-copy\n",
      "  data['Age'].iloc[i] = age_pred\n",
      "/var/folders/_z/fqc2y1zs5nxfts7kcfj9y20w0000gn/T/ipykernel_57390/147307425.py:21: SettingWithCopyWarning: \n",
      "A value is trying to be set on a copy of a slice from a DataFrame\n",
      "\n",
      "See the caveats in the documentation: https://pandas.pydata.org/pandas-docs/stable/user_guide/indexing.html#returning-a-view-versus-a-copy\n",
      "  data['Age'].iloc[i] = age_pred\n",
      "/var/folders/_z/fqc2y1zs5nxfts7kcfj9y20w0000gn/T/ipykernel_57390/147307425.py:21: SettingWithCopyWarning: \n",
      "A value is trying to be set on a copy of a slice from a DataFrame\n",
      "\n",
      "See the caveats in the documentation: https://pandas.pydata.org/pandas-docs/stable/user_guide/indexing.html#returning-a-view-versus-a-copy\n",
      "  data['Age'].iloc[i] = age_pred\n",
      "/var/folders/_z/fqc2y1zs5nxfts7kcfj9y20w0000gn/T/ipykernel_57390/147307425.py:21: SettingWithCopyWarning: \n",
      "A value is trying to be set on a copy of a slice from a DataFrame\n",
      "\n",
      "See the caveats in the documentation: https://pandas.pydata.org/pandas-docs/stable/user_guide/indexing.html#returning-a-view-versus-a-copy\n",
      "  data['Age'].iloc[i] = age_pred\n",
      "/var/folders/_z/fqc2y1zs5nxfts7kcfj9y20w0000gn/T/ipykernel_57390/147307425.py:21: SettingWithCopyWarning: \n",
      "A value is trying to be set on a copy of a slice from a DataFrame\n",
      "\n",
      "See the caveats in the documentation: https://pandas.pydata.org/pandas-docs/stable/user_guide/indexing.html#returning-a-view-versus-a-copy\n",
      "  data['Age'].iloc[i] = age_pred\n",
      "/var/folders/_z/fqc2y1zs5nxfts7kcfj9y20w0000gn/T/ipykernel_57390/147307425.py:21: SettingWithCopyWarning: \n",
      "A value is trying to be set on a copy of a slice from a DataFrame\n",
      "\n",
      "See the caveats in the documentation: https://pandas.pydata.org/pandas-docs/stable/user_guide/indexing.html#returning-a-view-versus-a-copy\n",
      "  data['Age'].iloc[i] = age_pred\n",
      "/var/folders/_z/fqc2y1zs5nxfts7kcfj9y20w0000gn/T/ipykernel_57390/147307425.py:21: SettingWithCopyWarning: \n",
      "A value is trying to be set on a copy of a slice from a DataFrame\n",
      "\n",
      "See the caveats in the documentation: https://pandas.pydata.org/pandas-docs/stable/user_guide/indexing.html#returning-a-view-versus-a-copy\n",
      "  data['Age'].iloc[i] = age_pred\n",
      "/var/folders/_z/fqc2y1zs5nxfts7kcfj9y20w0000gn/T/ipykernel_57390/147307425.py:21: SettingWithCopyWarning: \n",
      "A value is trying to be set on a copy of a slice from a DataFrame\n",
      "\n",
      "See the caveats in the documentation: https://pandas.pydata.org/pandas-docs/stable/user_guide/indexing.html#returning-a-view-versus-a-copy\n",
      "  data['Age'].iloc[i] = age_pred\n",
      "/var/folders/_z/fqc2y1zs5nxfts7kcfj9y20w0000gn/T/ipykernel_57390/147307425.py:21: SettingWithCopyWarning: \n",
      "A value is trying to be set on a copy of a slice from a DataFrame\n",
      "\n",
      "See the caveats in the documentation: https://pandas.pydata.org/pandas-docs/stable/user_guide/indexing.html#returning-a-view-versus-a-copy\n",
      "  data['Age'].iloc[i] = age_pred\n",
      "/var/folders/_z/fqc2y1zs5nxfts7kcfj9y20w0000gn/T/ipykernel_57390/147307425.py:21: SettingWithCopyWarning: \n",
      "A value is trying to be set on a copy of a slice from a DataFrame\n",
      "\n",
      "See the caveats in the documentation: https://pandas.pydata.org/pandas-docs/stable/user_guide/indexing.html#returning-a-view-versus-a-copy\n",
      "  data['Age'].iloc[i] = age_pred\n",
      "/var/folders/_z/fqc2y1zs5nxfts7kcfj9y20w0000gn/T/ipykernel_57390/147307425.py:21: SettingWithCopyWarning: \n",
      "A value is trying to be set on a copy of a slice from a DataFrame\n",
      "\n",
      "See the caveats in the documentation: https://pandas.pydata.org/pandas-docs/stable/user_guide/indexing.html#returning-a-view-versus-a-copy\n",
      "  data['Age'].iloc[i] = age_pred\n",
      "/var/folders/_z/fqc2y1zs5nxfts7kcfj9y20w0000gn/T/ipykernel_57390/147307425.py:21: SettingWithCopyWarning: \n",
      "A value is trying to be set on a copy of a slice from a DataFrame\n",
      "\n",
      "See the caveats in the documentation: https://pandas.pydata.org/pandas-docs/stable/user_guide/indexing.html#returning-a-view-versus-a-copy\n",
      "  data['Age'].iloc[i] = age_pred\n",
      "/var/folders/_z/fqc2y1zs5nxfts7kcfj9y20w0000gn/T/ipykernel_57390/147307425.py:21: SettingWithCopyWarning: \n",
      "A value is trying to be set on a copy of a slice from a DataFrame\n",
      "\n",
      "See the caveats in the documentation: https://pandas.pydata.org/pandas-docs/stable/user_guide/indexing.html#returning-a-view-versus-a-copy\n",
      "  data['Age'].iloc[i] = age_pred\n",
      "/var/folders/_z/fqc2y1zs5nxfts7kcfj9y20w0000gn/T/ipykernel_57390/147307425.py:21: SettingWithCopyWarning: \n",
      "A value is trying to be set on a copy of a slice from a DataFrame\n",
      "\n",
      "See the caveats in the documentation: https://pandas.pydata.org/pandas-docs/stable/user_guide/indexing.html#returning-a-view-versus-a-copy\n",
      "  data['Age'].iloc[i] = age_pred\n",
      "/var/folders/_z/fqc2y1zs5nxfts7kcfj9y20w0000gn/T/ipykernel_57390/147307425.py:21: SettingWithCopyWarning: \n",
      "A value is trying to be set on a copy of a slice from a DataFrame\n",
      "\n",
      "See the caveats in the documentation: https://pandas.pydata.org/pandas-docs/stable/user_guide/indexing.html#returning-a-view-versus-a-copy\n",
      "  data['Age'].iloc[i] = age_pred\n",
      "/var/folders/_z/fqc2y1zs5nxfts7kcfj9y20w0000gn/T/ipykernel_57390/147307425.py:21: SettingWithCopyWarning: \n",
      "A value is trying to be set on a copy of a slice from a DataFrame\n",
      "\n",
      "See the caveats in the documentation: https://pandas.pydata.org/pandas-docs/stable/user_guide/indexing.html#returning-a-view-versus-a-copy\n",
      "  data['Age'].iloc[i] = age_pred\n",
      "/var/folders/_z/fqc2y1zs5nxfts7kcfj9y20w0000gn/T/ipykernel_57390/147307425.py:21: SettingWithCopyWarning: \n",
      "A value is trying to be set on a copy of a slice from a DataFrame\n",
      "\n",
      "See the caveats in the documentation: https://pandas.pydata.org/pandas-docs/stable/user_guide/indexing.html#returning-a-view-versus-a-copy\n",
      "  data['Age'].iloc[i] = age_pred\n",
      "/var/folders/_z/fqc2y1zs5nxfts7kcfj9y20w0000gn/T/ipykernel_57390/147307425.py:21: SettingWithCopyWarning: \n",
      "A value is trying to be set on a copy of a slice from a DataFrame\n",
      "\n",
      "See the caveats in the documentation: https://pandas.pydata.org/pandas-docs/stable/user_guide/indexing.html#returning-a-view-versus-a-copy\n",
      "  data['Age'].iloc[i] = age_pred\n",
      "/var/folders/_z/fqc2y1zs5nxfts7kcfj9y20w0000gn/T/ipykernel_57390/147307425.py:21: SettingWithCopyWarning: \n",
      "A value is trying to be set on a copy of a slice from a DataFrame\n",
      "\n",
      "See the caveats in the documentation: https://pandas.pydata.org/pandas-docs/stable/user_guide/indexing.html#returning-a-view-versus-a-copy\n",
      "  data['Age'].iloc[i] = age_pred\n",
      "/var/folders/_z/fqc2y1zs5nxfts7kcfj9y20w0000gn/T/ipykernel_57390/147307425.py:21: SettingWithCopyWarning: \n",
      "A value is trying to be set on a copy of a slice from a DataFrame\n",
      "\n",
      "See the caveats in the documentation: https://pandas.pydata.org/pandas-docs/stable/user_guide/indexing.html#returning-a-view-versus-a-copy\n",
      "  data['Age'].iloc[i] = age_pred\n",
      "/var/folders/_z/fqc2y1zs5nxfts7kcfj9y20w0000gn/T/ipykernel_57390/147307425.py:21: SettingWithCopyWarning: \n",
      "A value is trying to be set on a copy of a slice from a DataFrame\n",
      "\n",
      "See the caveats in the documentation: https://pandas.pydata.org/pandas-docs/stable/user_guide/indexing.html#returning-a-view-versus-a-copy\n",
      "  data['Age'].iloc[i] = age_pred\n",
      "/var/folders/_z/fqc2y1zs5nxfts7kcfj9y20w0000gn/T/ipykernel_57390/147307425.py:21: SettingWithCopyWarning: \n",
      "A value is trying to be set on a copy of a slice from a DataFrame\n",
      "\n",
      "See the caveats in the documentation: https://pandas.pydata.org/pandas-docs/stable/user_guide/indexing.html#returning-a-view-versus-a-copy\n",
      "  data['Age'].iloc[i] = age_pred\n",
      "/var/folders/_z/fqc2y1zs5nxfts7kcfj9y20w0000gn/T/ipykernel_57390/147307425.py:21: SettingWithCopyWarning: \n",
      "A value is trying to be set on a copy of a slice from a DataFrame\n",
      "\n",
      "See the caveats in the documentation: https://pandas.pydata.org/pandas-docs/stable/user_guide/indexing.html#returning-a-view-versus-a-copy\n",
      "  data['Age'].iloc[i] = age_pred\n",
      "/var/folders/_z/fqc2y1zs5nxfts7kcfj9y20w0000gn/T/ipykernel_57390/147307425.py:21: SettingWithCopyWarning: \n",
      "A value is trying to be set on a copy of a slice from a DataFrame\n",
      "\n",
      "See the caveats in the documentation: https://pandas.pydata.org/pandas-docs/stable/user_guide/indexing.html#returning-a-view-versus-a-copy\n",
      "  data['Age'].iloc[i] = age_pred\n",
      "/var/folders/_z/fqc2y1zs5nxfts7kcfj9y20w0000gn/T/ipykernel_57390/147307425.py:21: SettingWithCopyWarning: \n",
      "A value is trying to be set on a copy of a slice from a DataFrame\n",
      "\n",
      "See the caveats in the documentation: https://pandas.pydata.org/pandas-docs/stable/user_guide/indexing.html#returning-a-view-versus-a-copy\n",
      "  data['Age'].iloc[i] = age_pred\n",
      "/var/folders/_z/fqc2y1zs5nxfts7kcfj9y20w0000gn/T/ipykernel_57390/147307425.py:21: SettingWithCopyWarning: \n",
      "A value is trying to be set on a copy of a slice from a DataFrame\n",
      "\n",
      "See the caveats in the documentation: https://pandas.pydata.org/pandas-docs/stable/user_guide/indexing.html#returning-a-view-versus-a-copy\n",
      "  data['Age'].iloc[i] = age_pred\n",
      "/var/folders/_z/fqc2y1zs5nxfts7kcfj9y20w0000gn/T/ipykernel_57390/147307425.py:21: SettingWithCopyWarning: \n",
      "A value is trying to be set on a copy of a slice from a DataFrame\n",
      "\n",
      "See the caveats in the documentation: https://pandas.pydata.org/pandas-docs/stable/user_guide/indexing.html#returning-a-view-versus-a-copy\n",
      "  data['Age'].iloc[i] = age_pred\n",
      "/var/folders/_z/fqc2y1zs5nxfts7kcfj9y20w0000gn/T/ipykernel_57390/147307425.py:21: SettingWithCopyWarning: \n",
      "A value is trying to be set on a copy of a slice from a DataFrame\n",
      "\n",
      "See the caveats in the documentation: https://pandas.pydata.org/pandas-docs/stable/user_guide/indexing.html#returning-a-view-versus-a-copy\n",
      "  data['Age'].iloc[i] = age_pred\n",
      "/var/folders/_z/fqc2y1zs5nxfts7kcfj9y20w0000gn/T/ipykernel_57390/147307425.py:21: SettingWithCopyWarning: \n",
      "A value is trying to be set on a copy of a slice from a DataFrame\n",
      "\n",
      "See the caveats in the documentation: https://pandas.pydata.org/pandas-docs/stable/user_guide/indexing.html#returning-a-view-versus-a-copy\n",
      "  data['Age'].iloc[i] = age_pred\n",
      "/var/folders/_z/fqc2y1zs5nxfts7kcfj9y20w0000gn/T/ipykernel_57390/147307425.py:21: SettingWithCopyWarning: \n",
      "A value is trying to be set on a copy of a slice from a DataFrame\n",
      "\n",
      "See the caveats in the documentation: https://pandas.pydata.org/pandas-docs/stable/user_guide/indexing.html#returning-a-view-versus-a-copy\n",
      "  data['Age'].iloc[i] = age_pred\n",
      "/var/folders/_z/fqc2y1zs5nxfts7kcfj9y20w0000gn/T/ipykernel_57390/147307425.py:21: SettingWithCopyWarning: \n",
      "A value is trying to be set on a copy of a slice from a DataFrame\n",
      "\n",
      "See the caveats in the documentation: https://pandas.pydata.org/pandas-docs/stable/user_guide/indexing.html#returning-a-view-versus-a-copy\n",
      "  data['Age'].iloc[i] = age_pred\n",
      "/var/folders/_z/fqc2y1zs5nxfts7kcfj9y20w0000gn/T/ipykernel_57390/147307425.py:21: SettingWithCopyWarning: \n",
      "A value is trying to be set on a copy of a slice from a DataFrame\n",
      "\n",
      "See the caveats in the documentation: https://pandas.pydata.org/pandas-docs/stable/user_guide/indexing.html#returning-a-view-versus-a-copy\n",
      "  data['Age'].iloc[i] = age_pred\n",
      "/var/folders/_z/fqc2y1zs5nxfts7kcfj9y20w0000gn/T/ipykernel_57390/147307425.py:21: SettingWithCopyWarning: \n",
      "A value is trying to be set on a copy of a slice from a DataFrame\n",
      "\n",
      "See the caveats in the documentation: https://pandas.pydata.org/pandas-docs/stable/user_guide/indexing.html#returning-a-view-versus-a-copy\n",
      "  data['Age'].iloc[i] = age_pred\n",
      "/var/folders/_z/fqc2y1zs5nxfts7kcfj9y20w0000gn/T/ipykernel_57390/147307425.py:21: SettingWithCopyWarning: \n",
      "A value is trying to be set on a copy of a slice from a DataFrame\n",
      "\n",
      "See the caveats in the documentation: https://pandas.pydata.org/pandas-docs/stable/user_guide/indexing.html#returning-a-view-versus-a-copy\n",
      "  data['Age'].iloc[i] = age_pred\n",
      "/var/folders/_z/fqc2y1zs5nxfts7kcfj9y20w0000gn/T/ipykernel_57390/147307425.py:21: SettingWithCopyWarning: \n",
      "A value is trying to be set on a copy of a slice from a DataFrame\n",
      "\n",
      "See the caveats in the documentation: https://pandas.pydata.org/pandas-docs/stable/user_guide/indexing.html#returning-a-view-versus-a-copy\n",
      "  data['Age'].iloc[i] = age_pred\n",
      "/var/folders/_z/fqc2y1zs5nxfts7kcfj9y20w0000gn/T/ipykernel_57390/147307425.py:21: SettingWithCopyWarning: \n",
      "A value is trying to be set on a copy of a slice from a DataFrame\n",
      "\n",
      "See the caveats in the documentation: https://pandas.pydata.org/pandas-docs/stable/user_guide/indexing.html#returning-a-view-versus-a-copy\n",
      "  data['Age'].iloc[i] = age_pred\n",
      "/var/folders/_z/fqc2y1zs5nxfts7kcfj9y20w0000gn/T/ipykernel_57390/147307425.py:21: SettingWithCopyWarning: \n",
      "A value is trying to be set on a copy of a slice from a DataFrame\n",
      "\n",
      "See the caveats in the documentation: https://pandas.pydata.org/pandas-docs/stable/user_guide/indexing.html#returning-a-view-versus-a-copy\n",
      "  data['Age'].iloc[i] = age_pred\n",
      "/var/folders/_z/fqc2y1zs5nxfts7kcfj9y20w0000gn/T/ipykernel_57390/147307425.py:21: SettingWithCopyWarning: \n",
      "A value is trying to be set on a copy of a slice from a DataFrame\n",
      "\n",
      "See the caveats in the documentation: https://pandas.pydata.org/pandas-docs/stable/user_guide/indexing.html#returning-a-view-versus-a-copy\n",
      "  data['Age'].iloc[i] = age_pred\n",
      "/var/folders/_z/fqc2y1zs5nxfts7kcfj9y20w0000gn/T/ipykernel_57390/147307425.py:21: SettingWithCopyWarning: \n",
      "A value is trying to be set on a copy of a slice from a DataFrame\n",
      "\n",
      "See the caveats in the documentation: https://pandas.pydata.org/pandas-docs/stable/user_guide/indexing.html#returning-a-view-versus-a-copy\n",
      "  data['Age'].iloc[i] = age_pred\n",
      "/var/folders/_z/fqc2y1zs5nxfts7kcfj9y20w0000gn/T/ipykernel_57390/147307425.py:21: SettingWithCopyWarning: \n",
      "A value is trying to be set on a copy of a slice from a DataFrame\n",
      "\n",
      "See the caveats in the documentation: https://pandas.pydata.org/pandas-docs/stable/user_guide/indexing.html#returning-a-view-versus-a-copy\n",
      "  data['Age'].iloc[i] = age_pred\n",
      "/var/folders/_z/fqc2y1zs5nxfts7kcfj9y20w0000gn/T/ipykernel_57390/147307425.py:21: SettingWithCopyWarning: \n",
      "A value is trying to be set on a copy of a slice from a DataFrame\n",
      "\n",
      "See the caveats in the documentation: https://pandas.pydata.org/pandas-docs/stable/user_guide/indexing.html#returning-a-view-versus-a-copy\n",
      "  data['Age'].iloc[i] = age_pred\n",
      "/var/folders/_z/fqc2y1zs5nxfts7kcfj9y20w0000gn/T/ipykernel_57390/147307425.py:21: SettingWithCopyWarning: \n",
      "A value is trying to be set on a copy of a slice from a DataFrame\n",
      "\n",
      "See the caveats in the documentation: https://pandas.pydata.org/pandas-docs/stable/user_guide/indexing.html#returning-a-view-versus-a-copy\n",
      "  data['Age'].iloc[i] = age_pred\n",
      "/var/folders/_z/fqc2y1zs5nxfts7kcfj9y20w0000gn/T/ipykernel_57390/147307425.py:21: SettingWithCopyWarning: \n",
      "A value is trying to be set on a copy of a slice from a DataFrame\n",
      "\n",
      "See the caveats in the documentation: https://pandas.pydata.org/pandas-docs/stable/user_guide/indexing.html#returning-a-view-versus-a-copy\n",
      "  data['Age'].iloc[i] = age_pred\n",
      "/var/folders/_z/fqc2y1zs5nxfts7kcfj9y20w0000gn/T/ipykernel_57390/147307425.py:21: SettingWithCopyWarning: \n",
      "A value is trying to be set on a copy of a slice from a DataFrame\n",
      "\n",
      "See the caveats in the documentation: https://pandas.pydata.org/pandas-docs/stable/user_guide/indexing.html#returning-a-view-versus-a-copy\n",
      "  data['Age'].iloc[i] = age_pred\n",
      "/var/folders/_z/fqc2y1zs5nxfts7kcfj9y20w0000gn/T/ipykernel_57390/147307425.py:21: SettingWithCopyWarning: \n",
      "A value is trying to be set on a copy of a slice from a DataFrame\n",
      "\n",
      "See the caveats in the documentation: https://pandas.pydata.org/pandas-docs/stable/user_guide/indexing.html#returning-a-view-versus-a-copy\n",
      "  data['Age'].iloc[i] = age_pred\n",
      "/var/folders/_z/fqc2y1zs5nxfts7kcfj9y20w0000gn/T/ipykernel_57390/147307425.py:21: SettingWithCopyWarning: \n",
      "A value is trying to be set on a copy of a slice from a DataFrame\n",
      "\n",
      "See the caveats in the documentation: https://pandas.pydata.org/pandas-docs/stable/user_guide/indexing.html#returning-a-view-versus-a-copy\n",
      "  data['Age'].iloc[i] = age_pred\n",
      "/var/folders/_z/fqc2y1zs5nxfts7kcfj9y20w0000gn/T/ipykernel_57390/147307425.py:21: SettingWithCopyWarning: \n",
      "A value is trying to be set on a copy of a slice from a DataFrame\n",
      "\n",
      "See the caveats in the documentation: https://pandas.pydata.org/pandas-docs/stable/user_guide/indexing.html#returning-a-view-versus-a-copy\n",
      "  data['Age'].iloc[i] = age_pred\n",
      "/var/folders/_z/fqc2y1zs5nxfts7kcfj9y20w0000gn/T/ipykernel_57390/147307425.py:21: SettingWithCopyWarning: \n",
      "A value is trying to be set on a copy of a slice from a DataFrame\n",
      "\n",
      "See the caveats in the documentation: https://pandas.pydata.org/pandas-docs/stable/user_guide/indexing.html#returning-a-view-versus-a-copy\n",
      "  data['Age'].iloc[i] = age_pred\n",
      "/var/folders/_z/fqc2y1zs5nxfts7kcfj9y20w0000gn/T/ipykernel_57390/147307425.py:21: SettingWithCopyWarning: \n",
      "A value is trying to be set on a copy of a slice from a DataFrame\n",
      "\n",
      "See the caveats in the documentation: https://pandas.pydata.org/pandas-docs/stable/user_guide/indexing.html#returning-a-view-versus-a-copy\n",
      "  data['Age'].iloc[i] = age_pred\n",
      "/var/folders/_z/fqc2y1zs5nxfts7kcfj9y20w0000gn/T/ipykernel_57390/147307425.py:21: SettingWithCopyWarning: \n",
      "A value is trying to be set on a copy of a slice from a DataFrame\n",
      "\n",
      "See the caveats in the documentation: https://pandas.pydata.org/pandas-docs/stable/user_guide/indexing.html#returning-a-view-versus-a-copy\n",
      "  data['Age'].iloc[i] = age_pred\n",
      "/var/folders/_z/fqc2y1zs5nxfts7kcfj9y20w0000gn/T/ipykernel_57390/147307425.py:21: SettingWithCopyWarning: \n",
      "A value is trying to be set on a copy of a slice from a DataFrame\n",
      "\n",
      "See the caveats in the documentation: https://pandas.pydata.org/pandas-docs/stable/user_guide/indexing.html#returning-a-view-versus-a-copy\n",
      "  data['Age'].iloc[i] = age_pred\n",
      "/var/folders/_z/fqc2y1zs5nxfts7kcfj9y20w0000gn/T/ipykernel_57390/147307425.py:21: SettingWithCopyWarning: \n",
      "A value is trying to be set on a copy of a slice from a DataFrame\n",
      "\n",
      "See the caveats in the documentation: https://pandas.pydata.org/pandas-docs/stable/user_guide/indexing.html#returning-a-view-versus-a-copy\n",
      "  data['Age'].iloc[i] = age_pred\n",
      "/var/folders/_z/fqc2y1zs5nxfts7kcfj9y20w0000gn/T/ipykernel_57390/147307425.py:21: SettingWithCopyWarning: \n",
      "A value is trying to be set on a copy of a slice from a DataFrame\n",
      "\n",
      "See the caveats in the documentation: https://pandas.pydata.org/pandas-docs/stable/user_guide/indexing.html#returning-a-view-versus-a-copy\n",
      "  data['Age'].iloc[i] = age_pred\n",
      "/var/folders/_z/fqc2y1zs5nxfts7kcfj9y20w0000gn/T/ipykernel_57390/147307425.py:21: SettingWithCopyWarning: \n",
      "A value is trying to be set on a copy of a slice from a DataFrame\n",
      "\n",
      "See the caveats in the documentation: https://pandas.pydata.org/pandas-docs/stable/user_guide/indexing.html#returning-a-view-versus-a-copy\n",
      "  data['Age'].iloc[i] = age_pred\n",
      "/var/folders/_z/fqc2y1zs5nxfts7kcfj9y20w0000gn/T/ipykernel_57390/147307425.py:21: SettingWithCopyWarning: \n",
      "A value is trying to be set on a copy of a slice from a DataFrame\n",
      "\n",
      "See the caveats in the documentation: https://pandas.pydata.org/pandas-docs/stable/user_guide/indexing.html#returning-a-view-versus-a-copy\n",
      "  data['Age'].iloc[i] = age_pred\n",
      "/var/folders/_z/fqc2y1zs5nxfts7kcfj9y20w0000gn/T/ipykernel_57390/147307425.py:21: SettingWithCopyWarning: \n",
      "A value is trying to be set on a copy of a slice from a DataFrame\n",
      "\n",
      "See the caveats in the documentation: https://pandas.pydata.org/pandas-docs/stable/user_guide/indexing.html#returning-a-view-versus-a-copy\n",
      "  data['Age'].iloc[i] = age_pred\n",
      "/var/folders/_z/fqc2y1zs5nxfts7kcfj9y20w0000gn/T/ipykernel_57390/147307425.py:21: SettingWithCopyWarning: \n",
      "A value is trying to be set on a copy of a slice from a DataFrame\n",
      "\n",
      "See the caveats in the documentation: https://pandas.pydata.org/pandas-docs/stable/user_guide/indexing.html#returning-a-view-versus-a-copy\n",
      "  data['Age'].iloc[i] = age_pred\n",
      "/var/folders/_z/fqc2y1zs5nxfts7kcfj9y20w0000gn/T/ipykernel_57390/147307425.py:21: SettingWithCopyWarning: \n",
      "A value is trying to be set on a copy of a slice from a DataFrame\n",
      "\n",
      "See the caveats in the documentation: https://pandas.pydata.org/pandas-docs/stable/user_guide/indexing.html#returning-a-view-versus-a-copy\n",
      "  data['Age'].iloc[i] = age_pred\n",
      "/var/folders/_z/fqc2y1zs5nxfts7kcfj9y20w0000gn/T/ipykernel_57390/147307425.py:21: SettingWithCopyWarning: \n",
      "A value is trying to be set on a copy of a slice from a DataFrame\n",
      "\n",
      "See the caveats in the documentation: https://pandas.pydata.org/pandas-docs/stable/user_guide/indexing.html#returning-a-view-versus-a-copy\n",
      "  data['Age'].iloc[i] = age_pred\n",
      "/var/folders/_z/fqc2y1zs5nxfts7kcfj9y20w0000gn/T/ipykernel_57390/147307425.py:21: SettingWithCopyWarning: \n",
      "A value is trying to be set on a copy of a slice from a DataFrame\n",
      "\n",
      "See the caveats in the documentation: https://pandas.pydata.org/pandas-docs/stable/user_guide/indexing.html#returning-a-view-versus-a-copy\n",
      "  data['Age'].iloc[i] = age_pred\n",
      "/var/folders/_z/fqc2y1zs5nxfts7kcfj9y20w0000gn/T/ipykernel_57390/147307425.py:21: SettingWithCopyWarning: \n",
      "A value is trying to be set on a copy of a slice from a DataFrame\n",
      "\n",
      "See the caveats in the documentation: https://pandas.pydata.org/pandas-docs/stable/user_guide/indexing.html#returning-a-view-versus-a-copy\n",
      "  data['Age'].iloc[i] = age_pred\n",
      "/var/folders/_z/fqc2y1zs5nxfts7kcfj9y20w0000gn/T/ipykernel_57390/147307425.py:21: SettingWithCopyWarning: \n",
      "A value is trying to be set on a copy of a slice from a DataFrame\n",
      "\n",
      "See the caveats in the documentation: https://pandas.pydata.org/pandas-docs/stable/user_guide/indexing.html#returning-a-view-versus-a-copy\n",
      "  data['Age'].iloc[i] = age_pred\n",
      "/var/folders/_z/fqc2y1zs5nxfts7kcfj9y20w0000gn/T/ipykernel_57390/147307425.py:21: SettingWithCopyWarning: \n",
      "A value is trying to be set on a copy of a slice from a DataFrame\n",
      "\n",
      "See the caveats in the documentation: https://pandas.pydata.org/pandas-docs/stable/user_guide/indexing.html#returning-a-view-versus-a-copy\n",
      "  data['Age'].iloc[i] = age_pred\n",
      "/var/folders/_z/fqc2y1zs5nxfts7kcfj9y20w0000gn/T/ipykernel_57390/147307425.py:21: SettingWithCopyWarning: \n",
      "A value is trying to be set on a copy of a slice from a DataFrame\n",
      "\n",
      "See the caveats in the documentation: https://pandas.pydata.org/pandas-docs/stable/user_guide/indexing.html#returning-a-view-versus-a-copy\n",
      "  data['Age'].iloc[i] = age_pred\n",
      "/var/folders/_z/fqc2y1zs5nxfts7kcfj9y20w0000gn/T/ipykernel_57390/147307425.py:21: SettingWithCopyWarning: \n",
      "A value is trying to be set on a copy of a slice from a DataFrame\n",
      "\n",
      "See the caveats in the documentation: https://pandas.pydata.org/pandas-docs/stable/user_guide/indexing.html#returning-a-view-versus-a-copy\n",
      "  data['Age'].iloc[i] = age_pred\n",
      "/var/folders/_z/fqc2y1zs5nxfts7kcfj9y20w0000gn/T/ipykernel_57390/147307425.py:21: SettingWithCopyWarning: \n",
      "A value is trying to be set on a copy of a slice from a DataFrame\n",
      "\n",
      "See the caveats in the documentation: https://pandas.pydata.org/pandas-docs/stable/user_guide/indexing.html#returning-a-view-versus-a-copy\n",
      "  data['Age'].iloc[i] = age_pred\n",
      "/var/folders/_z/fqc2y1zs5nxfts7kcfj9y20w0000gn/T/ipykernel_57390/147307425.py:21: SettingWithCopyWarning: \n",
      "A value is trying to be set on a copy of a slice from a DataFrame\n",
      "\n",
      "See the caveats in the documentation: https://pandas.pydata.org/pandas-docs/stable/user_guide/indexing.html#returning-a-view-versus-a-copy\n",
      "  data['Age'].iloc[i] = age_pred\n",
      "/var/folders/_z/fqc2y1zs5nxfts7kcfj9y20w0000gn/T/ipykernel_57390/147307425.py:21: SettingWithCopyWarning: \n",
      "A value is trying to be set on a copy of a slice from a DataFrame\n",
      "\n",
      "See the caveats in the documentation: https://pandas.pydata.org/pandas-docs/stable/user_guide/indexing.html#returning-a-view-versus-a-copy\n",
      "  data['Age'].iloc[i] = age_pred\n",
      "/var/folders/_z/fqc2y1zs5nxfts7kcfj9y20w0000gn/T/ipykernel_57390/147307425.py:21: SettingWithCopyWarning: \n",
      "A value is trying to be set on a copy of a slice from a DataFrame\n",
      "\n",
      "See the caveats in the documentation: https://pandas.pydata.org/pandas-docs/stable/user_guide/indexing.html#returning-a-view-versus-a-copy\n",
      "  data['Age'].iloc[i] = age_pred\n",
      "/var/folders/_z/fqc2y1zs5nxfts7kcfj9y20w0000gn/T/ipykernel_57390/147307425.py:21: SettingWithCopyWarning: \n",
      "A value is trying to be set on a copy of a slice from a DataFrame\n",
      "\n",
      "See the caveats in the documentation: https://pandas.pydata.org/pandas-docs/stable/user_guide/indexing.html#returning-a-view-versus-a-copy\n",
      "  data['Age'].iloc[i] = age_pred\n",
      "/var/folders/_z/fqc2y1zs5nxfts7kcfj9y20w0000gn/T/ipykernel_57390/147307425.py:21: SettingWithCopyWarning: \n",
      "A value is trying to be set on a copy of a slice from a DataFrame\n",
      "\n",
      "See the caveats in the documentation: https://pandas.pydata.org/pandas-docs/stable/user_guide/indexing.html#returning-a-view-versus-a-copy\n",
      "  data['Age'].iloc[i] = age_pred\n",
      "/var/folders/_z/fqc2y1zs5nxfts7kcfj9y20w0000gn/T/ipykernel_57390/147307425.py:21: SettingWithCopyWarning: \n",
      "A value is trying to be set on a copy of a slice from a DataFrame\n",
      "\n",
      "See the caveats in the documentation: https://pandas.pydata.org/pandas-docs/stable/user_guide/indexing.html#returning-a-view-versus-a-copy\n",
      "  data['Age'].iloc[i] = age_pred\n",
      "/var/folders/_z/fqc2y1zs5nxfts7kcfj9y20w0000gn/T/ipykernel_57390/147307425.py:21: SettingWithCopyWarning: \n",
      "A value is trying to be set on a copy of a slice from a DataFrame\n",
      "\n",
      "See the caveats in the documentation: https://pandas.pydata.org/pandas-docs/stable/user_guide/indexing.html#returning-a-view-versus-a-copy\n",
      "  data['Age'].iloc[i] = age_pred\n",
      "/var/folders/_z/fqc2y1zs5nxfts7kcfj9y20w0000gn/T/ipykernel_57390/147307425.py:21: SettingWithCopyWarning: \n",
      "A value is trying to be set on a copy of a slice from a DataFrame\n",
      "\n",
      "See the caveats in the documentation: https://pandas.pydata.org/pandas-docs/stable/user_guide/indexing.html#returning-a-view-versus-a-copy\n",
      "  data['Age'].iloc[i] = age_pred\n",
      "/var/folders/_z/fqc2y1zs5nxfts7kcfj9y20w0000gn/T/ipykernel_57390/147307425.py:21: SettingWithCopyWarning: \n",
      "A value is trying to be set on a copy of a slice from a DataFrame\n",
      "\n",
      "See the caveats in the documentation: https://pandas.pydata.org/pandas-docs/stable/user_guide/indexing.html#returning-a-view-versus-a-copy\n",
      "  data['Age'].iloc[i] = age_pred\n",
      "/var/folders/_z/fqc2y1zs5nxfts7kcfj9y20w0000gn/T/ipykernel_57390/147307425.py:21: SettingWithCopyWarning: \n",
      "A value is trying to be set on a copy of a slice from a DataFrame\n",
      "\n",
      "See the caveats in the documentation: https://pandas.pydata.org/pandas-docs/stable/user_guide/indexing.html#returning-a-view-versus-a-copy\n",
      "  data['Age'].iloc[i] = age_pred\n",
      "/var/folders/_z/fqc2y1zs5nxfts7kcfj9y20w0000gn/T/ipykernel_57390/147307425.py:21: SettingWithCopyWarning: \n",
      "A value is trying to be set on a copy of a slice from a DataFrame\n",
      "\n",
      "See the caveats in the documentation: https://pandas.pydata.org/pandas-docs/stable/user_guide/indexing.html#returning-a-view-versus-a-copy\n",
      "  data['Age'].iloc[i] = age_pred\n",
      "/var/folders/_z/fqc2y1zs5nxfts7kcfj9y20w0000gn/T/ipykernel_57390/147307425.py:21: SettingWithCopyWarning: \n",
      "A value is trying to be set on a copy of a slice from a DataFrame\n",
      "\n",
      "See the caveats in the documentation: https://pandas.pydata.org/pandas-docs/stable/user_guide/indexing.html#returning-a-view-versus-a-copy\n",
      "  data['Age'].iloc[i] = age_pred\n",
      "/var/folders/_z/fqc2y1zs5nxfts7kcfj9y20w0000gn/T/ipykernel_57390/147307425.py:21: SettingWithCopyWarning: \n",
      "A value is trying to be set on a copy of a slice from a DataFrame\n",
      "\n",
      "See the caveats in the documentation: https://pandas.pydata.org/pandas-docs/stable/user_guide/indexing.html#returning-a-view-versus-a-copy\n",
      "  data['Age'].iloc[i] = age_pred\n",
      "/var/folders/_z/fqc2y1zs5nxfts7kcfj9y20w0000gn/T/ipykernel_57390/147307425.py:21: SettingWithCopyWarning: \n",
      "A value is trying to be set on a copy of a slice from a DataFrame\n",
      "\n",
      "See the caveats in the documentation: https://pandas.pydata.org/pandas-docs/stable/user_guide/indexing.html#returning-a-view-versus-a-copy\n",
      "  data['Age'].iloc[i] = age_pred\n",
      "/var/folders/_z/fqc2y1zs5nxfts7kcfj9y20w0000gn/T/ipykernel_57390/147307425.py:21: SettingWithCopyWarning: \n",
      "A value is trying to be set on a copy of a slice from a DataFrame\n",
      "\n",
      "See the caveats in the documentation: https://pandas.pydata.org/pandas-docs/stable/user_guide/indexing.html#returning-a-view-versus-a-copy\n",
      "  data['Age'].iloc[i] = age_pred\n",
      "/var/folders/_z/fqc2y1zs5nxfts7kcfj9y20w0000gn/T/ipykernel_57390/147307425.py:21: SettingWithCopyWarning: \n",
      "A value is trying to be set on a copy of a slice from a DataFrame\n",
      "\n",
      "See the caveats in the documentation: https://pandas.pydata.org/pandas-docs/stable/user_guide/indexing.html#returning-a-view-versus-a-copy\n",
      "  data['Age'].iloc[i] = age_pred\n",
      "/var/folders/_z/fqc2y1zs5nxfts7kcfj9y20w0000gn/T/ipykernel_57390/147307425.py:21: SettingWithCopyWarning: \n",
      "A value is trying to be set on a copy of a slice from a DataFrame\n",
      "\n",
      "See the caveats in the documentation: https://pandas.pydata.org/pandas-docs/stable/user_guide/indexing.html#returning-a-view-versus-a-copy\n",
      "  data['Age'].iloc[i] = age_pred\n",
      "/var/folders/_z/fqc2y1zs5nxfts7kcfj9y20w0000gn/T/ipykernel_57390/147307425.py:21: SettingWithCopyWarning: \n",
      "A value is trying to be set on a copy of a slice from a DataFrame\n",
      "\n",
      "See the caveats in the documentation: https://pandas.pydata.org/pandas-docs/stable/user_guide/indexing.html#returning-a-view-versus-a-copy\n",
      "  data['Age'].iloc[i] = age_pred\n",
      "/var/folders/_z/fqc2y1zs5nxfts7kcfj9y20w0000gn/T/ipykernel_57390/147307425.py:21: SettingWithCopyWarning: \n",
      "A value is trying to be set on a copy of a slice from a DataFrame\n",
      "\n",
      "See the caveats in the documentation: https://pandas.pydata.org/pandas-docs/stable/user_guide/indexing.html#returning-a-view-versus-a-copy\n",
      "  data['Age'].iloc[i] = age_pred\n",
      "/var/folders/_z/fqc2y1zs5nxfts7kcfj9y20w0000gn/T/ipykernel_57390/147307425.py:21: SettingWithCopyWarning: \n",
      "A value is trying to be set on a copy of a slice from a DataFrame\n",
      "\n",
      "See the caveats in the documentation: https://pandas.pydata.org/pandas-docs/stable/user_guide/indexing.html#returning-a-view-versus-a-copy\n",
      "  data['Age'].iloc[i] = age_pred\n",
      "/var/folders/_z/fqc2y1zs5nxfts7kcfj9y20w0000gn/T/ipykernel_57390/147307425.py:21: SettingWithCopyWarning: \n",
      "A value is trying to be set on a copy of a slice from a DataFrame\n",
      "\n",
      "See the caveats in the documentation: https://pandas.pydata.org/pandas-docs/stable/user_guide/indexing.html#returning-a-view-versus-a-copy\n",
      "  data['Age'].iloc[i] = age_pred\n",
      "/var/folders/_z/fqc2y1zs5nxfts7kcfj9y20w0000gn/T/ipykernel_57390/147307425.py:21: SettingWithCopyWarning: \n",
      "A value is trying to be set on a copy of a slice from a DataFrame\n",
      "\n",
      "See the caveats in the documentation: https://pandas.pydata.org/pandas-docs/stable/user_guide/indexing.html#returning-a-view-versus-a-copy\n",
      "  data['Age'].iloc[i] = age_pred\n",
      "/var/folders/_z/fqc2y1zs5nxfts7kcfj9y20w0000gn/T/ipykernel_57390/147307425.py:21: SettingWithCopyWarning: \n",
      "A value is trying to be set on a copy of a slice from a DataFrame\n",
      "\n",
      "See the caveats in the documentation: https://pandas.pydata.org/pandas-docs/stable/user_guide/indexing.html#returning-a-view-versus-a-copy\n",
      "  data['Age'].iloc[i] = age_pred\n",
      "/var/folders/_z/fqc2y1zs5nxfts7kcfj9y20w0000gn/T/ipykernel_57390/147307425.py:21: SettingWithCopyWarning: \n",
      "A value is trying to be set on a copy of a slice from a DataFrame\n",
      "\n",
      "See the caveats in the documentation: https://pandas.pydata.org/pandas-docs/stable/user_guide/indexing.html#returning-a-view-versus-a-copy\n",
      "  data['Age'].iloc[i] = age_pred\n",
      "/var/folders/_z/fqc2y1zs5nxfts7kcfj9y20w0000gn/T/ipykernel_57390/147307425.py:21: SettingWithCopyWarning: \n",
      "A value is trying to be set on a copy of a slice from a DataFrame\n",
      "\n",
      "See the caveats in the documentation: https://pandas.pydata.org/pandas-docs/stable/user_guide/indexing.html#returning-a-view-versus-a-copy\n",
      "  data['Age'].iloc[i] = age_pred\n",
      "/var/folders/_z/fqc2y1zs5nxfts7kcfj9y20w0000gn/T/ipykernel_57390/147307425.py:21: SettingWithCopyWarning: \n",
      "A value is trying to be set on a copy of a slice from a DataFrame\n",
      "\n",
      "See the caveats in the documentation: https://pandas.pydata.org/pandas-docs/stable/user_guide/indexing.html#returning-a-view-versus-a-copy\n",
      "  data['Age'].iloc[i] = age_pred\n",
      "/var/folders/_z/fqc2y1zs5nxfts7kcfj9y20w0000gn/T/ipykernel_57390/147307425.py:21: SettingWithCopyWarning: \n",
      "A value is trying to be set on a copy of a slice from a DataFrame\n",
      "\n",
      "See the caveats in the documentation: https://pandas.pydata.org/pandas-docs/stable/user_guide/indexing.html#returning-a-view-versus-a-copy\n",
      "  data['Age'].iloc[i] = age_pred\n",
      "/var/folders/_z/fqc2y1zs5nxfts7kcfj9y20w0000gn/T/ipykernel_57390/147307425.py:21: SettingWithCopyWarning: \n",
      "A value is trying to be set on a copy of a slice from a DataFrame\n",
      "\n",
      "See the caveats in the documentation: https://pandas.pydata.org/pandas-docs/stable/user_guide/indexing.html#returning-a-view-versus-a-copy\n",
      "  data['Age'].iloc[i] = age_pred\n",
      "/var/folders/_z/fqc2y1zs5nxfts7kcfj9y20w0000gn/T/ipykernel_57390/147307425.py:21: SettingWithCopyWarning: \n",
      "A value is trying to be set on a copy of a slice from a DataFrame\n",
      "\n",
      "See the caveats in the documentation: https://pandas.pydata.org/pandas-docs/stable/user_guide/indexing.html#returning-a-view-versus-a-copy\n",
      "  data['Age'].iloc[i] = age_pred\n",
      "/var/folders/_z/fqc2y1zs5nxfts7kcfj9y20w0000gn/T/ipykernel_57390/147307425.py:21: SettingWithCopyWarning: \n",
      "A value is trying to be set on a copy of a slice from a DataFrame\n",
      "\n",
      "See the caveats in the documentation: https://pandas.pydata.org/pandas-docs/stable/user_guide/indexing.html#returning-a-view-versus-a-copy\n",
      "  data['Age'].iloc[i] = age_pred\n",
      "/var/folders/_z/fqc2y1zs5nxfts7kcfj9y20w0000gn/T/ipykernel_57390/147307425.py:21: SettingWithCopyWarning: \n",
      "A value is trying to be set on a copy of a slice from a DataFrame\n",
      "\n",
      "See the caveats in the documentation: https://pandas.pydata.org/pandas-docs/stable/user_guide/indexing.html#returning-a-view-versus-a-copy\n",
      "  data['Age'].iloc[i] = age_pred\n",
      "/var/folders/_z/fqc2y1zs5nxfts7kcfj9y20w0000gn/T/ipykernel_57390/147307425.py:21: SettingWithCopyWarning: \n",
      "A value is trying to be set on a copy of a slice from a DataFrame\n",
      "\n",
      "See the caveats in the documentation: https://pandas.pydata.org/pandas-docs/stable/user_guide/indexing.html#returning-a-view-versus-a-copy\n",
      "  data['Age'].iloc[i] = age_pred\n",
      "/var/folders/_z/fqc2y1zs5nxfts7kcfj9y20w0000gn/T/ipykernel_57390/147307425.py:21: SettingWithCopyWarning: \n",
      "A value is trying to be set on a copy of a slice from a DataFrame\n",
      "\n",
      "See the caveats in the documentation: https://pandas.pydata.org/pandas-docs/stable/user_guide/indexing.html#returning-a-view-versus-a-copy\n",
      "  data['Age'].iloc[i] = age_pred\n",
      "/var/folders/_z/fqc2y1zs5nxfts7kcfj9y20w0000gn/T/ipykernel_57390/147307425.py:21: SettingWithCopyWarning: \n",
      "A value is trying to be set on a copy of a slice from a DataFrame\n",
      "\n",
      "See the caveats in the documentation: https://pandas.pydata.org/pandas-docs/stable/user_guide/indexing.html#returning-a-view-versus-a-copy\n",
      "  data['Age'].iloc[i] = age_pred\n",
      "/var/folders/_z/fqc2y1zs5nxfts7kcfj9y20w0000gn/T/ipykernel_57390/147307425.py:21: SettingWithCopyWarning: \n",
      "A value is trying to be set on a copy of a slice from a DataFrame\n",
      "\n",
      "See the caveats in the documentation: https://pandas.pydata.org/pandas-docs/stable/user_guide/indexing.html#returning-a-view-versus-a-copy\n",
      "  data['Age'].iloc[i] = age_pred\n",
      "/var/folders/_z/fqc2y1zs5nxfts7kcfj9y20w0000gn/T/ipykernel_57390/147307425.py:21: SettingWithCopyWarning: \n",
      "A value is trying to be set on a copy of a slice from a DataFrame\n",
      "\n",
      "See the caveats in the documentation: https://pandas.pydata.org/pandas-docs/stable/user_guide/indexing.html#returning-a-view-versus-a-copy\n",
      "  data['Age'].iloc[i] = age_pred\n",
      "/var/folders/_z/fqc2y1zs5nxfts7kcfj9y20w0000gn/T/ipykernel_57390/147307425.py:21: SettingWithCopyWarning: \n",
      "A value is trying to be set on a copy of a slice from a DataFrame\n",
      "\n",
      "See the caveats in the documentation: https://pandas.pydata.org/pandas-docs/stable/user_guide/indexing.html#returning-a-view-versus-a-copy\n",
      "  data['Age'].iloc[i] = age_pred\n",
      "/var/folders/_z/fqc2y1zs5nxfts7kcfj9y20w0000gn/T/ipykernel_57390/147307425.py:21: SettingWithCopyWarning: \n",
      "A value is trying to be set on a copy of a slice from a DataFrame\n",
      "\n",
      "See the caveats in the documentation: https://pandas.pydata.org/pandas-docs/stable/user_guide/indexing.html#returning-a-view-versus-a-copy\n",
      "  data['Age'].iloc[i] = age_pred\n",
      "/var/folders/_z/fqc2y1zs5nxfts7kcfj9y20w0000gn/T/ipykernel_57390/147307425.py:21: SettingWithCopyWarning: \n",
      "A value is trying to be set on a copy of a slice from a DataFrame\n",
      "\n",
      "See the caveats in the documentation: https://pandas.pydata.org/pandas-docs/stable/user_guide/indexing.html#returning-a-view-versus-a-copy\n",
      "  data['Age'].iloc[i] = age_pred\n",
      "/var/folders/_z/fqc2y1zs5nxfts7kcfj9y20w0000gn/T/ipykernel_57390/147307425.py:21: SettingWithCopyWarning: \n",
      "A value is trying to be set on a copy of a slice from a DataFrame\n",
      "\n",
      "See the caveats in the documentation: https://pandas.pydata.org/pandas-docs/stable/user_guide/indexing.html#returning-a-view-versus-a-copy\n",
      "  data['Age'].iloc[i] = age_pred\n",
      "/var/folders/_z/fqc2y1zs5nxfts7kcfj9y20w0000gn/T/ipykernel_57390/147307425.py:21: SettingWithCopyWarning: \n",
      "A value is trying to be set on a copy of a slice from a DataFrame\n",
      "\n",
      "See the caveats in the documentation: https://pandas.pydata.org/pandas-docs/stable/user_guide/indexing.html#returning-a-view-versus-a-copy\n",
      "  data['Age'].iloc[i] = age_pred\n",
      "/var/folders/_z/fqc2y1zs5nxfts7kcfj9y20w0000gn/T/ipykernel_57390/147307425.py:21: SettingWithCopyWarning: \n",
      "A value is trying to be set on a copy of a slice from a DataFrame\n",
      "\n",
      "See the caveats in the documentation: https://pandas.pydata.org/pandas-docs/stable/user_guide/indexing.html#returning-a-view-versus-a-copy\n",
      "  data['Age'].iloc[i] = age_pred\n",
      "/var/folders/_z/fqc2y1zs5nxfts7kcfj9y20w0000gn/T/ipykernel_57390/147307425.py:21: SettingWithCopyWarning: \n",
      "A value is trying to be set on a copy of a slice from a DataFrame\n",
      "\n",
      "See the caveats in the documentation: https://pandas.pydata.org/pandas-docs/stable/user_guide/indexing.html#returning-a-view-versus-a-copy\n",
      "  data['Age'].iloc[i] = age_pred\n",
      "/var/folders/_z/fqc2y1zs5nxfts7kcfj9y20w0000gn/T/ipykernel_57390/147307425.py:21: SettingWithCopyWarning: \n",
      "A value is trying to be set on a copy of a slice from a DataFrame\n",
      "\n",
      "See the caveats in the documentation: https://pandas.pydata.org/pandas-docs/stable/user_guide/indexing.html#returning-a-view-versus-a-copy\n",
      "  data['Age'].iloc[i] = age_pred\n",
      "/var/folders/_z/fqc2y1zs5nxfts7kcfj9y20w0000gn/T/ipykernel_57390/147307425.py:21: SettingWithCopyWarning: \n",
      "A value is trying to be set on a copy of a slice from a DataFrame\n",
      "\n",
      "See the caveats in the documentation: https://pandas.pydata.org/pandas-docs/stable/user_guide/indexing.html#returning-a-view-versus-a-copy\n",
      "  data['Age'].iloc[i] = age_pred\n",
      "/var/folders/_z/fqc2y1zs5nxfts7kcfj9y20w0000gn/T/ipykernel_57390/147307425.py:21: SettingWithCopyWarning: \n",
      "A value is trying to be set on a copy of a slice from a DataFrame\n",
      "\n",
      "See the caveats in the documentation: https://pandas.pydata.org/pandas-docs/stable/user_guide/indexing.html#returning-a-view-versus-a-copy\n",
      "  data['Age'].iloc[i] = age_pred\n",
      "/var/folders/_z/fqc2y1zs5nxfts7kcfj9y20w0000gn/T/ipykernel_57390/147307425.py:21: SettingWithCopyWarning: \n",
      "A value is trying to be set on a copy of a slice from a DataFrame\n",
      "\n",
      "See the caveats in the documentation: https://pandas.pydata.org/pandas-docs/stable/user_guide/indexing.html#returning-a-view-versus-a-copy\n",
      "  data['Age'].iloc[i] = age_pred\n",
      "/var/folders/_z/fqc2y1zs5nxfts7kcfj9y20w0000gn/T/ipykernel_57390/147307425.py:21: SettingWithCopyWarning: \n",
      "A value is trying to be set on a copy of a slice from a DataFrame\n",
      "\n",
      "See the caveats in the documentation: https://pandas.pydata.org/pandas-docs/stable/user_guide/indexing.html#returning-a-view-versus-a-copy\n",
      "  data['Age'].iloc[i] = age_pred\n",
      "/var/folders/_z/fqc2y1zs5nxfts7kcfj9y20w0000gn/T/ipykernel_57390/147307425.py:21: SettingWithCopyWarning: \n",
      "A value is trying to be set on a copy of a slice from a DataFrame\n",
      "\n",
      "See the caveats in the documentation: https://pandas.pydata.org/pandas-docs/stable/user_guide/indexing.html#returning-a-view-versus-a-copy\n",
      "  data['Age'].iloc[i] = age_pred\n",
      "/var/folders/_z/fqc2y1zs5nxfts7kcfj9y20w0000gn/T/ipykernel_57390/147307425.py:21: SettingWithCopyWarning: \n",
      "A value is trying to be set on a copy of a slice from a DataFrame\n",
      "\n",
      "See the caveats in the documentation: https://pandas.pydata.org/pandas-docs/stable/user_guide/indexing.html#returning-a-view-versus-a-copy\n",
      "  data['Age'].iloc[i] = age_pred\n",
      "/var/folders/_z/fqc2y1zs5nxfts7kcfj9y20w0000gn/T/ipykernel_57390/147307425.py:21: SettingWithCopyWarning: \n",
      "A value is trying to be set on a copy of a slice from a DataFrame\n",
      "\n",
      "See the caveats in the documentation: https://pandas.pydata.org/pandas-docs/stable/user_guide/indexing.html#returning-a-view-versus-a-copy\n",
      "  data['Age'].iloc[i] = age_pred\n",
      "/var/folders/_z/fqc2y1zs5nxfts7kcfj9y20w0000gn/T/ipykernel_57390/147307425.py:21: SettingWithCopyWarning: \n",
      "A value is trying to be set on a copy of a slice from a DataFrame\n",
      "\n",
      "See the caveats in the documentation: https://pandas.pydata.org/pandas-docs/stable/user_guide/indexing.html#returning-a-view-versus-a-copy\n",
      "  data['Age'].iloc[i] = age_pred\n",
      "/var/folders/_z/fqc2y1zs5nxfts7kcfj9y20w0000gn/T/ipykernel_57390/147307425.py:21: SettingWithCopyWarning: \n",
      "A value is trying to be set on a copy of a slice from a DataFrame\n",
      "\n",
      "See the caveats in the documentation: https://pandas.pydata.org/pandas-docs/stable/user_guide/indexing.html#returning-a-view-versus-a-copy\n",
      "  data['Age'].iloc[i] = age_pred\n",
      "/var/folders/_z/fqc2y1zs5nxfts7kcfj9y20w0000gn/T/ipykernel_57390/147307425.py:21: SettingWithCopyWarning: \n",
      "A value is trying to be set on a copy of a slice from a DataFrame\n",
      "\n",
      "See the caveats in the documentation: https://pandas.pydata.org/pandas-docs/stable/user_guide/indexing.html#returning-a-view-versus-a-copy\n",
      "  data['Age'].iloc[i] = age_pred\n",
      "/var/folders/_z/fqc2y1zs5nxfts7kcfj9y20w0000gn/T/ipykernel_57390/147307425.py:21: SettingWithCopyWarning: \n",
      "A value is trying to be set on a copy of a slice from a DataFrame\n",
      "\n",
      "See the caveats in the documentation: https://pandas.pydata.org/pandas-docs/stable/user_guide/indexing.html#returning-a-view-versus-a-copy\n",
      "  data['Age'].iloc[i] = age_pred\n",
      "/var/folders/_z/fqc2y1zs5nxfts7kcfj9y20w0000gn/T/ipykernel_57390/147307425.py:21: SettingWithCopyWarning: \n",
      "A value is trying to be set on a copy of a slice from a DataFrame\n",
      "\n",
      "See the caveats in the documentation: https://pandas.pydata.org/pandas-docs/stable/user_guide/indexing.html#returning-a-view-versus-a-copy\n",
      "  data['Age'].iloc[i] = age_pred\n",
      "/var/folders/_z/fqc2y1zs5nxfts7kcfj9y20w0000gn/T/ipykernel_57390/147307425.py:21: SettingWithCopyWarning: \n",
      "A value is trying to be set on a copy of a slice from a DataFrame\n",
      "\n",
      "See the caveats in the documentation: https://pandas.pydata.org/pandas-docs/stable/user_guide/indexing.html#returning-a-view-versus-a-copy\n",
      "  data['Age'].iloc[i] = age_pred\n",
      "/var/folders/_z/fqc2y1zs5nxfts7kcfj9y20w0000gn/T/ipykernel_57390/147307425.py:21: SettingWithCopyWarning: \n",
      "A value is trying to be set on a copy of a slice from a DataFrame\n",
      "\n",
      "See the caveats in the documentation: https://pandas.pydata.org/pandas-docs/stable/user_guide/indexing.html#returning-a-view-versus-a-copy\n",
      "  data['Age'].iloc[i] = age_pred\n",
      "/var/folders/_z/fqc2y1zs5nxfts7kcfj9y20w0000gn/T/ipykernel_57390/147307425.py:21: SettingWithCopyWarning: \n",
      "A value is trying to be set on a copy of a slice from a DataFrame\n",
      "\n",
      "See the caveats in the documentation: https://pandas.pydata.org/pandas-docs/stable/user_guide/indexing.html#returning-a-view-versus-a-copy\n",
      "  data['Age'].iloc[i] = age_pred\n",
      "/var/folders/_z/fqc2y1zs5nxfts7kcfj9y20w0000gn/T/ipykernel_57390/147307425.py:21: SettingWithCopyWarning: \n",
      "A value is trying to be set on a copy of a slice from a DataFrame\n",
      "\n",
      "See the caveats in the documentation: https://pandas.pydata.org/pandas-docs/stable/user_guide/indexing.html#returning-a-view-versus-a-copy\n",
      "  data['Age'].iloc[i] = age_pred\n",
      "/var/folders/_z/fqc2y1zs5nxfts7kcfj9y20w0000gn/T/ipykernel_57390/147307425.py:21: SettingWithCopyWarning: \n",
      "A value is trying to be set on a copy of a slice from a DataFrame\n",
      "\n",
      "See the caveats in the documentation: https://pandas.pydata.org/pandas-docs/stable/user_guide/indexing.html#returning-a-view-versus-a-copy\n",
      "  data['Age'].iloc[i] = age_pred\n",
      "/var/folders/_z/fqc2y1zs5nxfts7kcfj9y20w0000gn/T/ipykernel_57390/147307425.py:21: SettingWithCopyWarning: \n",
      "A value is trying to be set on a copy of a slice from a DataFrame\n",
      "\n",
      "See the caveats in the documentation: https://pandas.pydata.org/pandas-docs/stable/user_guide/indexing.html#returning-a-view-versus-a-copy\n",
      "  data['Age'].iloc[i] = age_pred\n",
      "/var/folders/_z/fqc2y1zs5nxfts7kcfj9y20w0000gn/T/ipykernel_57390/147307425.py:21: SettingWithCopyWarning: \n",
      "A value is trying to be set on a copy of a slice from a DataFrame\n",
      "\n",
      "See the caveats in the documentation: https://pandas.pydata.org/pandas-docs/stable/user_guide/indexing.html#returning-a-view-versus-a-copy\n",
      "  data['Age'].iloc[i] = age_pred\n",
      "/var/folders/_z/fqc2y1zs5nxfts7kcfj9y20w0000gn/T/ipykernel_57390/147307425.py:21: SettingWithCopyWarning: \n",
      "A value is trying to be set on a copy of a slice from a DataFrame\n",
      "\n",
      "See the caveats in the documentation: https://pandas.pydata.org/pandas-docs/stable/user_guide/indexing.html#returning-a-view-versus-a-copy\n",
      "  data['Age'].iloc[i] = age_pred\n",
      "/var/folders/_z/fqc2y1zs5nxfts7kcfj9y20w0000gn/T/ipykernel_57390/147307425.py:21: SettingWithCopyWarning: \n",
      "A value is trying to be set on a copy of a slice from a DataFrame\n",
      "\n",
      "See the caveats in the documentation: https://pandas.pydata.org/pandas-docs/stable/user_guide/indexing.html#returning-a-view-versus-a-copy\n",
      "  data['Age'].iloc[i] = age_pred\n",
      "/var/folders/_z/fqc2y1zs5nxfts7kcfj9y20w0000gn/T/ipykernel_57390/147307425.py:21: SettingWithCopyWarning: \n",
      "A value is trying to be set on a copy of a slice from a DataFrame\n",
      "\n",
      "See the caveats in the documentation: https://pandas.pydata.org/pandas-docs/stable/user_guide/indexing.html#returning-a-view-versus-a-copy\n",
      "  data['Age'].iloc[i] = age_pred\n",
      "/var/folders/_z/fqc2y1zs5nxfts7kcfj9y20w0000gn/T/ipykernel_57390/147307425.py:21: SettingWithCopyWarning: \n",
      "A value is trying to be set on a copy of a slice from a DataFrame\n",
      "\n",
      "See the caveats in the documentation: https://pandas.pydata.org/pandas-docs/stable/user_guide/indexing.html#returning-a-view-versus-a-copy\n",
      "  data['Age'].iloc[i] = age_pred\n",
      "/var/folders/_z/fqc2y1zs5nxfts7kcfj9y20w0000gn/T/ipykernel_57390/147307425.py:21: SettingWithCopyWarning: \n",
      "A value is trying to be set on a copy of a slice from a DataFrame\n",
      "\n",
      "See the caveats in the documentation: https://pandas.pydata.org/pandas-docs/stable/user_guide/indexing.html#returning-a-view-versus-a-copy\n",
      "  data['Age'].iloc[i] = age_pred\n",
      "/var/folders/_z/fqc2y1zs5nxfts7kcfj9y20w0000gn/T/ipykernel_57390/147307425.py:21: SettingWithCopyWarning: \n",
      "A value is trying to be set on a copy of a slice from a DataFrame\n",
      "\n",
      "See the caveats in the documentation: https://pandas.pydata.org/pandas-docs/stable/user_guide/indexing.html#returning-a-view-versus-a-copy\n",
      "  data['Age'].iloc[i] = age_pred\n",
      "/var/folders/_z/fqc2y1zs5nxfts7kcfj9y20w0000gn/T/ipykernel_57390/147307425.py:21: SettingWithCopyWarning: \n",
      "A value is trying to be set on a copy of a slice from a DataFrame\n",
      "\n",
      "See the caveats in the documentation: https://pandas.pydata.org/pandas-docs/stable/user_guide/indexing.html#returning-a-view-versus-a-copy\n",
      "  data['Age'].iloc[i] = age_pred\n",
      "/var/folders/_z/fqc2y1zs5nxfts7kcfj9y20w0000gn/T/ipykernel_57390/147307425.py:21: SettingWithCopyWarning: \n",
      "A value is trying to be set on a copy of a slice from a DataFrame\n",
      "\n",
      "See the caveats in the documentation: https://pandas.pydata.org/pandas-docs/stable/user_guide/indexing.html#returning-a-view-versus-a-copy\n",
      "  data['Age'].iloc[i] = age_pred\n",
      "/var/folders/_z/fqc2y1zs5nxfts7kcfj9y20w0000gn/T/ipykernel_57390/147307425.py:21: SettingWithCopyWarning: \n",
      "A value is trying to be set on a copy of a slice from a DataFrame\n",
      "\n",
      "See the caveats in the documentation: https://pandas.pydata.org/pandas-docs/stable/user_guide/indexing.html#returning-a-view-versus-a-copy\n",
      "  data['Age'].iloc[i] = age_pred\n",
      "/var/folders/_z/fqc2y1zs5nxfts7kcfj9y20w0000gn/T/ipykernel_57390/147307425.py:21: SettingWithCopyWarning: \n",
      "A value is trying to be set on a copy of a slice from a DataFrame\n",
      "\n",
      "See the caveats in the documentation: https://pandas.pydata.org/pandas-docs/stable/user_guide/indexing.html#returning-a-view-versus-a-copy\n",
      "  data['Age'].iloc[i] = age_pred\n",
      "/var/folders/_z/fqc2y1zs5nxfts7kcfj9y20w0000gn/T/ipykernel_57390/147307425.py:21: SettingWithCopyWarning: \n",
      "A value is trying to be set on a copy of a slice from a DataFrame\n",
      "\n",
      "See the caveats in the documentation: https://pandas.pydata.org/pandas-docs/stable/user_guide/indexing.html#returning-a-view-versus-a-copy\n",
      "  data['Age'].iloc[i] = age_pred\n",
      "/var/folders/_z/fqc2y1zs5nxfts7kcfj9y20w0000gn/T/ipykernel_57390/147307425.py:21: SettingWithCopyWarning: \n",
      "A value is trying to be set on a copy of a slice from a DataFrame\n",
      "\n",
      "See the caveats in the documentation: https://pandas.pydata.org/pandas-docs/stable/user_guide/indexing.html#returning-a-view-versus-a-copy\n",
      "  data['Age'].iloc[i] = age_pred\n",
      "/var/folders/_z/fqc2y1zs5nxfts7kcfj9y20w0000gn/T/ipykernel_57390/147307425.py:21: SettingWithCopyWarning: \n",
      "A value is trying to be set on a copy of a slice from a DataFrame\n",
      "\n",
      "See the caveats in the documentation: https://pandas.pydata.org/pandas-docs/stable/user_guide/indexing.html#returning-a-view-versus-a-copy\n",
      "  data['Age'].iloc[i] = age_pred\n",
      "/var/folders/_z/fqc2y1zs5nxfts7kcfj9y20w0000gn/T/ipykernel_57390/147307425.py:21: SettingWithCopyWarning: \n",
      "A value is trying to be set on a copy of a slice from a DataFrame\n",
      "\n",
      "See the caveats in the documentation: https://pandas.pydata.org/pandas-docs/stable/user_guide/indexing.html#returning-a-view-versus-a-copy\n",
      "  data['Age'].iloc[i] = age_pred\n",
      "/var/folders/_z/fqc2y1zs5nxfts7kcfj9y20w0000gn/T/ipykernel_57390/147307425.py:21: SettingWithCopyWarning: \n",
      "A value is trying to be set on a copy of a slice from a DataFrame\n",
      "\n",
      "See the caveats in the documentation: https://pandas.pydata.org/pandas-docs/stable/user_guide/indexing.html#returning-a-view-versus-a-copy\n",
      "  data['Age'].iloc[i] = age_pred\n",
      "/var/folders/_z/fqc2y1zs5nxfts7kcfj9y20w0000gn/T/ipykernel_57390/147307425.py:21: SettingWithCopyWarning: \n",
      "A value is trying to be set on a copy of a slice from a DataFrame\n",
      "\n",
      "See the caveats in the documentation: https://pandas.pydata.org/pandas-docs/stable/user_guide/indexing.html#returning-a-view-versus-a-copy\n",
      "  data['Age'].iloc[i] = age_pred\n",
      "/var/folders/_z/fqc2y1zs5nxfts7kcfj9y20w0000gn/T/ipykernel_57390/147307425.py:21: SettingWithCopyWarning: \n",
      "A value is trying to be set on a copy of a slice from a DataFrame\n",
      "\n",
      "See the caveats in the documentation: https://pandas.pydata.org/pandas-docs/stable/user_guide/indexing.html#returning-a-view-versus-a-copy\n",
      "  data['Age'].iloc[i] = age_pred\n",
      "/var/folders/_z/fqc2y1zs5nxfts7kcfj9y20w0000gn/T/ipykernel_57390/147307425.py:21: SettingWithCopyWarning: \n",
      "A value is trying to be set on a copy of a slice from a DataFrame\n",
      "\n",
      "See the caveats in the documentation: https://pandas.pydata.org/pandas-docs/stable/user_guide/indexing.html#returning-a-view-versus-a-copy\n",
      "  data['Age'].iloc[i] = age_pred\n",
      "/var/folders/_z/fqc2y1zs5nxfts7kcfj9y20w0000gn/T/ipykernel_57390/147307425.py:21: SettingWithCopyWarning: \n",
      "A value is trying to be set on a copy of a slice from a DataFrame\n",
      "\n",
      "See the caveats in the documentation: https://pandas.pydata.org/pandas-docs/stable/user_guide/indexing.html#returning-a-view-versus-a-copy\n",
      "  data['Age'].iloc[i] = age_pred\n",
      "/var/folders/_z/fqc2y1zs5nxfts7kcfj9y20w0000gn/T/ipykernel_57390/147307425.py:21: SettingWithCopyWarning: \n",
      "A value is trying to be set on a copy of a slice from a DataFrame\n",
      "\n",
      "See the caveats in the documentation: https://pandas.pydata.org/pandas-docs/stable/user_guide/indexing.html#returning-a-view-versus-a-copy\n",
      "  data['Age'].iloc[i] = age_pred\n",
      "/var/folders/_z/fqc2y1zs5nxfts7kcfj9y20w0000gn/T/ipykernel_57390/147307425.py:21: SettingWithCopyWarning: \n",
      "A value is trying to be set on a copy of a slice from a DataFrame\n",
      "\n",
      "See the caveats in the documentation: https://pandas.pydata.org/pandas-docs/stable/user_guide/indexing.html#returning-a-view-versus-a-copy\n",
      "  data['Age'].iloc[i] = age_pred\n",
      "/var/folders/_z/fqc2y1zs5nxfts7kcfj9y20w0000gn/T/ipykernel_57390/147307425.py:21: SettingWithCopyWarning: \n",
      "A value is trying to be set on a copy of a slice from a DataFrame\n",
      "\n",
      "See the caveats in the documentation: https://pandas.pydata.org/pandas-docs/stable/user_guide/indexing.html#returning-a-view-versus-a-copy\n",
      "  data['Age'].iloc[i] = age_pred\n",
      "/var/folders/_z/fqc2y1zs5nxfts7kcfj9y20w0000gn/T/ipykernel_57390/147307425.py:21: SettingWithCopyWarning: \n",
      "A value is trying to be set on a copy of a slice from a DataFrame\n",
      "\n",
      "See the caveats in the documentation: https://pandas.pydata.org/pandas-docs/stable/user_guide/indexing.html#returning-a-view-versus-a-copy\n",
      "  data['Age'].iloc[i] = age_pred\n",
      "/var/folders/_z/fqc2y1zs5nxfts7kcfj9y20w0000gn/T/ipykernel_57390/147307425.py:21: SettingWithCopyWarning: \n",
      "A value is trying to be set on a copy of a slice from a DataFrame\n",
      "\n",
      "See the caveats in the documentation: https://pandas.pydata.org/pandas-docs/stable/user_guide/indexing.html#returning-a-view-versus-a-copy\n",
      "  data['Age'].iloc[i] = age_pred\n",
      "/var/folders/_z/fqc2y1zs5nxfts7kcfj9y20w0000gn/T/ipykernel_57390/147307425.py:21: SettingWithCopyWarning: \n",
      "A value is trying to be set on a copy of a slice from a DataFrame\n",
      "\n",
      "See the caveats in the documentation: https://pandas.pydata.org/pandas-docs/stable/user_guide/indexing.html#returning-a-view-versus-a-copy\n",
      "  data['Age'].iloc[i] = age_pred\n",
      "/var/folders/_z/fqc2y1zs5nxfts7kcfj9y20w0000gn/T/ipykernel_57390/147307425.py:21: SettingWithCopyWarning: \n",
      "A value is trying to be set on a copy of a slice from a DataFrame\n",
      "\n",
      "See the caveats in the documentation: https://pandas.pydata.org/pandas-docs/stable/user_guide/indexing.html#returning-a-view-versus-a-copy\n",
      "  data['Age'].iloc[i] = age_pred\n",
      "/var/folders/_z/fqc2y1zs5nxfts7kcfj9y20w0000gn/T/ipykernel_57390/147307425.py:21: SettingWithCopyWarning: \n",
      "A value is trying to be set on a copy of a slice from a DataFrame\n",
      "\n",
      "See the caveats in the documentation: https://pandas.pydata.org/pandas-docs/stable/user_guide/indexing.html#returning-a-view-versus-a-copy\n",
      "  data['Age'].iloc[i] = age_pred\n",
      "/var/folders/_z/fqc2y1zs5nxfts7kcfj9y20w0000gn/T/ipykernel_57390/147307425.py:21: SettingWithCopyWarning: \n",
      "A value is trying to be set on a copy of a slice from a DataFrame\n",
      "\n",
      "See the caveats in the documentation: https://pandas.pydata.org/pandas-docs/stable/user_guide/indexing.html#returning-a-view-versus-a-copy\n",
      "  data['Age'].iloc[i] = age_pred\n",
      "/var/folders/_z/fqc2y1zs5nxfts7kcfj9y20w0000gn/T/ipykernel_57390/147307425.py:21: SettingWithCopyWarning: \n",
      "A value is trying to be set on a copy of a slice from a DataFrame\n",
      "\n",
      "See the caveats in the documentation: https://pandas.pydata.org/pandas-docs/stable/user_guide/indexing.html#returning-a-view-versus-a-copy\n",
      "  data['Age'].iloc[i] = age_pred\n",
      "/var/folders/_z/fqc2y1zs5nxfts7kcfj9y20w0000gn/T/ipykernel_57390/147307425.py:21: SettingWithCopyWarning: \n",
      "A value is trying to be set on a copy of a slice from a DataFrame\n",
      "\n",
      "See the caveats in the documentation: https://pandas.pydata.org/pandas-docs/stable/user_guide/indexing.html#returning-a-view-versus-a-copy\n",
      "  data['Age'].iloc[i] = age_pred\n",
      "/var/folders/_z/fqc2y1zs5nxfts7kcfj9y20w0000gn/T/ipykernel_57390/147307425.py:21: SettingWithCopyWarning: \n",
      "A value is trying to be set on a copy of a slice from a DataFrame\n",
      "\n",
      "See the caveats in the documentation: https://pandas.pydata.org/pandas-docs/stable/user_guide/indexing.html#returning-a-view-versus-a-copy\n",
      "  data['Age'].iloc[i] = age_pred\n",
      "/var/folders/_z/fqc2y1zs5nxfts7kcfj9y20w0000gn/T/ipykernel_57390/147307425.py:21: SettingWithCopyWarning: \n",
      "A value is trying to be set on a copy of a slice from a DataFrame\n",
      "\n",
      "See the caveats in the documentation: https://pandas.pydata.org/pandas-docs/stable/user_guide/indexing.html#returning-a-view-versus-a-copy\n",
      "  data['Age'].iloc[i] = age_pred\n",
      "/var/folders/_z/fqc2y1zs5nxfts7kcfj9y20w0000gn/T/ipykernel_57390/147307425.py:21: SettingWithCopyWarning: \n",
      "A value is trying to be set on a copy of a slice from a DataFrame\n",
      "\n",
      "See the caveats in the documentation: https://pandas.pydata.org/pandas-docs/stable/user_guide/indexing.html#returning-a-view-versus-a-copy\n",
      "  data['Age'].iloc[i] = age_pred\n",
      "/var/folders/_z/fqc2y1zs5nxfts7kcfj9y20w0000gn/T/ipykernel_57390/147307425.py:21: SettingWithCopyWarning: \n",
      "A value is trying to be set on a copy of a slice from a DataFrame\n",
      "\n",
      "See the caveats in the documentation: https://pandas.pydata.org/pandas-docs/stable/user_guide/indexing.html#returning-a-view-versus-a-copy\n",
      "  data['Age'].iloc[i] = age_pred\n",
      "/var/folders/_z/fqc2y1zs5nxfts7kcfj9y20w0000gn/T/ipykernel_57390/147307425.py:21: SettingWithCopyWarning: \n",
      "A value is trying to be set on a copy of a slice from a DataFrame\n",
      "\n",
      "See the caveats in the documentation: https://pandas.pydata.org/pandas-docs/stable/user_guide/indexing.html#returning-a-view-versus-a-copy\n",
      "  data['Age'].iloc[i] = age_pred\n",
      "/var/folders/_z/fqc2y1zs5nxfts7kcfj9y20w0000gn/T/ipykernel_57390/147307425.py:21: SettingWithCopyWarning: \n",
      "A value is trying to be set on a copy of a slice from a DataFrame\n",
      "\n",
      "See the caveats in the documentation: https://pandas.pydata.org/pandas-docs/stable/user_guide/indexing.html#returning-a-view-versus-a-copy\n",
      "  data['Age'].iloc[i] = age_pred\n",
      "/var/folders/_z/fqc2y1zs5nxfts7kcfj9y20w0000gn/T/ipykernel_57390/147307425.py:21: SettingWithCopyWarning: \n",
      "A value is trying to be set on a copy of a slice from a DataFrame\n",
      "\n",
      "See the caveats in the documentation: https://pandas.pydata.org/pandas-docs/stable/user_guide/indexing.html#returning-a-view-versus-a-copy\n",
      "  data['Age'].iloc[i] = age_pred\n",
      "/var/folders/_z/fqc2y1zs5nxfts7kcfj9y20w0000gn/T/ipykernel_57390/147307425.py:21: SettingWithCopyWarning: \n",
      "A value is trying to be set on a copy of a slice from a DataFrame\n",
      "\n",
      "See the caveats in the documentation: https://pandas.pydata.org/pandas-docs/stable/user_guide/indexing.html#returning-a-view-versus-a-copy\n",
      "  data['Age'].iloc[i] = age_pred\n",
      "/var/folders/_z/fqc2y1zs5nxfts7kcfj9y20w0000gn/T/ipykernel_57390/147307425.py:21: SettingWithCopyWarning: \n",
      "A value is trying to be set on a copy of a slice from a DataFrame\n",
      "\n",
      "See the caveats in the documentation: https://pandas.pydata.org/pandas-docs/stable/user_guide/indexing.html#returning-a-view-versus-a-copy\n",
      "  data['Age'].iloc[i] = age_pred\n",
      "/var/folders/_z/fqc2y1zs5nxfts7kcfj9y20w0000gn/T/ipykernel_57390/147307425.py:21: SettingWithCopyWarning: \n",
      "A value is trying to be set on a copy of a slice from a DataFrame\n",
      "\n",
      "See the caveats in the documentation: https://pandas.pydata.org/pandas-docs/stable/user_guide/indexing.html#returning-a-view-versus-a-copy\n",
      "  data['Age'].iloc[i] = age_pred\n",
      "/var/folders/_z/fqc2y1zs5nxfts7kcfj9y20w0000gn/T/ipykernel_57390/147307425.py:21: SettingWithCopyWarning: \n",
      "A value is trying to be set on a copy of a slice from a DataFrame\n",
      "\n",
      "See the caveats in the documentation: https://pandas.pydata.org/pandas-docs/stable/user_guide/indexing.html#returning-a-view-versus-a-copy\n",
      "  data['Age'].iloc[i] = age_pred\n",
      "/var/folders/_z/fqc2y1zs5nxfts7kcfj9y20w0000gn/T/ipykernel_57390/147307425.py:21: SettingWithCopyWarning: \n",
      "A value is trying to be set on a copy of a slice from a DataFrame\n",
      "\n",
      "See the caveats in the documentation: https://pandas.pydata.org/pandas-docs/stable/user_guide/indexing.html#returning-a-view-versus-a-copy\n",
      "  data['Age'].iloc[i] = age_pred\n",
      "/var/folders/_z/fqc2y1zs5nxfts7kcfj9y20w0000gn/T/ipykernel_57390/147307425.py:21: SettingWithCopyWarning: \n",
      "A value is trying to be set on a copy of a slice from a DataFrame\n",
      "\n",
      "See the caveats in the documentation: https://pandas.pydata.org/pandas-docs/stable/user_guide/indexing.html#returning-a-view-versus-a-copy\n",
      "  data['Age'].iloc[i] = age_pred\n",
      "/var/folders/_z/fqc2y1zs5nxfts7kcfj9y20w0000gn/T/ipykernel_57390/147307425.py:21: SettingWithCopyWarning: \n",
      "A value is trying to be set on a copy of a slice from a DataFrame\n",
      "\n",
      "See the caveats in the documentation: https://pandas.pydata.org/pandas-docs/stable/user_guide/indexing.html#returning-a-view-versus-a-copy\n",
      "  data['Age'].iloc[i] = age_pred\n",
      "/var/folders/_z/fqc2y1zs5nxfts7kcfj9y20w0000gn/T/ipykernel_57390/147307425.py:21: SettingWithCopyWarning: \n",
      "A value is trying to be set on a copy of a slice from a DataFrame\n",
      "\n",
      "See the caveats in the documentation: https://pandas.pydata.org/pandas-docs/stable/user_guide/indexing.html#returning-a-view-versus-a-copy\n",
      "  data['Age'].iloc[i] = age_pred\n",
      "/var/folders/_z/fqc2y1zs5nxfts7kcfj9y20w0000gn/T/ipykernel_57390/147307425.py:21: SettingWithCopyWarning: \n",
      "A value is trying to be set on a copy of a slice from a DataFrame\n",
      "\n",
      "See the caveats in the documentation: https://pandas.pydata.org/pandas-docs/stable/user_guide/indexing.html#returning-a-view-versus-a-copy\n",
      "  data['Age'].iloc[i] = age_pred\n",
      "/var/folders/_z/fqc2y1zs5nxfts7kcfj9y20w0000gn/T/ipykernel_57390/147307425.py:21: SettingWithCopyWarning: \n",
      "A value is trying to be set on a copy of a slice from a DataFrame\n",
      "\n",
      "See the caveats in the documentation: https://pandas.pydata.org/pandas-docs/stable/user_guide/indexing.html#returning-a-view-versus-a-copy\n",
      "  data['Age'].iloc[i] = age_pred\n",
      "/var/folders/_z/fqc2y1zs5nxfts7kcfj9y20w0000gn/T/ipykernel_57390/147307425.py:21: SettingWithCopyWarning: \n",
      "A value is trying to be set on a copy of a slice from a DataFrame\n",
      "\n",
      "See the caveats in the documentation: https://pandas.pydata.org/pandas-docs/stable/user_guide/indexing.html#returning-a-view-versus-a-copy\n",
      "  data['Age'].iloc[i] = age_pred\n",
      "/var/folders/_z/fqc2y1zs5nxfts7kcfj9y20w0000gn/T/ipykernel_57390/147307425.py:21: SettingWithCopyWarning: \n",
      "A value is trying to be set on a copy of a slice from a DataFrame\n",
      "\n",
      "See the caveats in the documentation: https://pandas.pydata.org/pandas-docs/stable/user_guide/indexing.html#returning-a-view-versus-a-copy\n",
      "  data['Age'].iloc[i] = age_pred\n",
      "/var/folders/_z/fqc2y1zs5nxfts7kcfj9y20w0000gn/T/ipykernel_57390/147307425.py:21: SettingWithCopyWarning: \n",
      "A value is trying to be set on a copy of a slice from a DataFrame\n",
      "\n",
      "See the caveats in the documentation: https://pandas.pydata.org/pandas-docs/stable/user_guide/indexing.html#returning-a-view-versus-a-copy\n",
      "  data['Age'].iloc[i] = age_pred\n",
      "/var/folders/_z/fqc2y1zs5nxfts7kcfj9y20w0000gn/T/ipykernel_57390/147307425.py:21: SettingWithCopyWarning: \n",
      "A value is trying to be set on a copy of a slice from a DataFrame\n",
      "\n",
      "See the caveats in the documentation: https://pandas.pydata.org/pandas-docs/stable/user_guide/indexing.html#returning-a-view-versus-a-copy\n",
      "  data['Age'].iloc[i] = age_pred\n",
      "/var/folders/_z/fqc2y1zs5nxfts7kcfj9y20w0000gn/T/ipykernel_57390/147307425.py:21: SettingWithCopyWarning: \n",
      "A value is trying to be set on a copy of a slice from a DataFrame\n",
      "\n",
      "See the caveats in the documentation: https://pandas.pydata.org/pandas-docs/stable/user_guide/indexing.html#returning-a-view-versus-a-copy\n",
      "  data['Age'].iloc[i] = age_pred\n",
      "/var/folders/_z/fqc2y1zs5nxfts7kcfj9y20w0000gn/T/ipykernel_57390/147307425.py:21: SettingWithCopyWarning: \n",
      "A value is trying to be set on a copy of a slice from a DataFrame\n",
      "\n",
      "See the caveats in the documentation: https://pandas.pydata.org/pandas-docs/stable/user_guide/indexing.html#returning-a-view-versus-a-copy\n",
      "  data['Age'].iloc[i] = age_pred\n",
      "/var/folders/_z/fqc2y1zs5nxfts7kcfj9y20w0000gn/T/ipykernel_57390/147307425.py:21: SettingWithCopyWarning: \n",
      "A value is trying to be set on a copy of a slice from a DataFrame\n",
      "\n",
      "See the caveats in the documentation: https://pandas.pydata.org/pandas-docs/stable/user_guide/indexing.html#returning-a-view-versus-a-copy\n",
      "  data['Age'].iloc[i] = age_pred\n",
      "/var/folders/_z/fqc2y1zs5nxfts7kcfj9y20w0000gn/T/ipykernel_57390/147307425.py:21: SettingWithCopyWarning: \n",
      "A value is trying to be set on a copy of a slice from a DataFrame\n",
      "\n",
      "See the caveats in the documentation: https://pandas.pydata.org/pandas-docs/stable/user_guide/indexing.html#returning-a-view-versus-a-copy\n",
      "  data['Age'].iloc[i] = age_pred\n",
      "/var/folders/_z/fqc2y1zs5nxfts7kcfj9y20w0000gn/T/ipykernel_57390/147307425.py:21: SettingWithCopyWarning: \n",
      "A value is trying to be set on a copy of a slice from a DataFrame\n",
      "\n",
      "See the caveats in the documentation: https://pandas.pydata.org/pandas-docs/stable/user_guide/indexing.html#returning-a-view-versus-a-copy\n",
      "  data['Age'].iloc[i] = age_pred\n",
      "/var/folders/_z/fqc2y1zs5nxfts7kcfj9y20w0000gn/T/ipykernel_57390/147307425.py:21: SettingWithCopyWarning: \n",
      "A value is trying to be set on a copy of a slice from a DataFrame\n",
      "\n",
      "See the caveats in the documentation: https://pandas.pydata.org/pandas-docs/stable/user_guide/indexing.html#returning-a-view-versus-a-copy\n",
      "  data['Age'].iloc[i] = age_pred\n",
      "/var/folders/_z/fqc2y1zs5nxfts7kcfj9y20w0000gn/T/ipykernel_57390/147307425.py:21: SettingWithCopyWarning: \n",
      "A value is trying to be set on a copy of a slice from a DataFrame\n",
      "\n",
      "See the caveats in the documentation: https://pandas.pydata.org/pandas-docs/stable/user_guide/indexing.html#returning-a-view-versus-a-copy\n",
      "  data['Age'].iloc[i] = age_pred\n",
      "/var/folders/_z/fqc2y1zs5nxfts7kcfj9y20w0000gn/T/ipykernel_57390/147307425.py:21: SettingWithCopyWarning: \n",
      "A value is trying to be set on a copy of a slice from a DataFrame\n",
      "\n",
      "See the caveats in the documentation: https://pandas.pydata.org/pandas-docs/stable/user_guide/indexing.html#returning-a-view-versus-a-copy\n",
      "  data['Age'].iloc[i] = age_pred\n",
      "/var/folders/_z/fqc2y1zs5nxfts7kcfj9y20w0000gn/T/ipykernel_57390/147307425.py:21: SettingWithCopyWarning: \n",
      "A value is trying to be set on a copy of a slice from a DataFrame\n",
      "\n",
      "See the caveats in the documentation: https://pandas.pydata.org/pandas-docs/stable/user_guide/indexing.html#returning-a-view-versus-a-copy\n",
      "  data['Age'].iloc[i] = age_pred\n",
      "/var/folders/_z/fqc2y1zs5nxfts7kcfj9y20w0000gn/T/ipykernel_57390/147307425.py:21: SettingWithCopyWarning: \n",
      "A value is trying to be set on a copy of a slice from a DataFrame\n",
      "\n",
      "See the caveats in the documentation: https://pandas.pydata.org/pandas-docs/stable/user_guide/indexing.html#returning-a-view-versus-a-copy\n",
      "  data['Age'].iloc[i] = age_pred\n",
      "/var/folders/_z/fqc2y1zs5nxfts7kcfj9y20w0000gn/T/ipykernel_57390/147307425.py:21: SettingWithCopyWarning: \n",
      "A value is trying to be set on a copy of a slice from a DataFrame\n",
      "\n",
      "See the caveats in the documentation: https://pandas.pydata.org/pandas-docs/stable/user_guide/indexing.html#returning-a-view-versus-a-copy\n",
      "  data['Age'].iloc[i] = age_pred\n",
      "/var/folders/_z/fqc2y1zs5nxfts7kcfj9y20w0000gn/T/ipykernel_57390/147307425.py:21: SettingWithCopyWarning: \n",
      "A value is trying to be set on a copy of a slice from a DataFrame\n",
      "\n",
      "See the caveats in the documentation: https://pandas.pydata.org/pandas-docs/stable/user_guide/indexing.html#returning-a-view-versus-a-copy\n",
      "  data['Age'].iloc[i] = age_pred\n",
      "/var/folders/_z/fqc2y1zs5nxfts7kcfj9y20w0000gn/T/ipykernel_57390/147307425.py:21: SettingWithCopyWarning: \n",
      "A value is trying to be set on a copy of a slice from a DataFrame\n",
      "\n",
      "See the caveats in the documentation: https://pandas.pydata.org/pandas-docs/stable/user_guide/indexing.html#returning-a-view-versus-a-copy\n",
      "  data['Age'].iloc[i] = age_pred\n",
      "/var/folders/_z/fqc2y1zs5nxfts7kcfj9y20w0000gn/T/ipykernel_57390/147307425.py:21: SettingWithCopyWarning: \n",
      "A value is trying to be set on a copy of a slice from a DataFrame\n",
      "\n",
      "See the caveats in the documentation: https://pandas.pydata.org/pandas-docs/stable/user_guide/indexing.html#returning-a-view-versus-a-copy\n",
      "  data['Age'].iloc[i] = age_pred\n",
      "/var/folders/_z/fqc2y1zs5nxfts7kcfj9y20w0000gn/T/ipykernel_57390/147307425.py:21: SettingWithCopyWarning: \n",
      "A value is trying to be set on a copy of a slice from a DataFrame\n",
      "\n",
      "See the caveats in the documentation: https://pandas.pydata.org/pandas-docs/stable/user_guide/indexing.html#returning-a-view-versus-a-copy\n",
      "  data['Age'].iloc[i] = age_pred\n",
      "/var/folders/_z/fqc2y1zs5nxfts7kcfj9y20w0000gn/T/ipykernel_57390/147307425.py:21: SettingWithCopyWarning: \n",
      "A value is trying to be set on a copy of a slice from a DataFrame\n",
      "\n",
      "See the caveats in the documentation: https://pandas.pydata.org/pandas-docs/stable/user_guide/indexing.html#returning-a-view-versus-a-copy\n",
      "  data['Age'].iloc[i] = age_pred\n",
      "/var/folders/_z/fqc2y1zs5nxfts7kcfj9y20w0000gn/T/ipykernel_57390/147307425.py:21: SettingWithCopyWarning: \n",
      "A value is trying to be set on a copy of a slice from a DataFrame\n",
      "\n",
      "See the caveats in the documentation: https://pandas.pydata.org/pandas-docs/stable/user_guide/indexing.html#returning-a-view-versus-a-copy\n",
      "  data['Age'].iloc[i] = age_pred\n",
      "/var/folders/_z/fqc2y1zs5nxfts7kcfj9y20w0000gn/T/ipykernel_57390/147307425.py:21: SettingWithCopyWarning: \n",
      "A value is trying to be set on a copy of a slice from a DataFrame\n",
      "\n",
      "See the caveats in the documentation: https://pandas.pydata.org/pandas-docs/stable/user_guide/indexing.html#returning-a-view-versus-a-copy\n",
      "  data['Age'].iloc[i] = age_pred\n",
      "/var/folders/_z/fqc2y1zs5nxfts7kcfj9y20w0000gn/T/ipykernel_57390/147307425.py:21: SettingWithCopyWarning: \n",
      "A value is trying to be set on a copy of a slice from a DataFrame\n",
      "\n",
      "See the caveats in the documentation: https://pandas.pydata.org/pandas-docs/stable/user_guide/indexing.html#returning-a-view-versus-a-copy\n",
      "  data['Age'].iloc[i] = age_pred\n",
      "/var/folders/_z/fqc2y1zs5nxfts7kcfj9y20w0000gn/T/ipykernel_57390/147307425.py:21: SettingWithCopyWarning: \n",
      "A value is trying to be set on a copy of a slice from a DataFrame\n",
      "\n",
      "See the caveats in the documentation: https://pandas.pydata.org/pandas-docs/stable/user_guide/indexing.html#returning-a-view-versus-a-copy\n",
      "  data['Age'].iloc[i] = age_pred\n",
      "/var/folders/_z/fqc2y1zs5nxfts7kcfj9y20w0000gn/T/ipykernel_57390/147307425.py:21: SettingWithCopyWarning: \n",
      "A value is trying to be set on a copy of a slice from a DataFrame\n",
      "\n",
      "See the caveats in the documentation: https://pandas.pydata.org/pandas-docs/stable/user_guide/indexing.html#returning-a-view-versus-a-copy\n",
      "  data['Age'].iloc[i] = age_pred\n",
      "/var/folders/_z/fqc2y1zs5nxfts7kcfj9y20w0000gn/T/ipykernel_57390/147307425.py:21: SettingWithCopyWarning: \n",
      "A value is trying to be set on a copy of a slice from a DataFrame\n",
      "\n",
      "See the caveats in the documentation: https://pandas.pydata.org/pandas-docs/stable/user_guide/indexing.html#returning-a-view-versus-a-copy\n",
      "  data['Age'].iloc[i] = age_pred\n",
      "/var/folders/_z/fqc2y1zs5nxfts7kcfj9y20w0000gn/T/ipykernel_57390/147307425.py:21: SettingWithCopyWarning: \n",
      "A value is trying to be set on a copy of a slice from a DataFrame\n",
      "\n",
      "See the caveats in the documentation: https://pandas.pydata.org/pandas-docs/stable/user_guide/indexing.html#returning-a-view-versus-a-copy\n",
      "  data['Age'].iloc[i] = age_pred\n",
      "/var/folders/_z/fqc2y1zs5nxfts7kcfj9y20w0000gn/T/ipykernel_57390/147307425.py:21: SettingWithCopyWarning: \n",
      "A value is trying to be set on a copy of a slice from a DataFrame\n",
      "\n",
      "See the caveats in the documentation: https://pandas.pydata.org/pandas-docs/stable/user_guide/indexing.html#returning-a-view-versus-a-copy\n",
      "  data['Age'].iloc[i] = age_pred\n",
      "/var/folders/_z/fqc2y1zs5nxfts7kcfj9y20w0000gn/T/ipykernel_57390/147307425.py:21: SettingWithCopyWarning: \n",
      "A value is trying to be set on a copy of a slice from a DataFrame\n",
      "\n",
      "See the caveats in the documentation: https://pandas.pydata.org/pandas-docs/stable/user_guide/indexing.html#returning-a-view-versus-a-copy\n",
      "  data['Age'].iloc[i] = age_pred\n",
      "/var/folders/_z/fqc2y1zs5nxfts7kcfj9y20w0000gn/T/ipykernel_57390/147307425.py:21: SettingWithCopyWarning: \n",
      "A value is trying to be set on a copy of a slice from a DataFrame\n",
      "\n",
      "See the caveats in the documentation: https://pandas.pydata.org/pandas-docs/stable/user_guide/indexing.html#returning-a-view-versus-a-copy\n",
      "  data['Age'].iloc[i] = age_pred\n",
      "/var/folders/_z/fqc2y1zs5nxfts7kcfj9y20w0000gn/T/ipykernel_57390/147307425.py:21: SettingWithCopyWarning: \n",
      "A value is trying to be set on a copy of a slice from a DataFrame\n",
      "\n",
      "See the caveats in the documentation: https://pandas.pydata.org/pandas-docs/stable/user_guide/indexing.html#returning-a-view-versus-a-copy\n",
      "  data['Age'].iloc[i] = age_pred\n",
      "/var/folders/_z/fqc2y1zs5nxfts7kcfj9y20w0000gn/T/ipykernel_57390/147307425.py:21: SettingWithCopyWarning: \n",
      "A value is trying to be set on a copy of a slice from a DataFrame\n",
      "\n",
      "See the caveats in the documentation: https://pandas.pydata.org/pandas-docs/stable/user_guide/indexing.html#returning-a-view-versus-a-copy\n",
      "  data['Age'].iloc[i] = age_pred\n",
      "/var/folders/_z/fqc2y1zs5nxfts7kcfj9y20w0000gn/T/ipykernel_57390/147307425.py:21: SettingWithCopyWarning: \n",
      "A value is trying to be set on a copy of a slice from a DataFrame\n",
      "\n",
      "See the caveats in the documentation: https://pandas.pydata.org/pandas-docs/stable/user_guide/indexing.html#returning-a-view-versus-a-copy\n",
      "  data['Age'].iloc[i] = age_pred\n",
      "/var/folders/_z/fqc2y1zs5nxfts7kcfj9y20w0000gn/T/ipykernel_57390/147307425.py:21: SettingWithCopyWarning: \n",
      "A value is trying to be set on a copy of a slice from a DataFrame\n",
      "\n",
      "See the caveats in the documentation: https://pandas.pydata.org/pandas-docs/stable/user_guide/indexing.html#returning-a-view-versus-a-copy\n",
      "  data['Age'].iloc[i] = age_pred\n",
      "/var/folders/_z/fqc2y1zs5nxfts7kcfj9y20w0000gn/T/ipykernel_57390/147307425.py:21: SettingWithCopyWarning: \n",
      "A value is trying to be set on a copy of a slice from a DataFrame\n",
      "\n",
      "See the caveats in the documentation: https://pandas.pydata.org/pandas-docs/stable/user_guide/indexing.html#returning-a-view-versus-a-copy\n",
      "  data['Age'].iloc[i] = age_pred\n",
      "/var/folders/_z/fqc2y1zs5nxfts7kcfj9y20w0000gn/T/ipykernel_57390/147307425.py:21: SettingWithCopyWarning: \n",
      "A value is trying to be set on a copy of a slice from a DataFrame\n",
      "\n",
      "See the caveats in the documentation: https://pandas.pydata.org/pandas-docs/stable/user_guide/indexing.html#returning-a-view-versus-a-copy\n",
      "  data['Age'].iloc[i] = age_pred\n",
      "/var/folders/_z/fqc2y1zs5nxfts7kcfj9y20w0000gn/T/ipykernel_57390/147307425.py:21: SettingWithCopyWarning: \n",
      "A value is trying to be set on a copy of a slice from a DataFrame\n",
      "\n",
      "See the caveats in the documentation: https://pandas.pydata.org/pandas-docs/stable/user_guide/indexing.html#returning-a-view-versus-a-copy\n",
      "  data['Age'].iloc[i] = age_pred\n",
      "/var/folders/_z/fqc2y1zs5nxfts7kcfj9y20w0000gn/T/ipykernel_57390/147307425.py:21: SettingWithCopyWarning: \n",
      "A value is trying to be set on a copy of a slice from a DataFrame\n",
      "\n",
      "See the caveats in the documentation: https://pandas.pydata.org/pandas-docs/stable/user_guide/indexing.html#returning-a-view-versus-a-copy\n",
      "  data['Age'].iloc[i] = age_pred\n",
      "/var/folders/_z/fqc2y1zs5nxfts7kcfj9y20w0000gn/T/ipykernel_57390/147307425.py:21: SettingWithCopyWarning: \n",
      "A value is trying to be set on a copy of a slice from a DataFrame\n",
      "\n",
      "See the caveats in the documentation: https://pandas.pydata.org/pandas-docs/stable/user_guide/indexing.html#returning-a-view-versus-a-copy\n",
      "  data['Age'].iloc[i] = age_pred\n",
      "/var/folders/_z/fqc2y1zs5nxfts7kcfj9y20w0000gn/T/ipykernel_57390/147307425.py:21: SettingWithCopyWarning: \n",
      "A value is trying to be set on a copy of a slice from a DataFrame\n",
      "\n",
      "See the caveats in the documentation: https://pandas.pydata.org/pandas-docs/stable/user_guide/indexing.html#returning-a-view-versus-a-copy\n",
      "  data['Age'].iloc[i] = age_pred\n",
      "/var/folders/_z/fqc2y1zs5nxfts7kcfj9y20w0000gn/T/ipykernel_57390/147307425.py:21: SettingWithCopyWarning: \n",
      "A value is trying to be set on a copy of a slice from a DataFrame\n",
      "\n",
      "See the caveats in the documentation: https://pandas.pydata.org/pandas-docs/stable/user_guide/indexing.html#returning-a-view-versus-a-copy\n",
      "  data['Age'].iloc[i] = age_pred\n",
      "/var/folders/_z/fqc2y1zs5nxfts7kcfj9y20w0000gn/T/ipykernel_57390/147307425.py:21: SettingWithCopyWarning: \n",
      "A value is trying to be set on a copy of a slice from a DataFrame\n",
      "\n",
      "See the caveats in the documentation: https://pandas.pydata.org/pandas-docs/stable/user_guide/indexing.html#returning-a-view-versus-a-copy\n",
      "  data['Age'].iloc[i] = age_pred\n",
      "/var/folders/_z/fqc2y1zs5nxfts7kcfj9y20w0000gn/T/ipykernel_57390/147307425.py:21: SettingWithCopyWarning: \n",
      "A value is trying to be set on a copy of a slice from a DataFrame\n",
      "\n",
      "See the caveats in the documentation: https://pandas.pydata.org/pandas-docs/stable/user_guide/indexing.html#returning-a-view-versus-a-copy\n",
      "  data['Age'].iloc[i] = age_pred\n",
      "/var/folders/_z/fqc2y1zs5nxfts7kcfj9y20w0000gn/T/ipykernel_57390/147307425.py:21: SettingWithCopyWarning: \n",
      "A value is trying to be set on a copy of a slice from a DataFrame\n",
      "\n",
      "See the caveats in the documentation: https://pandas.pydata.org/pandas-docs/stable/user_guide/indexing.html#returning-a-view-versus-a-copy\n",
      "  data['Age'].iloc[i] = age_pred\n",
      "/var/folders/_z/fqc2y1zs5nxfts7kcfj9y20w0000gn/T/ipykernel_57390/147307425.py:21: SettingWithCopyWarning: \n",
      "A value is trying to be set on a copy of a slice from a DataFrame\n",
      "\n",
      "See the caveats in the documentation: https://pandas.pydata.org/pandas-docs/stable/user_guide/indexing.html#returning-a-view-versus-a-copy\n",
      "  data['Age'].iloc[i] = age_pred\n",
      "/var/folders/_z/fqc2y1zs5nxfts7kcfj9y20w0000gn/T/ipykernel_57390/147307425.py:21: SettingWithCopyWarning: \n",
      "A value is trying to be set on a copy of a slice from a DataFrame\n",
      "\n",
      "See the caveats in the documentation: https://pandas.pydata.org/pandas-docs/stable/user_guide/indexing.html#returning-a-view-versus-a-copy\n",
      "  data['Age'].iloc[i] = age_pred\n",
      "/var/folders/_z/fqc2y1zs5nxfts7kcfj9y20w0000gn/T/ipykernel_57390/147307425.py:21: SettingWithCopyWarning: \n",
      "A value is trying to be set on a copy of a slice from a DataFrame\n",
      "\n",
      "See the caveats in the documentation: https://pandas.pydata.org/pandas-docs/stable/user_guide/indexing.html#returning-a-view-versus-a-copy\n",
      "  data['Age'].iloc[i] = age_pred\n",
      "/var/folders/_z/fqc2y1zs5nxfts7kcfj9y20w0000gn/T/ipykernel_57390/147307425.py:21: SettingWithCopyWarning: \n",
      "A value is trying to be set on a copy of a slice from a DataFrame\n",
      "\n",
      "See the caveats in the documentation: https://pandas.pydata.org/pandas-docs/stable/user_guide/indexing.html#returning-a-view-versus-a-copy\n",
      "  data['Age'].iloc[i] = age_pred\n",
      "/var/folders/_z/fqc2y1zs5nxfts7kcfj9y20w0000gn/T/ipykernel_57390/147307425.py:21: SettingWithCopyWarning: \n",
      "A value is trying to be set on a copy of a slice from a DataFrame\n",
      "\n",
      "See the caveats in the documentation: https://pandas.pydata.org/pandas-docs/stable/user_guide/indexing.html#returning-a-view-versus-a-copy\n",
      "  data['Age'].iloc[i] = age_pred\n",
      "/var/folders/_z/fqc2y1zs5nxfts7kcfj9y20w0000gn/T/ipykernel_57390/147307425.py:21: SettingWithCopyWarning: \n",
      "A value is trying to be set on a copy of a slice from a DataFrame\n",
      "\n",
      "See the caveats in the documentation: https://pandas.pydata.org/pandas-docs/stable/user_guide/indexing.html#returning-a-view-versus-a-copy\n",
      "  data['Age'].iloc[i] = age_pred\n",
      "/var/folders/_z/fqc2y1zs5nxfts7kcfj9y20w0000gn/T/ipykernel_57390/147307425.py:21: SettingWithCopyWarning: \n",
      "A value is trying to be set on a copy of a slice from a DataFrame\n",
      "\n",
      "See the caveats in the documentation: https://pandas.pydata.org/pandas-docs/stable/user_guide/indexing.html#returning-a-view-versus-a-copy\n",
      "  data['Age'].iloc[i] = age_pred\n",
      "/var/folders/_z/fqc2y1zs5nxfts7kcfj9y20w0000gn/T/ipykernel_57390/147307425.py:21: SettingWithCopyWarning: \n",
      "A value is trying to be set on a copy of a slice from a DataFrame\n",
      "\n",
      "See the caveats in the documentation: https://pandas.pydata.org/pandas-docs/stable/user_guide/indexing.html#returning-a-view-versus-a-copy\n",
      "  data['Age'].iloc[i] = age_pred\n",
      "/var/folders/_z/fqc2y1zs5nxfts7kcfj9y20w0000gn/T/ipykernel_57390/147307425.py:21: SettingWithCopyWarning: \n",
      "A value is trying to be set on a copy of a slice from a DataFrame\n",
      "\n",
      "See the caveats in the documentation: https://pandas.pydata.org/pandas-docs/stable/user_guide/indexing.html#returning-a-view-versus-a-copy\n",
      "  data['Age'].iloc[i] = age_pred\n",
      "/var/folders/_z/fqc2y1zs5nxfts7kcfj9y20w0000gn/T/ipykernel_57390/147307425.py:21: SettingWithCopyWarning: \n",
      "A value is trying to be set on a copy of a slice from a DataFrame\n",
      "\n",
      "See the caveats in the documentation: https://pandas.pydata.org/pandas-docs/stable/user_guide/indexing.html#returning-a-view-versus-a-copy\n",
      "  data['Age'].iloc[i] = age_pred\n",
      "/var/folders/_z/fqc2y1zs5nxfts7kcfj9y20w0000gn/T/ipykernel_57390/147307425.py:21: SettingWithCopyWarning: \n",
      "A value is trying to be set on a copy of a slice from a DataFrame\n",
      "\n",
      "See the caveats in the documentation: https://pandas.pydata.org/pandas-docs/stable/user_guide/indexing.html#returning-a-view-versus-a-copy\n",
      "  data['Age'].iloc[i] = age_pred\n",
      "/var/folders/_z/fqc2y1zs5nxfts7kcfj9y20w0000gn/T/ipykernel_57390/147307425.py:21: SettingWithCopyWarning: \n",
      "A value is trying to be set on a copy of a slice from a DataFrame\n",
      "\n",
      "See the caveats in the documentation: https://pandas.pydata.org/pandas-docs/stable/user_guide/indexing.html#returning-a-view-versus-a-copy\n",
      "  data['Age'].iloc[i] = age_pred\n",
      "/var/folders/_z/fqc2y1zs5nxfts7kcfj9y20w0000gn/T/ipykernel_57390/147307425.py:21: SettingWithCopyWarning: \n",
      "A value is trying to be set on a copy of a slice from a DataFrame\n",
      "\n",
      "See the caveats in the documentation: https://pandas.pydata.org/pandas-docs/stable/user_guide/indexing.html#returning-a-view-versus-a-copy\n",
      "  data['Age'].iloc[i] = age_pred\n",
      "/var/folders/_z/fqc2y1zs5nxfts7kcfj9y20w0000gn/T/ipykernel_57390/147307425.py:21: SettingWithCopyWarning: \n",
      "A value is trying to be set on a copy of a slice from a DataFrame\n",
      "\n",
      "See the caveats in the documentation: https://pandas.pydata.org/pandas-docs/stable/user_guide/indexing.html#returning-a-view-versus-a-copy\n",
      "  data['Age'].iloc[i] = age_pred\n",
      "/var/folders/_z/fqc2y1zs5nxfts7kcfj9y20w0000gn/T/ipykernel_57390/147307425.py:21: SettingWithCopyWarning: \n",
      "A value is trying to be set on a copy of a slice from a DataFrame\n",
      "\n",
      "See the caveats in the documentation: https://pandas.pydata.org/pandas-docs/stable/user_guide/indexing.html#returning-a-view-versus-a-copy\n",
      "  data['Age'].iloc[i] = age_pred\n",
      "/var/folders/_z/fqc2y1zs5nxfts7kcfj9y20w0000gn/T/ipykernel_57390/147307425.py:21: SettingWithCopyWarning: \n",
      "A value is trying to be set on a copy of a slice from a DataFrame\n",
      "\n",
      "See the caveats in the documentation: https://pandas.pydata.org/pandas-docs/stable/user_guide/indexing.html#returning-a-view-versus-a-copy\n",
      "  data['Age'].iloc[i] = age_pred\n",
      "/var/folders/_z/fqc2y1zs5nxfts7kcfj9y20w0000gn/T/ipykernel_57390/147307425.py:21: SettingWithCopyWarning: \n",
      "A value is trying to be set on a copy of a slice from a DataFrame\n",
      "\n",
      "See the caveats in the documentation: https://pandas.pydata.org/pandas-docs/stable/user_guide/indexing.html#returning-a-view-versus-a-copy\n",
      "  data['Age'].iloc[i] = age_pred\n",
      "/var/folders/_z/fqc2y1zs5nxfts7kcfj9y20w0000gn/T/ipykernel_57390/147307425.py:21: SettingWithCopyWarning: \n",
      "A value is trying to be set on a copy of a slice from a DataFrame\n",
      "\n",
      "See the caveats in the documentation: https://pandas.pydata.org/pandas-docs/stable/user_guide/indexing.html#returning-a-view-versus-a-copy\n",
      "  data['Age'].iloc[i] = age_pred\n",
      "/var/folders/_z/fqc2y1zs5nxfts7kcfj9y20w0000gn/T/ipykernel_57390/147307425.py:21: SettingWithCopyWarning: \n",
      "A value is trying to be set on a copy of a slice from a DataFrame\n",
      "\n",
      "See the caveats in the documentation: https://pandas.pydata.org/pandas-docs/stable/user_guide/indexing.html#returning-a-view-versus-a-copy\n",
      "  data['Age'].iloc[i] = age_pred\n",
      "/var/folders/_z/fqc2y1zs5nxfts7kcfj9y20w0000gn/T/ipykernel_57390/147307425.py:21: SettingWithCopyWarning: \n",
      "A value is trying to be set on a copy of a slice from a DataFrame\n",
      "\n",
      "See the caveats in the documentation: https://pandas.pydata.org/pandas-docs/stable/user_guide/indexing.html#returning-a-view-versus-a-copy\n",
      "  data['Age'].iloc[i] = age_pred\n",
      "/var/folders/_z/fqc2y1zs5nxfts7kcfj9y20w0000gn/T/ipykernel_57390/147307425.py:21: SettingWithCopyWarning: \n",
      "A value is trying to be set on a copy of a slice from a DataFrame\n",
      "\n",
      "See the caveats in the documentation: https://pandas.pydata.org/pandas-docs/stable/user_guide/indexing.html#returning-a-view-versus-a-copy\n",
      "  data['Age'].iloc[i] = age_pred\n",
      "/var/folders/_z/fqc2y1zs5nxfts7kcfj9y20w0000gn/T/ipykernel_57390/147307425.py:21: SettingWithCopyWarning: \n",
      "A value is trying to be set on a copy of a slice from a DataFrame\n",
      "\n",
      "See the caveats in the documentation: https://pandas.pydata.org/pandas-docs/stable/user_guide/indexing.html#returning-a-view-versus-a-copy\n",
      "  data['Age'].iloc[i] = age_pred\n",
      "/var/folders/_z/fqc2y1zs5nxfts7kcfj9y20w0000gn/T/ipykernel_57390/147307425.py:21: SettingWithCopyWarning: \n",
      "A value is trying to be set on a copy of a slice from a DataFrame\n",
      "\n",
      "See the caveats in the documentation: https://pandas.pydata.org/pandas-docs/stable/user_guide/indexing.html#returning-a-view-versus-a-copy\n",
      "  data['Age'].iloc[i] = age_pred\n",
      "/var/folders/_z/fqc2y1zs5nxfts7kcfj9y20w0000gn/T/ipykernel_57390/147307425.py:21: SettingWithCopyWarning: \n",
      "A value is trying to be set on a copy of a slice from a DataFrame\n",
      "\n",
      "See the caveats in the documentation: https://pandas.pydata.org/pandas-docs/stable/user_guide/indexing.html#returning-a-view-versus-a-copy\n",
      "  data['Age'].iloc[i] = age_pred\n"
     ]
    }
   ],
   "source": [
    "index_NaN_age = list(data[\"Age\"][data[\"Age\"].isnull()].index)\n",
    "age_imputation = []\n",
    "\n",
    "for i in index_NaN_age:\n",
    "    \n",
    "    title = data.loc[i,\"title\"]\n",
    "    \n",
    "    #if the title is not miss\n",
    "    if title != 'Miss.':\n",
    "        \n",
    "        #impute missing age value using median of title\n",
    "        age_pred = data[data['title']==title]['Age'].median()\n",
    "    \n",
    "    #if title is miss\n",
    "    else:\n",
    "        \n",
    "        #impute missing age value using Parch\n",
    "        parch = data.loc[i,\"Parch\"]\n",
    "        age_pred = data_miss[data_miss['Parch']==parch]['Age'].median()\n",
    "  \n",
    "    data['Age'].iloc[i] = age_pred"
   ]
  },
  {
   "cell_type": "code",
   "execution_count": 29,
   "id": "a5863aa1",
   "metadata": {
    "execution": {
     "iopub.execute_input": "2023-06-01T01:42:59.536231Z",
     "iopub.status.busy": "2023-06-01T01:42:59.535490Z",
     "iopub.status.idle": "2023-06-01T01:42:59.560466Z",
     "shell.execute_reply": "2023-06-01T01:42:59.559933Z",
     "shell.execute_reply.started": "2023-06-01T01:30:24.360898Z"
    },
    "papermill": {
     "duration": 0.101806,
     "end_time": "2023-06-01T01:42:59.560654",
     "exception": false,
     "start_time": "2023-06-01T01:42:59.458848",
     "status": "completed"
    },
    "tags": []
   },
   "outputs": [
    {
     "data": {
      "text/html": [
       "<div>\n",
       "<style scoped>\n",
       "    .dataframe tbody tr th:only-of-type {\n",
       "        vertical-align: middle;\n",
       "    }\n",
       "\n",
       "    .dataframe tbody tr th {\n",
       "        vertical-align: top;\n",
       "    }\n",
       "\n",
       "    .dataframe thead th {\n",
       "        text-align: right;\n",
       "    }\n",
       "</style>\n",
       "<table border=\"1\" class=\"dataframe\">\n",
       "  <thead>\n",
       "    <tr style=\"text-align: right;\">\n",
       "      <th></th>\n",
       "      <th>Survived</th>\n",
       "      <th>Pclass</th>\n",
       "      <th>Sex</th>\n",
       "      <th>Age</th>\n",
       "      <th>SibSp</th>\n",
       "      <th>Parch</th>\n",
       "      <th>Fare</th>\n",
       "      <th>Embarked</th>\n",
       "      <th>title</th>\n",
       "      <th>family_size</th>\n",
       "      <th>fare_log</th>\n",
       "    </tr>\n",
       "  </thead>\n",
       "  <tbody>\n",
       "    <tr>\n",
       "      <th>5</th>\n",
       "      <td>0.0</td>\n",
       "      <td>3</td>\n",
       "      <td>male</td>\n",
       "      <td>29.0</td>\n",
       "      <td>0</td>\n",
       "      <td>0</td>\n",
       "      <td>8.4583</td>\n",
       "      <td>Q</td>\n",
       "      <td>Mr.</td>\n",
       "      <td>is_alone</td>\n",
       "      <td>2.246893</td>\n",
       "    </tr>\n",
       "    <tr>\n",
       "      <th>17</th>\n",
       "      <td>1.0</td>\n",
       "      <td>2</td>\n",
       "      <td>male</td>\n",
       "      <td>29.0</td>\n",
       "      <td>0</td>\n",
       "      <td>0</td>\n",
       "      <td>13.0000</td>\n",
       "      <td>S</td>\n",
       "      <td>Mr.</td>\n",
       "      <td>is_alone</td>\n",
       "      <td>2.639057</td>\n",
       "    </tr>\n",
       "    <tr>\n",
       "      <th>19</th>\n",
       "      <td>1.0</td>\n",
       "      <td>3</td>\n",
       "      <td>female</td>\n",
       "      <td>35.0</td>\n",
       "      <td>0</td>\n",
       "      <td>0</td>\n",
       "      <td>7.2250</td>\n",
       "      <td>C</td>\n",
       "      <td>Mrs.</td>\n",
       "      <td>is_alone</td>\n",
       "      <td>2.107178</td>\n",
       "    </tr>\n",
       "    <tr>\n",
       "      <th>26</th>\n",
       "      <td>0.0</td>\n",
       "      <td>3</td>\n",
       "      <td>male</td>\n",
       "      <td>29.0</td>\n",
       "      <td>0</td>\n",
       "      <td>0</td>\n",
       "      <td>7.2250</td>\n",
       "      <td>C</td>\n",
       "      <td>Mr.</td>\n",
       "      <td>is_alone</td>\n",
       "      <td>2.107178</td>\n",
       "    </tr>\n",
       "    <tr>\n",
       "      <th>28</th>\n",
       "      <td>1.0</td>\n",
       "      <td>3</td>\n",
       "      <td>female</td>\n",
       "      <td>25.0</td>\n",
       "      <td>0</td>\n",
       "      <td>0</td>\n",
       "      <td>7.8792</td>\n",
       "      <td>Q</td>\n",
       "      <td>Miss.</td>\n",
       "      <td>is_alone</td>\n",
       "      <td>2.183711</td>\n",
       "    </tr>\n",
       "    <tr>\n",
       "      <th>...</th>\n",
       "      <td>...</td>\n",
       "      <td>...</td>\n",
       "      <td>...</td>\n",
       "      <td>...</td>\n",
       "      <td>...</td>\n",
       "      <td>...</td>\n",
       "      <td>...</td>\n",
       "      <td>...</td>\n",
       "      <td>...</td>\n",
       "      <td>...</td>\n",
       "      <td>...</td>\n",
       "    </tr>\n",
       "    <tr>\n",
       "      <th>1299</th>\n",
       "      <td>NaN</td>\n",
       "      <td>3</td>\n",
       "      <td>female</td>\n",
       "      <td>25.0</td>\n",
       "      <td>0</td>\n",
       "      <td>0</td>\n",
       "      <td>7.7208</td>\n",
       "      <td>Q</td>\n",
       "      <td>Miss.</td>\n",
       "      <td>is_alone</td>\n",
       "      <td>2.165711</td>\n",
       "    </tr>\n",
       "    <tr>\n",
       "      <th>1301</th>\n",
       "      <td>NaN</td>\n",
       "      <td>3</td>\n",
       "      <td>female</td>\n",
       "      <td>25.0</td>\n",
       "      <td>0</td>\n",
       "      <td>0</td>\n",
       "      <td>7.7500</td>\n",
       "      <td>Q</td>\n",
       "      <td>Miss.</td>\n",
       "      <td>is_alone</td>\n",
       "      <td>2.169054</td>\n",
       "    </tr>\n",
       "    <tr>\n",
       "      <th>1304</th>\n",
       "      <td>NaN</td>\n",
       "      <td>3</td>\n",
       "      <td>male</td>\n",
       "      <td>29.0</td>\n",
       "      <td>0</td>\n",
       "      <td>0</td>\n",
       "      <td>8.0500</td>\n",
       "      <td>S</td>\n",
       "      <td>Mr.</td>\n",
       "      <td>is_alone</td>\n",
       "      <td>2.202765</td>\n",
       "    </tr>\n",
       "    <tr>\n",
       "      <th>1307</th>\n",
       "      <td>NaN</td>\n",
       "      <td>3</td>\n",
       "      <td>male</td>\n",
       "      <td>29.0</td>\n",
       "      <td>0</td>\n",
       "      <td>0</td>\n",
       "      <td>8.0500</td>\n",
       "      <td>S</td>\n",
       "      <td>Mr.</td>\n",
       "      <td>is_alone</td>\n",
       "      <td>2.202765</td>\n",
       "    </tr>\n",
       "    <tr>\n",
       "      <th>1308</th>\n",
       "      <td>NaN</td>\n",
       "      <td>3</td>\n",
       "      <td>male</td>\n",
       "      <td>4.0</td>\n",
       "      <td>1</td>\n",
       "      <td>1</td>\n",
       "      <td>22.3583</td>\n",
       "      <td>C</td>\n",
       "      <td>Master.</td>\n",
       "      <td>small</td>\n",
       "      <td>3.150952</td>\n",
       "    </tr>\n",
       "  </tbody>\n",
       "</table>\n",
       "<p>263 rows × 11 columns</p>\n",
       "</div>"
      ],
      "text/plain": [
       "      Survived Pclass     Sex   Age  SibSp  Parch     Fare Embarked    title  \\\n",
       "5          0.0      3    male  29.0      0      0   8.4583        Q      Mr.   \n",
       "17         1.0      2    male  29.0      0      0  13.0000        S      Mr.   \n",
       "19         1.0      3  female  35.0      0      0   7.2250        C     Mrs.   \n",
       "26         0.0      3    male  29.0      0      0   7.2250        C      Mr.   \n",
       "28         1.0      3  female  25.0      0      0   7.8792        Q    Miss.   \n",
       "...        ...    ...     ...   ...    ...    ...      ...      ...      ...   \n",
       "1299       NaN      3  female  25.0      0      0   7.7208        Q    Miss.   \n",
       "1301       NaN      3  female  25.0      0      0   7.7500        Q    Miss.   \n",
       "1304       NaN      3    male  29.0      0      0   8.0500        S      Mr.   \n",
       "1307       NaN      3    male  29.0      0      0   8.0500        S      Mr.   \n",
       "1308       NaN      3    male   4.0      1      1  22.3583        C  Master.   \n",
       "\n",
       "     family_size  fare_log  \n",
       "5       is_alone  2.246893  \n",
       "17      is_alone  2.639057  \n",
       "19      is_alone  2.107178  \n",
       "26      is_alone  2.107178  \n",
       "28      is_alone  2.183711  \n",
       "...          ...       ...  \n",
       "1299    is_alone  2.165711  \n",
       "1301    is_alone  2.169054  \n",
       "1304    is_alone  2.202765  \n",
       "1307    is_alone  2.202765  \n",
       "1308       small  3.150952  \n",
       "\n",
       "[263 rows x 11 columns]"
      ]
     },
     "execution_count": 29,
     "metadata": {},
     "output_type": "execute_result"
    }
   ],
   "source": [
    "data.loc[index_NaN_age]"
   ]
  },
  {
   "cell_type": "markdown",
   "id": "033421a3",
   "metadata": {
    "papermill": {
     "duration": 0.07425,
     "end_time": "2023-06-01T01:42:59.709367",
     "exception": false,
     "start_time": "2023-06-01T01:42:59.635117",
     "status": "completed"
    },
    "tags": []
   },
   "source": [
    "We can see that the missing age values have been imputed accordingly. The *Age* values seem a little high compared to the other variables, so let's finish preprocessing this variable off by scaling it down using `MinMaxScaler()` (transforms variable to between 0 and 1)."
   ]
  },
  {
   "cell_type": "code",
   "execution_count": 30,
   "id": "65c1fbc1",
   "metadata": {
    "execution": {
     "iopub.execute_input": "2023-06-01T01:42:59.870699Z",
     "iopub.status.busy": "2023-06-01T01:42:59.869952Z",
     "iopub.status.idle": "2023-06-01T01:42:59.872564Z",
     "shell.execute_reply": "2023-06-01T01:42:59.873074Z",
     "shell.execute_reply.started": "2023-06-01T01:30:24.406409Z"
    },
    "papermill": {
     "duration": 0.0868,
     "end_time": "2023-06-01T01:42:59.873266",
     "exception": false,
     "start_time": "2023-06-01T01:42:59.786466",
     "status": "completed"
    },
    "tags": []
   },
   "outputs": [],
   "source": [
    "#Normalize\n",
    "from sklearn.preprocessing import MinMaxScaler\n",
    "\n",
    "scaler = MinMaxScaler()\n",
    "data[[\"Age_minmax\"]] = scaler.fit_transform(data[[\"Age\"]])"
   ]
  },
  {
   "cell_type": "markdown",
   "id": "4e33ed1a",
   "metadata": {
    "papermill": {
     "duration": 0.07407,
     "end_time": "2023-06-01T01:43:00.022090",
     "exception": false,
     "start_time": "2023-06-01T01:42:59.948020",
     "status": "completed"
    },
    "tags": []
   },
   "source": [
    "All of our variables should be ready by now. We are only one step from completing our preprocessing stage, categorical encoding (transform categorical values to numerical representation)."
   ]
  },
  {
   "cell_type": "code",
   "execution_count": 31,
   "id": "87eec4e7",
   "metadata": {
    "execution": {
     "iopub.execute_input": "2023-06-01T01:43:00.176446Z",
     "iopub.status.busy": "2023-06-01T01:43:00.175715Z",
     "iopub.status.idle": "2023-06-01T01:43:00.201068Z",
     "shell.execute_reply": "2023-06-01T01:43:00.200292Z",
     "shell.execute_reply.started": "2023-06-01T01:30:24.425970Z"
    },
    "papermill": {
     "duration": 0.103892,
     "end_time": "2023-06-01T01:43:00.201243",
     "exception": false,
     "start_time": "2023-06-01T01:43:00.097351",
     "status": "completed"
    },
    "tags": []
   },
   "outputs": [
    {
     "data": {
      "text/html": [
       "<div>\n",
       "<style scoped>\n",
       "    .dataframe tbody tr th:only-of-type {\n",
       "        vertical-align: middle;\n",
       "    }\n",
       "\n",
       "    .dataframe tbody tr th {\n",
       "        vertical-align: top;\n",
       "    }\n",
       "\n",
       "    .dataframe thead th {\n",
       "        text-align: right;\n",
       "    }\n",
       "</style>\n",
       "<table border=\"1\" class=\"dataframe\">\n",
       "  <thead>\n",
       "    <tr style=\"text-align: right;\">\n",
       "      <th></th>\n",
       "      <th>Survived</th>\n",
       "      <th>fare_log</th>\n",
       "      <th>Age_minmax</th>\n",
       "      <th>Sex_male</th>\n",
       "      <th>Embarked_Q</th>\n",
       "      <th>Embarked_S</th>\n",
       "      <th>title_Miss.</th>\n",
       "      <th>title_Mr.</th>\n",
       "      <th>title_Mrs.</th>\n",
       "      <th>title_Other</th>\n",
       "      <th>family_size_large</th>\n",
       "      <th>family_size_medium</th>\n",
       "      <th>family_size_small</th>\n",
       "      <th>Pclass_2</th>\n",
       "      <th>Pclass_3</th>\n",
       "    </tr>\n",
       "  </thead>\n",
       "  <tbody>\n",
       "    <tr>\n",
       "      <th>0</th>\n",
       "      <td>0.0</td>\n",
       "      <td>2.110213</td>\n",
       "      <td>0.273456</td>\n",
       "      <td>True</td>\n",
       "      <td>False</td>\n",
       "      <td>True</td>\n",
       "      <td>False</td>\n",
       "      <td>True</td>\n",
       "      <td>False</td>\n",
       "      <td>False</td>\n",
       "      <td>False</td>\n",
       "      <td>False</td>\n",
       "      <td>True</td>\n",
       "      <td>False</td>\n",
       "      <td>True</td>\n",
       "    </tr>\n",
       "    <tr>\n",
       "      <th>1</th>\n",
       "      <td>1.0</td>\n",
       "      <td>4.280593</td>\n",
       "      <td>0.473882</td>\n",
       "      <td>False</td>\n",
       "      <td>False</td>\n",
       "      <td>False</td>\n",
       "      <td>False</td>\n",
       "      <td>False</td>\n",
       "      <td>True</td>\n",
       "      <td>False</td>\n",
       "      <td>False</td>\n",
       "      <td>False</td>\n",
       "      <td>True</td>\n",
       "      <td>False</td>\n",
       "      <td>False</td>\n",
       "    </tr>\n",
       "    <tr>\n",
       "      <th>2</th>\n",
       "      <td>1.0</td>\n",
       "      <td>2.188856</td>\n",
       "      <td>0.323563</td>\n",
       "      <td>False</td>\n",
       "      <td>False</td>\n",
       "      <td>True</td>\n",
       "      <td>True</td>\n",
       "      <td>False</td>\n",
       "      <td>False</td>\n",
       "      <td>False</td>\n",
       "      <td>False</td>\n",
       "      <td>False</td>\n",
       "      <td>False</td>\n",
       "      <td>False</td>\n",
       "      <td>True</td>\n",
       "    </tr>\n",
       "    <tr>\n",
       "      <th>3</th>\n",
       "      <td>1.0</td>\n",
       "      <td>3.990834</td>\n",
       "      <td>0.436302</td>\n",
       "      <td>False</td>\n",
       "      <td>False</td>\n",
       "      <td>True</td>\n",
       "      <td>False</td>\n",
       "      <td>False</td>\n",
       "      <td>True</td>\n",
       "      <td>False</td>\n",
       "      <td>False</td>\n",
       "      <td>False</td>\n",
       "      <td>True</td>\n",
       "      <td>False</td>\n",
       "      <td>False</td>\n",
       "    </tr>\n",
       "    <tr>\n",
       "      <th>4</th>\n",
       "      <td>0.0</td>\n",
       "      <td>2.202765</td>\n",
       "      <td>0.436302</td>\n",
       "      <td>True</td>\n",
       "      <td>False</td>\n",
       "      <td>True</td>\n",
       "      <td>False</td>\n",
       "      <td>True</td>\n",
       "      <td>False</td>\n",
       "      <td>False</td>\n",
       "      <td>False</td>\n",
       "      <td>False</td>\n",
       "      <td>False</td>\n",
       "      <td>False</td>\n",
       "      <td>True</td>\n",
       "    </tr>\n",
       "  </tbody>\n",
       "</table>\n",
       "</div>"
      ],
      "text/plain": [
       "   Survived  fare_log  Age_minmax  Sex_male  Embarked_Q  Embarked_S  \\\n",
       "0       0.0  2.110213    0.273456      True       False        True   \n",
       "1       1.0  4.280593    0.473882     False       False       False   \n",
       "2       1.0  2.188856    0.323563     False       False        True   \n",
       "3       1.0  3.990834    0.436302     False       False        True   \n",
       "4       0.0  2.202765    0.436302      True       False        True   \n",
       "\n",
       "   title_Miss.  title_Mr.  title_Mrs.  title_Other  family_size_large  \\\n",
       "0        False       True       False        False              False   \n",
       "1        False      False        True        False              False   \n",
       "2         True      False       False        False              False   \n",
       "3        False      False        True        False              False   \n",
       "4        False       True       False        False              False   \n",
       "\n",
       "   family_size_medium  family_size_small  Pclass_2  Pclass_3  \n",
       "0               False               True     False      True  \n",
       "1               False               True     False     False  \n",
       "2               False              False     False      True  \n",
       "3               False               True     False     False  \n",
       "4               False              False     False      True  "
      ]
     },
     "execution_count": 31,
     "metadata": {},
     "output_type": "execute_result"
    }
   ],
   "source": [
    "#categorical encoding\n",
    "cat_variables = data[['Sex','Embarked', 'title', 'family_size', 'Pclass']]\n",
    "cat_dummies = pd.get_dummies(cat_variables, drop_first=True)\n",
    "\n",
    "#drop original variable\n",
    "data = data.drop(['Sex','Embarked', 'title', 'family_size', 'Pclass', 'Age', 'SibSp', 'Parch', 'Fare'], axis=1)\n",
    "data = pd.concat([data, cat_dummies], axis=1)\n",
    "data.head()"
   ]
  },
  {
   "cell_type": "markdown",
   "id": "7734a21a",
   "metadata": {
    "papermill": {
     "duration": 0.075004,
     "end_time": "2023-06-01T01:43:00.352010",
     "exception": false,
     "start_time": "2023-06-01T01:43:00.277006",
     "status": "completed"
    },
    "tags": []
   },
   "source": [
    "Perfect! Our data is finally cleaned and we are ready to move on."
   ]
  },
  {
   "cell_type": "markdown",
   "id": "763f65ff",
   "metadata": {
    "papermill": {
     "duration": 0.077528,
     "end_time": "2023-06-01T01:43:00.505631",
     "exception": false,
     "start_time": "2023-06-01T01:43:00.428103",
     "status": "completed"
    },
    "tags": []
   },
   "source": [
    "# Train-test-split\n",
    "\n",
    "Remember at the beginning where we combined the training and testing set so that we can preprocess the data consistently? It's time to split it back. Don't forget to drop the empty target column in the testing set."
   ]
  },
  {
   "cell_type": "code",
   "execution_count": 32,
   "id": "07778044",
   "metadata": {
    "execution": {
     "iopub.execute_input": "2023-06-01T01:43:00.663051Z",
     "iopub.status.busy": "2023-06-01T01:43:00.662245Z",
     "iopub.status.idle": "2023-06-01T01:43:00.665893Z",
     "shell.execute_reply": "2023-06-01T01:43:00.666483Z",
     "shell.execute_reply.started": "2023-06-01T01:30:24.469210Z"
    },
    "papermill": {
     "duration": 0.085919,
     "end_time": "2023-06-01T01:43:00.666694",
     "exception": false,
     "start_time": "2023-06-01T01:43:00.580775",
     "status": "completed"
    },
    "tags": []
   },
   "outputs": [],
   "source": [
    "#train-test-split\n",
    "train = data[:len(train_data)]\n",
    "test = data[len(train_data):]\n",
    "\n",
    "#drop Survived from testing set\n",
    "test = test.drop(labels=[\"Survived\"],axis = 1)"
   ]
  },
  {
   "cell_type": "markdown",
   "id": "7eadfdbc",
   "metadata": {
    "papermill": {
     "duration": 0.075997,
     "end_time": "2023-06-01T01:43:00.817866",
     "exception": false,
     "start_time": "2023-06-01T01:43:00.741869",
     "status": "completed"
    },
    "tags": []
   },
   "source": [
    "To build our ML models, we need to split the training set further into our X (predictor variables) and y (target) variables."
   ]
  },
  {
   "cell_type": "code",
   "execution_count": 33,
   "id": "cf905893",
   "metadata": {
    "execution": {
     "iopub.execute_input": "2023-06-01T01:43:00.976852Z",
     "iopub.status.busy": "2023-06-01T01:43:00.976113Z",
     "iopub.status.idle": "2023-06-01T01:43:00.979918Z",
     "shell.execute_reply": "2023-06-01T01:43:00.980447Z",
     "shell.execute_reply.started": "2023-06-01T01:30:24.480019Z"
    },
    "papermill": {
     "duration": 0.086791,
     "end_time": "2023-06-01T01:43:00.980753",
     "exception": false,
     "start_time": "2023-06-01T01:43:00.893962",
     "status": "completed"
    },
    "tags": []
   },
   "outputs": [],
   "source": [
    "#X variables are all variables other than first column\n",
    "X_train = train.iloc[:,1:]\n",
    "\n",
    "#y variable is our first column\n",
    "y_train = train.iloc[:,0]"
   ]
  },
  {
   "cell_type": "markdown",
   "id": "6a0276a9",
   "metadata": {
    "papermill": {
     "duration": 0.075471,
     "end_time": "2023-06-01T01:43:01.136115",
     "exception": false,
     "start_time": "2023-06-01T01:43:01.060644",
     "status": "completed"
    },
    "tags": []
   },
   "source": [
    "Now that our data is properly split, we can start buiding and training our models."
   ]
  },
  {
   "cell_type": "markdown",
   "id": "7432474b",
   "metadata": {
    "papermill": {
     "duration": 0.075013,
     "end_time": "2023-06-01T01:43:01.286064",
     "exception": false,
     "start_time": "2023-06-01T01:43:01.211051",
     "status": "completed"
    },
    "tags": []
   },
   "source": [
    "# Model Building\n",
    "\n",
    "For this classification task, we will adopt an ensemble approach that combines several popular classifiers, including **logistic regression**, **decision tree**, and **support vector machines**. To ensure that the results can be replicated, we will set our `random_state` to 0. Additionally, since this is a classification task, we will use **Stratified K-Fold cross-validation** to ensure that classes are distributed proportionally in the validation process."
   ]
  },
  {
   "cell_type": "code",
   "execution_count": 34,
   "id": "12faf21b",
   "metadata": {
    "execution": {
     "iopub.execute_input": "2023-06-01T01:43:01.443291Z",
     "iopub.status.busy": "2023-06-01T01:43:01.442564Z",
     "iopub.status.idle": "2023-06-01T01:43:01.445153Z",
     "shell.execute_reply": "2023-06-01T01:43:01.445670Z",
     "shell.execute_reply.started": "2023-06-01T01:30:24.495207Z"
    },
    "papermill": {
     "duration": 0.083505,
     "end_time": "2023-06-01T01:43:01.445877",
     "exception": false,
     "start_time": "2023-06-01T01:43:01.362372",
     "status": "completed"
    },
    "tags": []
   },
   "outputs": [],
   "source": [
    "#set random state\n",
    "random_state = 0\n",
    "\n",
    "#cross validation with five fold\n",
    "cv = StratifiedKFold(n_splits=5)"
   ]
  },
  {
   "cell_type": "markdown",
   "id": "dbd1c171",
   "metadata": {
    "papermill": {
     "duration": 0.074999,
     "end_time": "2023-06-01T01:43:01.596900",
     "exception": false,
     "start_time": "2023-06-01T01:43:01.521901",
     "status": "completed"
    },
    "tags": []
   },
   "source": [
    "## Logistic Regression\n",
    "\n",
    "We'll start with building the most simple and basic classifier, logistic regression. Since our dataset isn't very large, we have the time to finetune the parameters using `GridSearchCV`. Let's see how well our baseline model logistic regression performs on this dataset."
   ]
  },
  {
   "cell_type": "code",
   "execution_count": 35,
   "id": "7e54ac95",
   "metadata": {
    "execution": {
     "iopub.execute_input": "2023-06-01T01:43:01.756460Z",
     "iopub.status.busy": "2023-06-01T01:43:01.755450Z",
     "iopub.status.idle": "2023-06-01T01:43:04.640379Z",
     "shell.execute_reply": "2023-06-01T01:43:04.639784Z",
     "shell.execute_reply.started": "2023-06-01T01:30:24.509783Z"
    },
    "papermill": {
     "duration": 2.968544,
     "end_time": "2023-06-01T01:43:04.640541",
     "exception": false,
     "start_time": "2023-06-01T01:43:01.671997",
     "status": "completed"
    },
    "tags": []
   },
   "outputs": [
    {
     "name": "stdout",
     "output_type": "stream",
     "text": [
      "Fitting 5 folds for each of 10 candidates, totalling 50 fits\n"
     ]
    },
    {
     "name": "stdout",
     "output_type": "stream",
     "text": [
      "Best: 0.822660 using {'C': 15, 'penalty': 'l2', 'solver': 'liblinear'}\n"
     ]
    }
   ],
   "source": [
    "#instantiate logistic regression model\n",
    "logreg = LogisticRegression()\n",
    "\n",
    "#parameters to tune\n",
    "logreg_param_grid = {\"solver\": ['liblinear'],\n",
    "                     \"penalty\": ['l2', 'l1'],\n",
    "                     \"C\": [15, 10, 1.0, 0.1, 0.01]}\n",
    "\n",
    "#gridsearch\n",
    "logreg_grid_search = GridSearchCV(logreg, param_grid=logreg_param_grid, n_jobs=-1, cv=cv, scoring='accuracy', verbose=1)\n",
    "\n",
    "logreg_grid_result = logreg_grid_search.fit(X_train,y_train)\n",
    "\n",
    "logreg_best = logreg_grid_result.best_estimator_\n",
    "\n",
    "#summarize results\n",
    "print(\"Best: %f using %s\" % (logreg_grid_result.best_score_, logreg_grid_result.best_params_))"
   ]
  },
  {
   "cell_type": "markdown",
   "id": "354f3000",
   "metadata": {
    "papermill": {
     "duration": 0.07863,
     "end_time": "2023-06-01T01:43:04.798919",
     "exception": false,
     "start_time": "2023-06-01T01:43:04.720289",
     "status": "completed"
    },
    "tags": []
   },
   "source": [
    "Not too bad for a baseline model! It achieved an 82% accuracy on cross validation. Let's run the other algorithms and compare the performances."
   ]
  },
  {
   "cell_type": "markdown",
   "id": "161b614a",
   "metadata": {
    "papermill": {
     "duration": 0.081765,
     "end_time": "2023-06-01T01:43:04.973914",
     "exception": false,
     "start_time": "2023-06-01T01:43:04.892149",
     "status": "completed"
    },
    "tags": []
   },
   "source": [
    "## Decision Tree Classifier"
   ]
  },
  {
   "cell_type": "code",
   "execution_count": 36,
   "id": "59f939f3",
   "metadata": {
    "execution": {
     "iopub.execute_input": "2023-06-01T01:43:05.137058Z",
     "iopub.status.busy": "2023-06-01T01:43:05.136234Z",
     "iopub.status.idle": "2023-06-01T01:43:05.867544Z",
     "shell.execute_reply": "2023-06-01T01:43:05.868073Z",
     "shell.execute_reply.started": "2023-06-01T01:30:27.766636Z"
    },
    "papermill": {
     "duration": 0.815797,
     "end_time": "2023-06-01T01:43:05.868257",
     "exception": false,
     "start_time": "2023-06-01T01:43:05.052460",
     "status": "completed"
    },
    "tags": []
   },
   "outputs": [
    {
     "name": "stdout",
     "output_type": "stream",
     "text": [
      "Fitting 5 folds for each of 50 candidates, totalling 250 fits\n",
      "Best: 0.827136 using {'criterion': 'entropy', 'max_depth': 3, 'min_samples_leaf': 10}\n"
     ]
    }
   ],
   "source": [
    "#instantiate decision tree model\n",
    "dt = DecisionTreeClassifier(random_state=random_state)\n",
    "\n",
    "#parameters to tune\n",
    "dt_param_grid = {'max_depth': [2, 3, 5, 10, 20],\n",
    "                 'min_samples_leaf': [5, 10, 20, 50, 100],\n",
    "                 'criterion': [\"gini\", \"entropy\"]}\n",
    "\n",
    "#grid search\n",
    "dt_grid_search = GridSearchCV(dt, param_grid=dt_param_grid, cv=cv, n_jobs=-1, verbose=1, scoring = \"accuracy\")\n",
    "\n",
    "dt_grid_result = dt_grid_search.fit(X_train, y_train)\n",
    "\n",
    "dt_best = dt_grid_result.best_estimator_\n",
    "\n",
    "#summarize results\n",
    "print(\"Best: %f using %s\" % (dt_grid_result.best_score_, dt_grid_result.best_params_))"
   ]
  },
  {
   "cell_type": "markdown",
   "id": "f99ce935",
   "metadata": {
    "papermill": {
     "duration": 0.078945,
     "end_time": "2023-06-01T01:43:06.025642",
     "exception": false,
     "start_time": "2023-06-01T01:43:05.946697",
     "status": "completed"
    },
    "tags": []
   },
   "source": [
    "## Random Forest Classifier"
   ]
  },
  {
   "cell_type": "code",
   "execution_count": 37,
   "id": "fbce79a0",
   "metadata": {
    "execution": {
     "iopub.execute_input": "2023-06-01T01:43:06.186686Z",
     "iopub.status.busy": "2023-06-01T01:43:06.185934Z",
     "iopub.status.idle": "2023-06-01T01:47:20.671065Z",
     "shell.execute_reply": "2023-06-01T01:47:20.671629Z",
     "shell.execute_reply.started": "2023-06-01T01:30:28.574577Z"
    },
    "papermill": {
     "duration": 254.567066,
     "end_time": "2023-06-01T01:47:20.671834",
     "exception": false,
     "start_time": "2023-06-01T01:43:06.104768",
     "status": "completed"
    },
    "tags": []
   },
   "outputs": [
    {
     "name": "stdout",
     "output_type": "stream",
     "text": [
      "Fitting 5 folds for each of 192 candidates, totalling 960 fits\n"
     ]
    },
    {
     "name": "stdout",
     "output_type": "stream",
     "text": [
      "Best: 0.850725 using {'max_features': 8, 'min_samples_leaf': 3, 'min_samples_split': 10, 'n_estimators': 100}\n"
     ]
    }
   ],
   "source": [
    "#instantiate Random Forest Classifier\n",
    "rfm = RandomForestClassifier(random_state=random_state)\n",
    "\n",
    "#parameters to tune\n",
    "rfm_param_grid = {\"max_features\": [2, 4, 6, 8],\n",
    "                 \"min_samples_split\": [ 3, 10, 12, 15],\n",
    "                 \"min_samples_leaf\": [1, 3, 10],\n",
    "                 \"n_estimators\" :[100,300,400,500]}\n",
    "\n",
    "#gridsearch\n",
    "rfm_grid_search = GridSearchCV(rfm, param_grid=rfm_param_grid, cv=cv, n_jobs=-1, verbose=1, scoring = \"accuracy\", error_score='raise')\n",
    "\n",
    "rfm_grid_result = rfm_grid_search.fit(X_train, y_train)\n",
    "\n",
    "rfm_best = rfm_grid_result.best_estimator_\n",
    "\n",
    "# summarize results\n",
    "print(\"Best: %f using %s\" % (rfm_grid_result.best_score_, rfm_grid_result.best_params_))"
   ]
  },
  {
   "cell_type": "markdown",
   "id": "ed4805e5",
   "metadata": {
    "papermill": {
     "duration": 0.08171,
     "end_time": "2023-06-01T01:47:20.833461",
     "exception": false,
     "start_time": "2023-06-01T01:47:20.751751",
     "status": "completed"
    },
    "tags": []
   },
   "source": [
    "## Naive Bayes"
   ]
  },
  {
   "cell_type": "code",
   "execution_count": 38,
   "id": "6c7c487a",
   "metadata": {
    "execution": {
     "iopub.execute_input": "2023-06-01T01:47:21.002865Z",
     "iopub.status.busy": "2023-06-01T01:47:21.002097Z",
     "iopub.status.idle": "2023-06-01T01:47:21.037543Z",
     "shell.execute_reply": "2023-06-01T01:47:21.036800Z",
     "shell.execute_reply.started": "2023-06-01T01:35:20.902813Z"
    },
    "papermill": {
     "duration": 0.122789,
     "end_time": "2023-06-01T01:47:21.037720",
     "exception": false,
     "start_time": "2023-06-01T01:47:20.914931",
     "status": "completed"
    },
    "tags": []
   },
   "outputs": [
    {
     "name": "stdout",
     "output_type": "stream",
     "text": [
      "Accuracy: 0.416 (0.022)\n"
     ]
    }
   ],
   "source": [
    "#instantiate NB\n",
    "nb = GaussianNB()\n",
    "\n",
    "# evaluate model\n",
    "nb_scores = cross_val_score(nb, X_train, y_train, scoring='accuracy', cv=cv, n_jobs=-1)\n",
    "\n",
    "# report performance\n",
    "print('Accuracy: %.3f (%.3f)' % (np.mean(nb_scores), np.std(nb_scores)))"
   ]
  },
  {
   "cell_type": "markdown",
   "id": "cebddd03",
   "metadata": {
    "papermill": {
     "duration": 0.081432,
     "end_time": "2023-06-01T01:47:21.199786",
     "exception": false,
     "start_time": "2023-06-01T01:47:21.118354",
     "status": "completed"
    },
    "tags": []
   },
   "source": [
    "## Support Vector Machines"
   ]
  },
  {
   "cell_type": "code",
   "execution_count": 39,
   "id": "141b8d1f",
   "metadata": {
    "execution": {
     "iopub.execute_input": "2023-06-01T01:47:21.369509Z",
     "iopub.status.busy": "2023-06-01T01:47:21.368426Z",
     "iopub.status.idle": "2023-06-01T01:47:29.613527Z",
     "shell.execute_reply": "2023-06-01T01:47:29.614069Z",
     "shell.execute_reply.started": "2023-06-01T01:35:20.948575Z"
    },
    "papermill": {
     "duration": 8.334406,
     "end_time": "2023-06-01T01:47:29.614253",
     "exception": false,
     "start_time": "2023-06-01T01:47:21.279847",
     "status": "completed"
    },
    "tags": []
   },
   "outputs": [
    {
     "name": "stdout",
     "output_type": "stream",
     "text": [
      "Fitting 5 folds for each of 25 candidates, totalling 125 fits\n",
      "Best: 0.830507 using {'C': 1, 'gamma': 0.1, 'kernel': 'rbf'}\n"
     ]
    }
   ],
   "source": [
    "#instantiate support vector machine\n",
    "svc = SVC(probability=True)\n",
    "\n",
    "#parameters to tune\n",
    "svc_param_grid = {'C': [0.1, 1, 10, 100, 1000],\n",
    "              'gamma': [1, 0.1, 0.01, 0.001, 0.0001],\n",
    "              'kernel': ['rbf']}\n",
    "\n",
    "#gridsearch\n",
    "svc_grid_search = GridSearchCV(svc, param_grid=svc_param_grid, cv=cv, n_jobs=-1, verbose=1, scoring = \"accuracy\")\n",
    "\n",
    "svc_grid_result = svc_grid_search.fit(X_train, y_train)\n",
    "\n",
    "svc_best = svc_grid_result.best_estimator_\n",
    "\n",
    "#summarize results\n",
    "print(\"Best: %f using %s\" % (svc_grid_result.best_score_, svc_grid_result.best_params_))"
   ]
  },
  {
   "cell_type": "markdown",
   "id": "b938cd25",
   "metadata": {
    "papermill": {
     "duration": 0.082249,
     "end_time": "2023-06-01T01:47:29.778087",
     "exception": false,
     "start_time": "2023-06-01T01:47:29.695838",
     "status": "completed"
    },
    "tags": []
   },
   "source": [
    "## Adaboost"
   ]
  },
  {
   "cell_type": "code",
   "execution_count": 40,
   "id": "cf69b524",
   "metadata": {
    "execution": {
     "iopub.execute_input": "2023-06-01T01:47:29.951849Z",
     "iopub.status.busy": "2023-06-01T01:47:29.951085Z",
     "iopub.status.idle": "2023-06-01T01:47:52.565571Z",
     "shell.execute_reply": "2023-06-01T01:47:52.566091Z",
     "shell.execute_reply.started": "2023-06-01T01:35:29.260008Z"
    },
    "papermill": {
     "duration": 22.70633,
     "end_time": "2023-06-01T01:47:52.566295",
     "exception": false,
     "start_time": "2023-06-01T01:47:29.859965",
     "status": "completed"
    },
    "tags": []
   },
   "outputs": [
    {
     "name": "stdout",
     "output_type": "stream",
     "text": [
      "Fitting 5 folds for each of 25 candidates, totalling 125 fits\n",
      "Best: 0.826062 using {'learning_rate': 1.0, 'n_estimators': 100}\n"
     ]
    }
   ],
   "source": [
    "#instantiate Adaboost\n",
    "ada = AdaBoostClassifier(random_state=random_state)\n",
    "\n",
    "#parameters to tune\n",
    "ada_param_grid = {\"n_estimators\" :[50, 100, 200, 300, 400],\n",
    "                  \"learning_rate\":  [0.3, 0.5, 1.0, 1.5, 2.0]}\n",
    "\n",
    "#gridsearch\n",
    "ada_grid_search = GridSearchCV(ada, param_grid=ada_param_grid, cv=cv, n_jobs=-1, verbose=1, scoring = \"accuracy\")\n",
    "\n",
    "ada_grid_result = ada_grid_search.fit(X_train, y_train)\n",
    "\n",
    "ada_best = ada_grid_result.best_estimator_\n",
    "\n",
    "#summarize results\n",
    "print(\"Best: %f using %s\" % (ada_grid_result.best_score_, ada_grid_result.best_params_))"
   ]
  },
  {
   "cell_type": "markdown",
   "id": "40c31421",
   "metadata": {
    "papermill": {
     "duration": 0.083269,
     "end_time": "2023-06-01T01:47:52.733890",
     "exception": false,
     "start_time": "2023-06-01T01:47:52.650621",
     "status": "completed"
    },
    "tags": []
   },
   "source": [
    "## Gradient Boosting"
   ]
  },
  {
   "cell_type": "code",
   "execution_count": 41,
   "id": "542ae254",
   "metadata": {
    "execution": {
     "iopub.execute_input": "2023-06-01T01:47:52.907465Z",
     "iopub.status.busy": "2023-06-01T01:47:52.906451Z",
     "iopub.status.idle": "2023-06-01T01:48:09.953986Z",
     "shell.execute_reply": "2023-06-01T01:48:09.954520Z",
     "shell.execute_reply.started": "2023-06-01T01:35:54.580260Z"
    },
    "papermill": {
     "duration": 17.136551,
     "end_time": "2023-06-01T01:48:09.954744",
     "exception": false,
     "start_time": "2023-06-01T01:47:52.818193",
     "status": "completed"
    },
    "tags": []
   },
   "outputs": [
    {
     "name": "stdout",
     "output_type": "stream",
     "text": [
      "Fitting 5 folds for each of 72 candidates, totalling 360 fits\n",
      "Best: 0.839508 using {'learning_rate': 0.1, 'max_depth': 8, 'max_features': 0.3, 'min_samples_leaf': 100, 'n_estimators': 300}\n"
     ]
    }
   ],
   "source": [
    "#Instantiate Gradient Boosting\n",
    "gbc = GradientBoostingClassifier()\n",
    "\n",
    "#parameters to tune\n",
    "gbc_param_grid = {\n",
    "    'n_estimators' : [100,200,300],\n",
    "    'learning_rate': [0.1, 0.05, 0.01],\n",
    "    'max_depth': [4, 8],\n",
    "    'min_samples_leaf': [100,150],\n",
    "    'max_features': [0.3, 0.1]\n",
    "}\n",
    "\n",
    "#gridsearch\n",
    "gbc_grid_search = GridSearchCV(gbc, param_grid=gbc_param_grid, cv=cv, n_jobs=-1, verbose=1, scoring = \"accuracy\")\n",
    "\n",
    "gbc_grid_result = gbc_grid_search.fit(X_train, y_train)\n",
    "\n",
    "gbc_best = gbc_grid_result.best_estimator_\n",
    "\n",
    "#summarize results\n",
    "print(\"Best: %f using %s\" % (gbc_grid_result.best_score_, gbc_grid_result.best_params_))"
   ]
  },
  {
   "cell_type": "markdown",
   "id": "0f946c28",
   "metadata": {
    "papermill": {
     "duration": 0.087238,
     "end_time": "2023-06-01T01:48:10.127926",
     "exception": false,
     "start_time": "2023-06-01T01:48:10.040688",
     "status": "completed"
    },
    "tags": []
   },
   "source": [
    "## K-nearest Neighbor"
   ]
  },
  {
   "cell_type": "code",
   "execution_count": 42,
   "id": "ec19de8c",
   "metadata": {
    "execution": {
     "iopub.execute_input": "2023-06-01T01:48:10.305254Z",
     "iopub.status.busy": "2023-06-01T01:48:10.304414Z",
     "iopub.status.idle": "2023-06-01T01:48:11.763093Z",
     "shell.execute_reply": "2023-06-01T01:48:11.763631Z",
     "shell.execute_reply.started": "2023-06-01T01:36:13.117121Z"
    },
    "papermill": {
     "duration": 1.549661,
     "end_time": "2023-06-01T01:48:11.763822",
     "exception": false,
     "start_time": "2023-06-01T01:48:10.214161",
     "status": "completed"
    },
    "tags": []
   },
   "outputs": [
    {
     "name": "stdout",
     "output_type": "stream",
     "text": [
      "Fitting 5 folds for each of 48 candidates, totalling 240 fits\n",
      "Best: 0.819321 using {'metric': 'manhattan', 'n_neighbors': 7, 'weights': 'uniform'}\n"
     ]
    }
   ],
   "source": [
    "#instantiate KNN\n",
    "knn = KNeighborsClassifier()\n",
    "\n",
    "#parameters to tune\n",
    "knn_param_grid = {'n_neighbors' : [3,4,5,6,7,8,9,10],\n",
    "                  'weights' : ['uniform','distance'],\n",
    "                  'metric' : ['minkowski','euclidean','manhattan']}\n",
    "\n",
    "#gridsearch\n",
    "knn_grid_search = GridSearchCV(knn, param_grid=knn_param_grid, cv=cv, n_jobs=-1, verbose=1, scoring = \"accuracy\")\n",
    "\n",
    "knn_grid_result = knn_grid_search.fit(X_train, y_train)\n",
    "\n",
    "knn_best = knn_grid_result.best_estimator_\n",
    "\n",
    "#summarize results\n",
    "print(\"Best: %f using %s\" % (knn_grid_result.best_score_, knn_grid_result.best_params_))"
   ]
  },
  {
   "cell_type": "markdown",
   "id": "1c81cdae",
   "metadata": {
    "papermill": {
     "duration": 0.087364,
     "end_time": "2023-06-01T01:48:11.942519",
     "exception": false,
     "start_time": "2023-06-01T01:48:11.855155",
     "status": "completed"
    },
    "tags": []
   },
   "source": [
    "Wow! We just built eight different models! For each model (other than Naive Bayes), we performed some degree of tuning using `GridSearchCV`. I decided not to dive into the specifics of each algorithm because there are already plenty of online resources that do great explanations (If you're not familiar with any of the algorithms, I recommend you to watch [Statquest with Josh Starmer](http://https://www.youtube.com/@statquest). He does a splendid job breaking down these algorithms into layman's terms)."
   ]
  },
  {
   "cell_type": "markdown",
   "id": "28a3a122",
   "metadata": {
    "papermill": {
     "duration": 0.089377,
     "end_time": "2023-06-01T01:48:12.123158",
     "exception": false,
     "start_time": "2023-06-01T01:48:12.033781",
     "status": "completed"
    },
    "tags": []
   },
   "source": [
    "# Model Comparison\n",
    "\n",
    "Now, let's take a look at the results shall we? Let's visualize and compare the accuracy (our main evaluation metric) of the eight models."
   ]
  },
  {
   "cell_type": "code",
   "execution_count": 43,
   "id": "ea996f25",
   "metadata": {
    "execution": {
     "iopub.execute_input": "2023-06-01T01:48:12.305306Z",
     "iopub.status.busy": "2023-06-01T01:48:12.304180Z",
     "iopub.status.idle": "2023-06-01T01:48:12.577750Z",
     "shell.execute_reply": "2023-06-01T01:48:12.578324Z",
     "shell.execute_reply.started": "2023-06-01T01:36:14.507361Z"
    },
    "papermill": {
     "duration": 0.368775,
     "end_time": "2023-06-01T01:48:12.578505",
     "exception": false,
     "start_time": "2023-06-01T01:48:12.209730",
     "status": "completed"
    },
    "tags": []
   },
   "outputs": [
    {
     "data": {
      "image/png": "[encoded data removed]",
      "text/plain": [
       "<Figure size 640x480 with 1 Axes>"
      ]
     },
     "metadata": {},
     "output_type": "display_data"
    }
   ],
   "source": [
    "performance = pd.DataFrame([logreg_grid_result.best_score_,\n",
    "                            dt_grid_result.best_score_, \n",
    "                            rfm_grid_result.best_score_,\n",
    "                            svc_grid_result.best_score_, \n",
    "                            ada_grid_result.best_score_, \n",
    "                            gbc_grid_result.best_score_, \n",
    "                            knn_grid_result.best_score_, \n",
    "                            np.mean(nb_scores)], \n",
    "                            index=['logreg', 'dt', 'rfm', 'svc', 'ada', ' gbc', 'knn', 'nb'],\n",
    "                            columns=[\"accuracy\"])\n",
    "\n",
    "sns.barplot(y='accuracy', x=performance.index, data=performance)\n",
    "plt.xlabel(\"Models\")\n",
    "plt.ylabel(\"Accuracy\")\n",
    "plt.title(\"Model Comparison\") # You can comment this line out if you don't need title\n",
    "plt.show()"
   ]
  },
  {
   "cell_type": "markdown",
   "id": "0baecbd9",
   "metadata": {
    "papermill": {
     "duration": 0.086441,
     "end_time": "2023-06-01T01:48:12.751723",
     "exception": false,
     "start_time": "2023-06-01T01:48:12.665282",
     "status": "completed"
    },
    "tags": []
   },
   "source": [
    "The **Random Forest Classifier** appears to be the top performer among all classifiers, achieving an accuracy of 85%. The remaining classifiers also perform decently, except for Naive Bayes. Therefore, we will exclude the Naive Bayes model and use the remaining seven models to build our ultimate ensemble model. The approach is simple: we combine the predictive power of these classifiers into a single large voting classifier. However, before proceeding, we need to determine whether the classifiers' predictions on the test set vary."
   ]
  },
  {
   "cell_type": "code",
   "execution_count": 44,
   "id": "1ee5f072",
   "metadata": {
    "execution": {
     "iopub.execute_input": "2023-06-01T01:48:12.950628Z",
     "iopub.status.busy": "2023-06-01T01:48:12.949514Z",
     "iopub.status.idle": "2023-06-01T01:48:13.629120Z",
     "shell.execute_reply": "2023-06-01T01:48:13.628127Z",
     "shell.execute_reply.started": "2023-06-01T01:36:14.893766Z"
    },
    "papermill": {
     "duration": 0.78535,
     "end_time": "2023-06-01T01:48:13.629295",
     "exception": false,
     "start_time": "2023-06-01T01:48:12.843945",
     "status": "completed"
    },
    "tags": []
   },
   "outputs": [
    {
     "data": {
      "image/png": "[encoded data removed]",
      "text/plain": [
       "<Figure size 640x480 with 2 Axes>"
      ]
     },
     "metadata": {},
     "output_type": "display_data"
    }
   ],
   "source": [
    "#prediction results on testing set for the seven models\n",
    "test_Survived_logreg = pd.Series(logreg_best.predict(test), name=\"logreg\")\n",
    "test_Survived_dt = pd.Series(dt_best.predict(test), name=\"dt\")\n",
    "test_Survived_rfm = pd.Series(rfm_best.predict(test), name=\"rfm\")\n",
    "test_Survived_ada = pd.Series(ada_best.predict(test), name=\"Ada\")\n",
    "test_Survived_svc = pd.Series(svc_best.predict(test), name=\"svc\")\n",
    "test_Survived_gbc = pd.Series(gbc_best.predict(test), name=\"GBC\")\n",
    "test_Survived_knn = pd.Series(knn_best.predict(test), name=\"knn\")\n",
    "\n",
    "# Concatenate all classifier results\n",
    "ensemble_results = pd.concat([test_Survived_logreg,test_Survived_dt,test_Survived_rfm,test_Survived_ada, test_Survived_svc, test_Survived_gbc, test_Survived_knn],axis=1)\n",
    "\n",
    "#construct heatmap\n",
    "g= sns.heatmap(ensemble_results.corr(),annot=True)"
   ]
  },
  {
   "cell_type": "markdown",
   "id": "31fb02da",
   "metadata": {
    "papermill": {
     "duration": 0.089526,
     "end_time": "2023-06-01T01:48:13.808166",
     "exception": false,
     "start_time": "2023-06-01T01:48:13.718640",
     "status": "completed"
    },
    "tags": []
   },
   "source": [
    "Upon evaluating the classifiers' predictions on the test set, we found that models like logistic regression, decision tree, and support vector machines have very similar prediction results, while the remaining models exhibit some degree of variance. This variance could potentially improve the performance of our ensemble model. To test this hypothesis, we will use a voting classifier to combine the predictions of the seven classifiers, both through hard and soft voting. **Hard voting classifiers** consider only the final prediction (0 or 1) of each model, while **soft voting classifiers** consider the probability (ranging from 0 to 1) outputted by each model."
   ]
  },
  {
   "cell_type": "code",
   "execution_count": 45,
   "id": "a9295ac6",
   "metadata": {
    "execution": {
     "iopub.execute_input": "2023-06-01T01:48:13.992061Z",
     "iopub.status.busy": "2023-06-01T01:48:13.991338Z",
     "iopub.status.idle": "2023-06-01T01:48:28.812254Z",
     "shell.execute_reply": "2023-06-01T01:48:28.812786Z",
     "shell.execute_reply.started": "2023-06-01T01:36:15.770928Z"
    },
    "papermill": {
     "duration": 14.914852,
     "end_time": "2023-06-01T01:48:28.813011",
     "exception": false,
     "start_time": "2023-06-01T01:48:13.898159",
     "status": "completed"
    },
    "tags": []
   },
   "outputs": [
    {
     "name": "stdout",
     "output_type": "stream",
     "text": [
      "Accuracy: 0.84 (+/- 0.04)\n",
      "Accuracy: 0.83 (+/- 0.04)\n"
     ]
    }
   ],
   "source": [
    "#hard voting classifier\n",
    "voting_hard = VotingClassifier(estimators=[('logreg', logreg_best), ('dt', dt_best),('rfm', rfm_best), ('ada',ada_best),('svc',svc_best),('gbc',gbc_best),('knn',knn_best)], voting='hard', n_jobs=-1)\n",
    "voting_hard_scores = cross_val_score(voting_hard, X_train, y_train, cv=cv)\n",
    "\n",
    "#soft voting classifier\n",
    "voting_soft = VotingClassifier(estimators=[('logreg', logreg_best), ('dt', dt_best),('rfm', rfm_best), ('ada',ada_best),('svc',svc_best),('gbc',gbc_best),('knn',knn_best)], voting='soft', n_jobs=-1)\n",
    "voting_soft_scores = cross_val_score(voting_soft, X_train, y_train, cv=cv)\n",
    "\n",
    "#summarize cross validation results\n",
    "print(\"Accuracy: %0.2f (+/- %0.2f)\" % (voting_hard_scores.mean(), voting_hard_scores.std() * 2))\n",
    "print(\"Accuracy: %0.2f (+/- %0.2f)\" % (voting_soft_scores.mean(), voting_soft_scores.std() * 2))"
   ]
  },
  {
   "cell_type": "markdown",
   "id": "2eb2b4ed",
   "metadata": {
    "papermill": {
     "duration": 0.089803,
     "end_time": "2023-06-01T01:48:28.992667",
     "exception": false,
     "start_time": "2023-06-01T01:48:28.902864",
     "status": "completed"
    },
    "tags": []
   },
   "source": [
    "Not too bad! Both the hard and soft voting classifiers achieved a cross validation accuracy of 0.83. While it seems like the results of the two ensemble models are slightly worse than that of random forest classifier, let's submit the prediction results of all these three models.  "
   ]
  },
  {
   "cell_type": "code",
   "execution_count": 46,
   "id": "358a84c9",
   "metadata": {
    "execution": {
     "iopub.execute_input": "2023-06-01T01:48:29.182462Z",
     "iopub.status.busy": "2023-06-01T01:48:29.181630Z",
     "iopub.status.idle": "2023-06-01T01:48:32.423132Z",
     "shell.execute_reply": "2023-06-01T01:48:32.422393Z",
     "shell.execute_reply.started": "2023-06-01T01:37:33.112735Z"
    },
    "papermill": {
     "duration": 3.339278,
     "end_time": "2023-06-01T01:48:32.423298",
     "exception": false,
     "start_time": "2023-06-01T01:48:29.084020",
     "status": "completed"
    },
    "tags": []
   },
   "outputs": [],
   "source": [
    "#fit and train our ensemble models\n",
    "voting_hard.fit(X_train, y_train)\n",
    "voting_soft.fit(X_train, y_train)\n",
    "\n",
    "#make predictions using RFM and our two ensemble model\n",
    "rfm_predictions = rfm_best.predict(test)\n",
    "voting_hard_predictions = voting_hard.predict(test)\n",
    "voting_soft_predictions = voting_soft.predict(test)"
   ]
  },
  {
   "cell_type": "markdown",
   "id": "b6a06104",
   "metadata": {
    "papermill": {
     "duration": 0.091032,
     "end_time": "2023-06-01T01:48:32.606887",
     "exception": false,
     "start_time": "2023-06-01T01:48:32.515855",
     "status": "completed"
    },
    "tags": []
   },
   "source": [
    "When submitting your results to Kaggle, it's also important to be aware of the datatype. If our prediction is a `float` dataype, the system would not register the result, leading to a score of zero. So we must change the datatype to `int`."
   ]
  },
  {
   "cell_type": "code",
   "execution_count": 47,
   "id": "92d3c190",
   "metadata": {
    "execution": {
     "iopub.execute_input": "2023-06-01T01:48:32.792043Z",
     "iopub.status.busy": "2023-06-01T01:48:32.791215Z",
     "iopub.status.idle": "2023-06-01T01:48:32.796420Z",
     "shell.execute_reply": "2023-06-01T01:48:32.796990Z",
     "shell.execute_reply.started": "2023-06-01T01:39:09.392409Z"
    },
    "papermill": {
     "duration": 0.099887,
     "end_time": "2023-06-01T01:48:32.797187",
     "exception": false,
     "start_time": "2023-06-01T01:48:32.697300",
     "status": "completed"
    },
    "tags": []
   },
   "outputs": [],
   "source": [
    "#convert prediction from float to int for submission\n",
    "rfm_predictions_int = [int(pred) for pred in rfm_predictions]\n",
    "voting_hard_predictions_int = [int(pred) for pred in voting_hard_predictions]\n",
    "voting_soft_predictions_int = [int(pred) for pred in voting_soft_predictions]"
   ]
  },
  {
   "cell_type": "code",
   "execution_count": 48,
   "id": "ac5bf9f3",
   "metadata": {
    "execution": {
     "iopub.execute_input": "2023-06-01T01:48:32.985314Z",
     "iopub.status.busy": "2023-06-01T01:48:32.984528Z",
     "iopub.status.idle": "2023-06-01T01:48:33.010442Z",
     "shell.execute_reply": "2023-06-01T01:48:33.011074Z",
     "shell.execute_reply.started": "2023-06-01T01:40:14.037674Z"
    },
    "papermill": {
     "duration": 0.122129,
     "end_time": "2023-06-01T01:48:33.011280",
     "exception": false,
     "start_time": "2023-06-01T01:48:32.889151",
     "status": "completed"
    },
    "tags": []
   },
   "outputs": [],
   "source": [
    "#read the gender_submission.csv file\n",
    "submission = pd.read_csv(\"../data/gender_submission.csv\")\n",
    "\n",
    "#random forest submission\n",
    "submission[\"Survived\"] = rfm_predictions_int\n",
    "submission.to_csv('rfm_submission.csv', index=False)\n",
    "\n",
    "#voting hard submission\n",
    "submission[\"Survived\"] = voting_hard_predictions_int\n",
    "submission.to_csv('voting_hard_submission.csv', index=False)\n",
    "\n",
    "#voting soft submission\n",
    "submission[\"Survived\"] = voting_soft_predictions_int\n",
    "submission.to_csv('voting_soft_submission.csv', index=False)"
   ]
  },
  {
   "cell_type": "markdown",
   "id": "088233dc",
   "metadata": {
    "papermill": {
     "duration": 0.09111,
     "end_time": "2023-06-01T01:48:33.195135",
     "exception": false,
     "start_time": "2023-06-01T01:48:33.104025",
     "status": "completed"
    },
    "tags": []
   },
   "source": [
    "# Testing Results\n",
    "\n",
    "After submitting the prediction results, here are the final scores.\n",
    "\n",
    "* **Random Forest**: 0.76794\n",
    "* **Voting Hard**: 0.78229\n",
    "* **Voting Soft**: 0.7799\n",
    "\n",
    "The final testing results of our models were weaker than their performance during cross-validation. This could be a sign of overfitting, but there could be other reasons as well. After reviewing other forums and posts, we found that the performance of any model on this dataset is generally capped at around 80% accuracy. Given this constraint, we believe that our models are performing well. In fact, the two ensemble models we developed performed slightly better than the random forest classifier on the testing dataset. This is great news, proving the effectiveness and power of consolidating multiple models! While we could continue to further improve our models by exploring other data engineering techniques, hyperparameter tuning, or more sophisticated models, we are satisfied with the current results. If you found this notebook helpful, please consider giving it an upvote. Thank you, and cheers <3!"
   ]
  }
 ],
 "metadata": {
  "kernelspec": {
   "display_name": "Python 3",
   "language": "python",
   "name": "python3"
  },
  "language_info": {
   "codemirror_mode": {
    "name": "ipython",
    "version": 3
   },
   "file_extension": ".py",
   "mimetype": "text/x-python",
   "name": "python",
   "nbconvert_exporter": "python",
   "pygments_lexer": "ipython3",
   "version": "3.7.12"
  },
  "papermill": {
   "default_parameters": {},
   "duration": 359.909475,
   "end_time": "2023-06-01T01:48:34.299675",
   "environment_variables": {},
   "exception": null,
   "input_path": "__notebook__.ipynb",
   "output_path": "__notebook__.ipynb",
   "parameters": {},
   "start_time": "2023-06-01T01:42:34.390200",
   "version": "2.3.3"
  }
 },
 "nbformat": 4,
 "nbformat_minor": 5
}
